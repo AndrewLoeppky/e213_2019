{
 "cells": [
  {
   "cell_type": "markdown",
   "metadata": {
    "lines_to_next_cell": 0,
    "toc": true
   },
   "source": [
    "<h1>Table of Contents<span class=\"tocSkip\"></span></h1>\n",
    "<div class=\"toc\"><ul class=\"toc-item\"></ul></div>"
   ]
  },
  {
   "cell_type": "markdown",
   "metadata": {},
   "source": [
    "**EOSC 213**\n",
    "\n",
    "**Mixing calculations**\n",
    "\n",
    "**ODEs and Euler’s method**\n",
    "\n",
    "The objective of this assignment is to create a python program that\n",
    "computes the concentration of sulfate in time in the water in a tailings\n",
    "management facility (TMF) at a mine site.\n",
    "\n",
    "**Problem description and conceptual model**\n",
    "\n",
    "Sulfate $SO_{4}^{2 -}$ is one of the “major” dissolved constituents in\n",
    "most terrestrial waters (the others being sodium, calcium, magnesium,\n",
    "bicarbonate and chloride). Sulfate is not poisonous, but much in the\n",
    "same way that too much salt makes water undrinkable, too much sulfate\n",
    "can be too and is thus an environmental concern.\n",
    "\n",
    "Furthermore, high sulfate concentrations are usually associated with acidic conditions (think about sulfuric acid producing sulfates). In acidic conditions, heavy metals (which are poisonous) might be released from rock dissolution, ... Therefore, monitoring and predicting the sulfate content in groundwater is an essential environmental concern.\n",
    "\n",
    "We will go back to the TMF problem, where we want to know and assess the sulfate concentration evolution through time.\n",
    "\n",
    "**Identification of sulfate sources**\n",
    "\n",
    "To compute the concentration of sulfate in the TMF water, we need to\n",
    "know where it is coming from and going to and use that knowledge to\n",
    "develop a conceptual model describing the fate of sulfate in our system. That conceptual model will be translated into a computational model.\n",
    "\n",
    "The figure below is a conceptual sketch of the main sources and losses\n",
    "of sulfate in the TMF water:\n",
    "\n",
    "![](figures/tmf_box.png)\n",
    "\n",
    "1)  From the pit. To keep the pit dry, water is constantly pumped out of\n",
    "    the pit and put into the TMF at a rate $Q_{\\text{pit}}$\n",
    "    (L/s of water). The pit water has a sulfate concentration of\n",
    "    $c_{\\text{pit}}$ in mg/L.\n",
    "\n",
    "2)  From the mill. The tailings are pumped into the TMF as a slurry of\n",
    "    tailings particles (fine, sand-size ground rock) and water. Assume\n",
    "    that the water from the mill enters the TMF at a rate of\n",
    "    $Q_{\\text{mill}}\\ $ (L/s of water), with a sulfate\n",
    "    concentration of $c_{\\text{mill}}$ (mg/L).\n",
    "\n",
    "3)  Diffusing from the tailings porewater at the bottom of the TMF into\n",
    "    the water column above. Sulfate dissolves from the tailings\n",
    "    particles into the adjacent porewater by oxidation of the sulfide\n",
    "    minerals in the particles. Because the ratio of rock to water is\n",
    "    high in the tailings sediments at the bottom, the porewater sulfate\n",
    "    concentration in the tailings, $c_{\\text{pore}}$, is always\n",
    "    higher than in the water in the TMF. Accordingly, sulfate tends to\n",
    "    diffuse into the TMF water from the bottom porewater at a rate\n",
    "    proportional to the difference in concentration between the\n",
    "    porewater concentration and the concentration in the TMF,\n",
    "    $c_{\\text{TMF}}.$ That is, the flux of sulfate from the bottom can\n",
    "    be written (a positive quantity when sulfate is entering into the\n",
    "    TMF):\n",
    "\n",
    "$j_{\\text{pore}} = k\\left( c_{\\text{pore}} - c_{\\text{TMF}} \\right)$\n",
    "\n",
    "where $j_{\\text{pore}}\\ mg/(s \\cdot m^{2})$ is the flux rate of\n",
    "sulfate per unit area of the bottom of the TMF and $k$ is the flux\n",
    "coefficient with units of $L/(s \\cdot m^{2})$ . To compute\n",
    "$J_{\\text{pore}}$, the total mass flux rate for the whole TMF, with\n",
    "units of $\\frac{\\text{mg}}{s}$, we must multiply the rate per unit\n",
    "area $j_{\\text{area}}$ by the total area of the TMF bottom\n",
    "$A_{\\text{bottom}}\\ $ in $m^{2}$:\n",
    "\n",
    "$J_{\\text{pore}} = A_{\\text{bottom}}{\\times j}_{\\text{pore}}$\n",
    "\n",
    "4)  Leaving via the discharge ditch. Sulfate leaves the TMF with the\n",
    "    water that is discharged at a rate $Q_{\\text{discharge}}$ (L/s)\n",
    "    from the TMF to the environment. SIMPLIFYING ASSUMPTION: if we\n",
    "    assume that the water in the TMF is well mixed at all times, then\n",
    "    the concentration in the TMF, $c_{\\text{TMF}}$ is the same at all\n",
    "    points in the TMF, and therefore the water leaving the TMF has that\n",
    "    same concentration $c_{\\text{TMF}}\\ $.\n",
    "\n",
    "**Parameters**\n",
    "\n",
    "You will need these parameters for your\n",
    "model\n",
    "\n",
    "| Symbol                   | Symbol Units                | Description                                                  |&nbsp; &nbsp; &nbsp; &nbsp; Value                   |\n",
    "| ------------------------ | --------------------- | ------------------------------------------------------------ | ----------------------- |\n",
    "| $c_{\\text{pit}}$       | $mg/L$              | Concentration of sulfate in pit water (assume constant)      | $50$                  |\n",
    "| $Q_{\\text{pit}}$       | $L/s$           | Flow rate of water from the pit into TMF (assume constant)   | 30                   |\n",
    "| $c_{\\text{mill}}$      | $mg/L$              | Concentration of sulfate in mill water (assume constant)     | $700$                 |\n",
    "| $Q_{\\text{mill}}$      | $L/s$           | Flow rate of water from mill into TMF (assume constant)      | 14                   |\n",
    "| $Q_{\\text{discharge}}$ | $L/s$           | Flow rate of water from TMF to environment (assume constant) | 44                   |\n",
    "| $c_{\\text{pore}}$      | $mg/L$              | Concentration of sulfate in porewater at bottom of pond      | 2000                    |\n",
    "| $k$                    | $L/(s \\cdot m^{2})$ | Flux coefficient from porewater to water column              | $2.5 \\times 10^{- 5}$ |\n",
    "| $A_{\\text{bottom}}$    | $m^{2}$             | Total area of TMF bottom                                     | $3 \\times 10^{5}$     |\n",
    "| $V_{\\text{TMF}}$       | $L$             | Volume of water in TMF at start of simulation                | $8.1 \\times 10^{6}$   |\n",
    "| $c_{0}$                | $mg/L$              | Concentration of sulfate in TMF water at start of simulation | $93$                  |\n",
    "\n",
    "**Model**\n",
    "\n",
    "(to be finished)\n",
    "\n",
    "Assume all parameters are constant\n",
    "\n",
    "Use Euler’s method with daily time steps\n",
    "\n",
    "Compute concentrations for 3 years\n",
    "\n",
    "Plot concentration in TMF versus time\n",
    "\n",
    "Plot cumulative sulfate discharged to environment versus time\n",
    "\n"
   ]
  },
  {
   "cell_type": "markdown",
   "metadata": {},
   "source": [
    "**Evolution of the mass of water**\n",
    "\n",
    "First, we will check the evolution of the volume of water in the TMF. Let us denote by $V(t)$ the volume of water in the TMF at every time step.\n",
    "\n",
    "The flux from the pit and the mill are positive source terms for the volume of water, while the discharge is a negative source term (a sink term). \n",
    "\n",
    "Over a certain time $\\Delta t$, the amount of water (in L) which is coming in/out the TMF are denoted $S_{\\text{pit}}, $S_{\\text{mill}}, $S_{\\text{dis}} and are equal to\n",
    "\n",
    "\\begin{equation}\n",
    "\\left\\lbrace\n",
    "\\begin{array}{lll}\n",
    "S_{\\text{pit}} & = &  Q_{\\text{pit}} \\Delta t \\\\\n",
    "S_{\\text{mill}} & = &  Q_{\\text{mill}} \\Delta t \\\\\n",
    "S_{\\text{dis}} & = &  Q_{\\text{dis}} \\Delta t \\\\\n",
    "\\end{array}\n",
    "\\right.\n",
    "\\end{equation}\n",
    "\n",
    "Therefore, the volume $V$ of water in the TMF over the period [$t$;$t+\\Delta t]$ is:\n",
    "\n",
    "\\begin{equation}\n",
    "\\begin{array}{llll}\n",
    "& V(t+\\Delta t) & = &  V(t) + S_{\\text{pit}} + S_{\\text{mill}} - S_{\\text{dis}} \\\\\n",
    "\\Longleftrightarrow & V(t+\\Delta t) & = &  Q_{\\text{pit}} \\Delta t + Q_{\\text{mill}} \\Delta t - Q_{\\text{dis}} \\Delta t \\\\\n",
    "\\Longleftrightarrow & \\frac{V(t+\\Delta t)-V(t)}{\\Delta t} & = &  Q_{\\text{pit}}  + Q_{\\text{mill}}  - Q_{\\text{dis}}  \\\\\n",
    "\\end{array}\n",
    "\\end{equation}\n",
    "\n",
    "Considering the values given, we have:\n",
    "\n",
    "\\begin{equation}\n",
    "\\frac{V(t+\\Delta t)-V(t)}{\\Delta t} = 30 + 14 - 44 = 0 \\Longleftrightarrow V(t) = V_0\n",
    "\\end{equation}\n",
    "\n",
    "Indicating that the volume of water is constant through time.\n",
    "\n",
    "Let's assigne a variable whose value is the volume of water in the TMF:"
   ]
  },
  {
   "cell_type": "code",
   "execution_count": 2,
   "metadata": {
    "lines_to_next_cell": 2
   },
   "outputs": [],
   "source": [
    "V0 = 8.1e9 # volume of water in L"
   ]
  },
  {
   "cell_type": "markdown",
   "metadata": {},
   "source": [
    "**Evolution of the mass of sulfates**\n",
    "\n",
    "We have 4 main processes impacting the quantity of sulfates in the TMF. We will compute the evolution of this mass over time. First, initialize the required variable (initial mass, and the different input parameters).\n",
    "\n",
    "\n"
   ]
  },
  {
   "cell_type": "code",
   "execution_count": 3,
   "metadata": {
    "lines_to_next_cell": 2
   },
   "outputs": [
    {
     "data": {
      "text/plain": [
       "753300000000.0"
      ]
     },
     "execution_count": 3,
     "metadata": {},
     "output_type": "execute_result"
    }
   ],
   "source": [
    "c0 = 93 # initial concentration\n",
    "Q_pit = 30\n",
    "Q_mill = 14\n",
    "Q_dis = 44\n",
    "\n",
    "c_pit = 50\n",
    "c_pore = 2000\n",
    "c_mill = 700\n",
    "\n",
    "k = 2.5e-5\n",
    "Area = 3e5\n",
    "\n",
    "#Initial mass of sulfates = Volume of water * c0\n",
    "m0 = c0*V0\n",
    "m0"
   ]
  },
  {
   "cell_type": "markdown",
   "metadata": {},
   "source": [
    "1. Advective flux from the pit and the mill\n",
    "\n",
    "We have a source of sulfates from the pit. Over a certain time $\\Delta t$, the volume of water coming from the pit is $S_{\\text{pit}} = Q_{\\text{pit}} \\Delta t$. This volume of water has a sulfate concentration corresponding to the pit concentration. So, the total mass of sulfate from the pit which arrived in the pit over the same period, $M_{\\text{pit}}$ is simply:\n",
    "\\begin{equation}\n",
    "M_{\\text{pit}} = S_{\\text{pit}}  c_{\\text{pit}} = Q_{\\text{pit}}  c_{\\text{pit}} \\Delta t\n",
    "\\end{equation}\n",
    "\n",
    "You can always check the units:\n",
    "\\begin{equation}\n",
    "\\overbrace{M_{\\text{pit}}}^{mg} = \\overbrace{Q_{\\text{pit}}}^{L/s}  \\, \\overbrace{c_{\\text{pit}}}^{mg/L} \\, \\overbrace{\\Delta t}^{s}\n",
    "\\end{equation}\n",
    "\n",
    "\n",
    "Compute the mass of sulfates after 1 day if the pit is the only source of sulfate. Create a variable S_pit corresponding to the mass of sulfates brought by the pit.\n",
    "\n"
   ]
  },
  {
   "cell_type": "code",
   "execution_count": 11,
   "metadata": {},
   "outputs": [
    {
     "data": {
      "text/plain": [
       "129600000"
      ]
     },
     "execution_count": 11,
     "metadata": {},
     "output_type": "execute_result"
    }
   ],
   "source": [
    "dt = 1 # day\n",
    "Seconds_in_a_day = 24*3600\n",
    "dt = dt*Seconds_in_a_day\n",
    "m = m0 + Q_pit*c_pit*dt\n",
    "S_pit = Q_pit*c_pit*dt\n",
    "\n",
    "S_pit"
   ]
  },
  {
   "cell_type": "markdown",
   "metadata": {},
   "source": [
    "2. Advective flux from the mill\n",
    "\n",
    "Do the same if we only consider the mill as a sulfate source. (name of the variable = S_mill)\n",
    "\n"
   ]
  },
  {
   "cell_type": "code",
   "execution_count": 12,
   "metadata": {},
   "outputs": [
    {
     "data": {
      "text/plain": [
       "846720000"
      ]
     },
     "execution_count": 12,
     "metadata": {},
     "output_type": "execute_result"
    }
   ],
   "source": [
    "m = m0 + Q_mill*c_mill*dt\n",
    "S_mill = Q_mill*c_mill*dt\n",
    "S_mill"
   ]
  },
  {
   "cell_type": "markdown",
   "metadata": {},
   "source": [
    "3. Discharge flux from the TMF\n",
    "\n",
    "The same development can be performed for the discharge of water. The volume of water leaving the TMF over a certain period $\\Delta t$ is $S_{\\text{dis}} = Q_{\\text{dis}} \\Delta t$. The concentration of sulfates in this volume corresponds to the concentration of sulfates in the TMF $c_{\\text{TMF}}$, so that we can write:\n",
    "\n",
    "\\begin{equation}\n",
    "M_{\\text{dis}} = Q_{\\text{dis}}  c_{\\text{TMF}} \\Delta t\n",
    "\\end{equation}\n",
    "\n",
    "How will the discharge change the mass of sulfates over one day? Create a variable called S_dis which stores that value.\n"
   ]
  },
  {
   "cell_type": "code",
   "execution_count": 13,
   "metadata": {},
   "outputs": [
    {
     "data": {
      "text/plain": [
       "353548800"
      ]
     },
     "execution_count": 13,
     "metadata": {},
     "output_type": "execute_result"
    }
   ],
   "source": [
    "m = m0 - Q_dis*c0*dt\n",
    "S_dis = Q_dis*c0*dt\n",
    "S_dis"
   ]
  },
  {
   "cell_type": "markdown",
   "metadata": {},
   "source": [
    "4. First order mass transfer\n",
    "\n",
    "The mass flux was written as:\n",
    "\\begin{equation}\n",
    "J_{\\text{pore}} = \\overbrace{A_{\\text{bottom}}}^{m^2} \\overbrace{k}^{L . s^{-1} . m^{-2}}  \\left( \\overbrace{c_{\\text{pore}} - c_{\\text{TMF}}}^{mg . L^{-1}} \\right)\n",
    "\\end{equation}\n",
    "which is in the units of mg/s. If this flux is constant over time, the added mass of sulfates over a certain time $\\Delta t$ corresponds to the latter quantity multiplied by the the quantity $J_{\\text{pore}}$ multiplied by $\\Delta t$:\n",
    "\n",
    "\\begin{equation}\n",
    "M_{\\text{pore}} = A_{\\text{bottom}} k \\left( c_{\\text{pore}} - c_{\\text{TMF}}  \\right) \\Delta t\n",
    "\\end{equation}\n",
    "\n",
    "How will this mass transfer impact the mass of sulfate? Create a variable S_pore which stores the value of the sulfate brought by this first order mass transfer\n"
   ]
  },
  {
   "cell_type": "code",
   "execution_count": 23,
   "metadata": {},
   "outputs": [
    {
     "name": "stdout",
     "output_type": "stream",
     "text": [
      "1235736000.0\n"
     ]
    }
   ],
   "source": [
    "m = m0 + Area * k * (c_pore-c0) * dt\n",
    "S_pore = Area * k * (c_pore-c0) * dt\n",
    "print(S_pore)"
   ]
  },
  {
   "cell_type": "markdown",
   "metadata": {},
   "source": [
    "Now, compute the total evolution of the mass of sulfates after one day, and print its value and how it has changed.\n"
   ]
  },
  {
   "cell_type": "code",
   "execution_count": 25,
   "metadata": {},
   "outputs": [
    {
     "name": "stdout",
     "output_type": "stream",
     "text": [
      "1235736000.0\n",
      "129600000\n",
      "846720000\n",
      "353548800\n"
     ]
    },
    {
     "data": {
      "text/plain": [
       "1858507200.0"
      ]
     },
     "execution_count": 25,
     "metadata": {},
     "output_type": "execute_result"
    }
   ],
   "source": [
    "m = m0 + S_pore + S_pit + S_mill - S_dis\n",
    "print(S_pore)\n",
    "print(S_pit)\n",
    "print(S_mill)\n",
    "print(S_dis)\n",
    "S_pore + S_pit + S_mill - S_dis"
   ]
  },
  {
   "cell_type": "markdown",
   "metadata": {},
   "source": [
    "This is the mass, to compute the new concentration, we have to divide by the mass of water. "
   ]
  },
  {
   "cell_type": "code",
   "execution_count": 26,
   "metadata": {},
   "outputs": [
    {
     "data": {
      "text/plain": [
       "93.22944533333333"
      ]
     },
     "execution_count": 26,
     "metadata": {},
     "output_type": "execute_result"
    }
   ],
   "source": [
    "c = m/V0\n",
    "c"
   ]
  },
  {
   "cell_type": "markdown",
   "metadata": {},
   "source": [
    "We can see that concentration has increased by only 0.2%."
   ]
  },
  {
   "cell_type": "code",
   "execution_count": null,
   "metadata": {
    "lines_to_next_cell": 2
   },
   "outputs": [],
   "source": []
  },
  {
   "cell_type": "markdown",
   "metadata": {},
   "source": [
    "We have computed the evolution of the mass of sulfates in the TMF after one day. Let us apply the same method over a large period of time, using daily timesteps again. Let's say we want to model the evolution of the mass over a period of 10 years. Create and initialize the required arrays.\n"
   ]
  },
  {
   "cell_type": "code",
   "execution_count": 27,
   "metadata": {},
   "outputs": [],
   "source": [
    "import matplotlib.dates as mdates\n",
    "import matplotlib.pyplot as plt\n",
    "import numpy as np\n",
    "import pandas as pd"
   ]
  },
  {
   "cell_type": "markdown",
   "metadata": {},
   "source": [
    "Before setting an array, it is better to know its size.\n"
   ]
  },
  {
   "cell_type": "code",
   "execution_count": 57,
   "metadata": {},
   "outputs": [],
   "source": [
    "Tf = 10 # years\n",
    "n = 365*Tf # 1 calculation per day, for Tf years\n",
    "\n",
    "m = np.zeros(n, float)\n",
    "c = np.zeros(n, float)\n",
    "Spit = np.zeros(n,float)\n",
    "Smill = np.zeros(n,float)\n",
    "Sdis = np.zeros(n,float)\n",
    "Spore = np.zeros(n,float)\n",
    "time = np.zeros(n,float)"
   ]
  },
  {
   "cell_type": "markdown",
   "metadata": {},
   "source": [
    "Then, let us initialize the initial values.\n"
   ]
  },
  {
   "cell_type": "code",
   "execution_count": 58,
   "metadata": {
    "lines_to_next_cell": 2
   },
   "outputs": [],
   "source": [
    "m[0] = m0\n",
    "c[0] = c0"
   ]
  },
  {
   "cell_type": "markdown",
   "metadata": {},
   "source": [
    "Then, we need to compute these terms at every timesteps, by looping over the different times\n"
   ]
  },
  {
   "cell_type": "code",
   "execution_count": 62,
   "metadata": {},
   "outputs": [],
   "source": [
    "for i in range(n - 1):\n",
    "    S_pit = Q_pit*c_pit\n",
    "    S_mill = Q_mill*c_mill\n",
    "    S_dis = Q_dis*c[i]\n",
    "    S_pore = Area*k*(c_pore-c[i])\n",
    "    \n",
    "    Spit[i+1] = S_pit*dt/1e6\n",
    "    Smill[i+1] = S_mill*dt/1e6\n",
    "    Sdis[i+1] = S_dis*dt/1e6\n",
    "    Spore[i+1] = S_pore*dt/1e6\n",
    "    \n",
    "    m[i+1] = m[i] + (S_pore + S_pit + S_mill - S_dis)*dt\n",
    "    c[i+1] = m[i+1]/V0\n",
    "    time[i+1] = i/365 #time in years\n",
    "    \n",
    "    "
   ]
  },
  {
   "cell_type": "markdown",
   "metadata": {},
   "source": [
    "The calculation is now performed, let us look at the results using matplotlib."
   ]
  },
  {
   "cell_type": "code",
   "execution_count": 63,
   "metadata": {},
   "outputs": [
    {
     "data": {
      "image/png": "[encoded data removed]",
      "text/plain": [
       "<Figure size 576x576 with 2 Axes>"
      ]
     },
     "metadata": {
      "needs_background": "light"
     },
     "output_type": "display_data"
    }
   ],
   "source": [
    "# call a figure with two plots, vertically stacked, sharing x(time) axis\n",
    "\n",
    "fig, (ax1, ax2) = plt.subplots(2, 1, sharex=True, figsize=(8, 8))\n",
    "\n",
    "# First plot is the evolution of concentration\n",
    "\n",
    "ax1.plot(time, c, label=\"Concentration\")\n",
    "ax1.set(ylabel=\"Concentration (mg/L)\")\n",
    "\n",
    "\n",
    "# Second plot is the relative contribution to the concentration\n",
    "\n",
    "ax2.plot(time, Spit, label=\"Source (mg/L) from the pit\")\n",
    "ax2.plot(time, Smill, label=\"Source (mg/L) from the mill\")\n",
    "ax2.plot(time, Spore, label=\"Source (mg/L) from the underground\")\n",
    "ax2.plot(time, Sdis, label=\"Sink (mg/L) towards the discharge\")\n",
    "ax2.set(xlabel=\"time\", ylabel=\"Different Contribution (kg)\")\n",
    "ax2.legend();"
   ]
  },
  {
   "cell_type": "markdown",
   "metadata": {},
   "source": []
  },
  {
   "cell_type": "markdown",
   "metadata": {},
   "source": [
    "**Mass balance**\n",
    "\n",
    "Therefore, if the mass of sulfates at a certain time $t_0$ $m(t)$ is $m(t_0) = m_0$, the mass of sulfates at $t+\\Delta t$ is:\n",
    "\\begin{equation}\n",
    "\\begin{array}{llll}\n",
    "& m(t_0 + \\Delta t) & = & m(t_0) + M_{\\text{pit}} + M_{\\text{mill}} + M_{\\text{pore}} - M_{\\text{dis}} \\\\\n",
    "\\Longleftrightarrow & m(t_0 + \\Delta t) & = & m(t_0) + \\left(Q_{\\text{pit}}  c_{\\text{pit}} + Q_{\\text{mill}}  c_{\\text{mill}} + A_{\\text{bottom}} k \\left( c_{\\text{pore}} - c_{\\text{TMF}}  \\right)    -Q_{\\text{dis}} c_{\\text{TMF}}\\right) \\Delta t \\\\\n",
    "\\Longleftrightarrow & \\frac{m(t_0 + \\Delta t)-m(t_0)}{\\Delta t} & = &  Q_{\\text{pit}}  c_{\\text{pit}} + Q_{\\text{mill}}  c_{\\text{mill}} + A_{\\text{bottom}} k \\left( c_{\\text{pore}} - c_{\\text{TMF}}  \\right)    -Q_{\\text{dis}} c_{\\text{TMF}}  \\\\\n",
    "\\end{array}\n",
    "\\end{equation}\n",
    "\n",
    "The link between concentration and mass of sulfates is the volume of water\n",
    "\\begin{equation}\n",
    "c_{\\text{TMF}}(t) = \\frac{m(t)}{V(t)}\n",
    "\\end{equation}\n",
    "\n",
    "But, since the volume of water is constant, we have:\n",
    "\\begin{equation}\n",
    "c_{\\text{TMF}}(t) = \\frac{m(t)}{V_0}\n",
    "\\end{equation}\n",
    "\n",
    "Therefore, if we divide the latter equation by $V_0$, we have:\n",
    "\\begin{equation}\n",
    "\\frac{c_{\\text{TMF}}(t_0 + \\Delta t)-c_{\\text{TMF}}(t_0)}{\\Delta t} =  \\frac{Q_{\\text{pit}}  c_{\\text{pit}} + Q_{\\text{mill}}  c_{\\text{mill}} + A_{\\text{bottom}} k \\left( c_{\\text{pore}} - c_{\\text{TMF}}  \\right)    -Q_{\\text{dis}} c_{\\text{TMF}}}{V_0}\n",
    "\\end{equation}\n",
    "\n",
    "Going to the limit $\\Delta t \\rightarrow 0$ (i.e. $\\Delta t= dt$), this becomes:\n",
    "\\begin{equation}\n",
    "\\frac{dc_{\\text{TMF}}}{dt} =  \\frac{Q_{\\text{pit}}  c_{\\text{pit}} + Q_{\\text{mill}}  c_{\\text{mill}} + A_{\\text{bottom}} k \\left( c_{\\text{pore}} - c_{\\text{TMF}}  \\right)    -Q_{\\text{dis}} c_{\\text{TMF}}}{V_0}\n",
    "\\end{equation}\n",
    "which is a 1$^{st}$ order linear ODE."
   ]
  },
  {
   "cell_type": "code",
   "execution_count": null,
   "metadata": {
    "lines_to_next_cell": 2
   },
   "outputs": [],
   "source": []
  }
 ],
 "metadata": {
  "jupytext": {
   "metadata_filter": {
    "cells": {
     "additional": "all"
    },
    "notebook": {
     "additional": "all"
    }
   },
   "text_representation": {
    "extension": ".py",
    "format_name": "percent",
    "format_version": "1.2",
    "jupytext_version": "0.8.6"
   }
  },
  "kernelspec": {
   "display_name": "Python 3",
   "language": "python",
   "name": "python3"
  },
  "language_info": {
   "codemirror_mode": {
    "name": "ipython",
    "version": 3
   },
   "file_extension": ".py",
   "mimetype": "text/x-python",
   "name": "python",
   "nbconvert_exporter": "python",
   "pygments_lexer": "ipython3",
   "version": "3.6.5"
  },
  "toc": {
   "base_numbering": 1,
   "nav_menu": {},
   "number_sections": true,
   "sideBar": true,
   "skip_h1_title": false,
   "title_cell": "Table of Contents",
   "title_sidebar": "Contents",
   "toc_cell": true,
   "toc_position": {},
   "toc_section_display": true,
   "toc_window_display": true
  }
 },
 "nbformat": 4,
 "nbformat_minor": 2
}
