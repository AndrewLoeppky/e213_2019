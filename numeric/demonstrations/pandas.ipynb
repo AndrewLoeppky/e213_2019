{
 "cells": [
  {
   "cell_type": "markdown",
   "metadata": {},
   "source": [
    "This pandas notebook is part of Ryan Abernathy's [Research Computing in the Earth Sciences](https://rabernat.github.io/research_computing/) course at Columbia."
   ]
  },
  {
   "cell_type": "markdown",
   "metadata": {
    "toc": true
   },
   "source": [
    "<h1>Table of Contents<span class=\"tocSkip\"></span></h1>\n",
    "<div class=\"toc\" style=\"margin-top: 1em;\"><ul class=\"toc-item\"><li><span><a href=\"#Pandas\" data-toc-modified-id=\"Pandas-1\"><span class=\"toc-item-num\">1&nbsp;&nbsp;</span>Pandas</a></span><ul class=\"toc-item\"><li><ul class=\"toc-item\"><li><span><a href=\"#Pandas-capabilities-(from-the-Pandas-website):\" data-toc-modified-id=\"Pandas-capabilities-(from-the-Pandas-website):-1.0.1\"><span class=\"toc-item-num\">1.0.1&nbsp;&nbsp;</span>Pandas capabilities (from the Pandas website):</a></span></li></ul></li><li><span><a href=\"#Pandas-Data-Structures:-Series\" data-toc-modified-id=\"Pandas-Data-Structures:-Series-1.1\"><span class=\"toc-item-num\">1.1&nbsp;&nbsp;</span>Pandas Data Structures: Series</a></span></li><li><span><a href=\"#Pandas-Data-Structures:-DataFrame\" data-toc-modified-id=\"Pandas-Data-Structures:-DataFrame-1.2\"><span class=\"toc-item-num\">1.2&nbsp;&nbsp;</span>Pandas Data Structures: DataFrame</a></span></li><li><span><a href=\"#Merging-Data\" data-toc-modified-id=\"Merging-Data-1.3\"><span class=\"toc-item-num\">1.3&nbsp;&nbsp;</span>Merging Data</a></span></li><li><span><a href=\"#Plotting\" data-toc-modified-id=\"Plotting-1.4\"><span class=\"toc-item-num\">1.4&nbsp;&nbsp;</span>Plotting</a></span></li><li><span><a href=\"#Time-Indexes\" data-toc-modified-id=\"Time-Indexes-1.5\"><span class=\"toc-item-num\">1.5&nbsp;&nbsp;</span>Time Indexes</a></span></li><li><span><a href=\"#Stock-Market-Data\" data-toc-modified-id=\"Stock-Market-Data-1.6\"><span class=\"toc-item-num\">1.6&nbsp;&nbsp;</span>Stock Market Data</a></span></li><li><span><a href=\"#Temperature-Data\" data-toc-modified-id=\"Temperature-Data-1.7\"><span class=\"toc-item-num\">1.7&nbsp;&nbsp;</span>Temperature Data</a></span></li><li><span><a href=\"#Groupby\" data-toc-modified-id=\"Groupby-1.8\"><span class=\"toc-item-num\">1.8&nbsp;&nbsp;</span>Groupby</a></span></li></ul></li></ul></div>"
   ]
  },
  {
   "cell_type": "markdown",
   "metadata": {},
   "source": [
    "# Pandas\n",
    "\n",
    "[Pandas](http://pandas.pydata.org/) is a an open source library providing high-performance, easy-to-use data structures and data analysis tools. Pandas is particularly suited to the analysis of _tabular_ data, i.e. data that can can go into a table. In other words, if you can imagine the data in an Excel spreadsheet, then Pandas is the tool for the job.\n",
    "\n",
    "A [recent analysis](https://stackoverflow.blog/2017/09/06/incredible-growth-python/) of questions from Stack Overflow showed that python is the fastest growing and most widely used programming language in the world (in developed countries).\n",
    "\n",
    "![python growth](https://zgab33vy595fw5zq-zippykid.netdna-ssl.com/wp-content/uploads/2017/09/growth_major_languages-1-1024x878.png)\n",
    "\n",
    "A [follow-up analysis](https://stackoverflow.blog/2017/09/14/python-growing-quickly/) showed that this growth is driven by the data science packages such as numpy, matplotlib, and especially pandas.\n",
    "\n",
    "![pandas growth](https://zgab33vy595fw5zq-zippykid.netdna-ssl.com/wp-content/uploads/2017/09/related_tags_over_time-1-1024x1024.png)\n",
    "\n",
    "The exponential growth of pandas is due to the fact that it _just works_. It saves you time and helps you do science more efficiently and effictively.\n",
    "\n",
    "### Pandas capabilities (from the Pandas website):\n",
    "\n",
    "* A fast and efficient DataFrame object for data manipulation with integrated indexing;\n",
    "* Tools for reading and writing data between in-memory data structures and different formats: CSV and text files, Microsoft Excel, SQL databases, and the fast HDF5 format;\n",
    "* Intelligent data alignment and integrated handling of missing data: gain automatic label-based alignment in computations and easily manipulate messy data into an orderly form;\n",
    "* Flexible reshaping and pivoting of data sets;\n",
    "* Intelligent label-based slicing, fancy indexing, and subsetting of large data sets;\n",
    "* Columns can be inserted and deleted from data structures for size mutability;\n",
    "* Aggregating or transforming data with a powerful group by engine allowing split-apply-combine operations on data sets;\n",
    "* High performance merging and joining of data sets;\n",
    "* Hierarchical axis indexing provides an intuitive way of working with high-dimensional data in a lower-dimensional data structure;\n",
    "* Time series-functionality: date range generation and frequency conversion, moving window statistics, moving window linear regressions, date shifting and lagging. Even create domain-specific time offsets and join time series without losing data;\n",
    "* Highly optimized for performance, with critical code paths written in Cython or C.\n",
    "* Python with pandas is in use in a wide variety of academic and commercial domains, including Finance, Neuroscience, Economics, Statistics, Advertising, Web Analytics, and more.\n",
    "\n",
    "In this lecture, we will go over the basic capabilities of Pandas. It is a very deep library, and you will need to dig into the [documentation](http://pandas.pydata.org/pandas-docs/stable/) for more advanced usage.\n",
    "\n",
    "Pandas was created by [Wes McKinney](http://wesmckinney.com/). Many of the examples here are drawn from Wes McKinney's book [Python for Data Analysis](http://shop.oreilly.com/product/0636920023784.do), which includes a github repo of [code samples](https://github.com/wesm/pydata-book)."
   ]
  },
  {
   "cell_type": "code",
   "execution_count": 1,
   "metadata": {},
   "outputs": [],
   "source": [
    "import pandas as pd\n",
    "import numpy as np\n",
    "from matplotlib import pyplot as plt\n",
    "%matplotlib inline"
   ]
  },
  {
   "cell_type": "markdown",
   "metadata": {},
   "source": [
    "## Pandas Data Structures: Series\n",
    "\n",
    "A Series represents a one-dimensional array of data. The main difference between a Series and numpy array is that a Series has an _index_. The index contains the labels that we use to access the data.\n",
    "\n",
    "There are many ways to [create a Series](https://pandas.pydata.org/pandas-docs/stable/dsintro.html#series). We will just show a few."
   ]
  },
  {
   "cell_type": "code",
   "execution_count": 2,
   "metadata": {},
   "outputs": [
    {
     "data": {
      "text/plain": [
       "Ryan      35.0\n",
       "Chiara    36.0\n",
       "Johnny     1.8\n",
       "dtype: float64"
      ]
     },
     "execution_count": 2,
     "metadata": {},
     "output_type": "execute_result"
    }
   ],
   "source": [
    "names = ['Ryan', 'Chiara', 'Johnny']\n",
    "values = [35, 36, 1.8]\n",
    "ages = pd.Series(values, index=names)\n",
    "ages"
   ]
  },
  {
   "cell_type": "markdown",
   "metadata": {},
   "source": [
    "Series have built in plotting methods."
   ]
  },
  {
   "cell_type": "code",
   "execution_count": 3,
   "metadata": {},
   "outputs": [
    {
     "data": {
      "text/plain": [
       "<matplotlib.axes._subplots.AxesSubplot at 0x1196f32e8>"
      ]
     },
     "execution_count": 3,
     "metadata": {},
     "output_type": "execute_result"
    },
    {
     "data": {
      "image/png": "[encoded data removed]",
      "text/plain": [
       "<matplotlib.figure.Figure at 0x1196c27f0>"
      ]
     },
     "metadata": {},
     "output_type": "display_data"
    }
   ],
   "source": [
    "ages.plot(kind='bar')"
   ]
  },
  {
   "cell_type": "markdown",
   "metadata": {},
   "source": [
    "Arithmetic operations and most numpy function can be applied to Series.\n",
    "An important point is that the Series keep their index during such operations."
   ]
  },
  {
   "cell_type": "code",
   "execution_count": 4,
   "metadata": {},
   "outputs": [
    {
     "data": {
      "text/plain": [
       "Ryan      0.002902\n",
       "Chiara    0.002765\n",
       "Johnny    0.181416\n",
       "dtype: float64"
      ]
     },
     "execution_count": 4,
     "metadata": {},
     "output_type": "execute_result"
    }
   ],
   "source": [
    "np.log(ages) / ages**2"
   ]
  },
  {
   "cell_type": "markdown",
   "metadata": {},
   "source": [
    "We can access the underlying index object if we need to:"
   ]
  },
  {
   "cell_type": "code",
   "execution_count": 5,
   "metadata": {},
   "outputs": [
    {
     "data": {
      "text/plain": [
       "Index(['Ryan', 'Chiara', 'Johnny'], dtype='object')"
      ]
     },
     "execution_count": 5,
     "metadata": {},
     "output_type": "execute_result"
    }
   ],
   "source": [
    "ages.index"
   ]
  },
  {
   "cell_type": "markdown",
   "metadata": {},
   "source": [
    "We can get values back out using the index via the `.loc` attribute"
   ]
  },
  {
   "cell_type": "code",
   "execution_count": 6,
   "metadata": {},
   "outputs": [
    {
     "data": {
      "text/plain": [
       "1.8"
      ]
     },
     "execution_count": 6,
     "metadata": {},
     "output_type": "execute_result"
    }
   ],
   "source": [
    "ages.loc['Johnny']"
   ]
  },
  {
   "cell_type": "markdown",
   "metadata": {},
   "source": [
    "Or by raw position using `.iloc`"
   ]
  },
  {
   "cell_type": "code",
   "execution_count": 7,
   "metadata": {},
   "outputs": [
    {
     "data": {
      "text/plain": [
       "1.8"
      ]
     },
     "execution_count": 7,
     "metadata": {},
     "output_type": "execute_result"
    }
   ],
   "source": [
    "ages.iloc[2]"
   ]
  },
  {
   "cell_type": "markdown",
   "metadata": {},
   "source": [
    "If we need to, we can always get the raw data back out as well"
   ]
  },
  {
   "cell_type": "code",
   "execution_count": 8,
   "metadata": {},
   "outputs": [
    {
     "data": {
      "text/plain": [
       "array([ 35. ,  36. ,   1.8])"
      ]
     },
     "execution_count": 8,
     "metadata": {},
     "output_type": "execute_result"
    }
   ],
   "source": [
    "ages.values"
   ]
  },
  {
   "cell_type": "code",
   "execution_count": 9,
   "metadata": {},
   "outputs": [
    {
     "data": {
      "text/plain": [
       "Index(['Ryan', 'Chiara', 'Johnny'], dtype='object')"
      ]
     },
     "execution_count": 9,
     "metadata": {},
     "output_type": "execute_result"
    }
   ],
   "source": [
    "ages.index"
   ]
  },
  {
   "cell_type": "markdown",
   "metadata": {},
   "source": [
    "## Pandas Data Structures: DataFrame\n",
    "\n",
    "There is a lot more to Series, but they are limit to a single \"column\". A more useful Pandas data structure is the DataFrame. A DataFrame is basically a bunch of series that share the same index. It's a lot like a table in a spreadsheet.\n",
    "\n",
    "Below we create a DataFrame."
   ]
  },
  {
   "cell_type": "code",
   "execution_count": 10,
   "metadata": {},
   "outputs": [
    {
     "data": {
      "text/html": [
       "<div>\n",
       "<style>\n",
       "    .dataframe thead tr:only-child th {\n",
       "        text-align: right;\n",
       "    }\n",
       "\n",
       "    .dataframe thead th {\n",
       "        text-align: left;\n",
       "    }\n",
       "\n",
       "    .dataframe tbody tr th {\n",
       "        vertical-align: top;\n",
       "    }\n",
       "</style>\n",
       "<table border=\"1\" class=\"dataframe\">\n",
       "  <thead>\n",
       "    <tr style=\"text-align: right;\">\n",
       "      <th></th>\n",
       "      <th>age</th>\n",
       "      <th>height</th>\n",
       "      <th>weight</th>\n",
       "    </tr>\n",
       "  </thead>\n",
       "  <tbody>\n",
       "    <tr>\n",
       "      <th>Ryan</th>\n",
       "      <td>35.0</td>\n",
       "      <td>180</td>\n",
       "      <td>72.5</td>\n",
       "    </tr>\n",
       "    <tr>\n",
       "      <th>Chiara</th>\n",
       "      <td>36.0</td>\n",
       "      <td>155</td>\n",
       "      <td>NaN</td>\n",
       "    </tr>\n",
       "    <tr>\n",
       "      <th>Johnny</th>\n",
       "      <td>1.8</td>\n",
       "      <td>83</td>\n",
       "      <td>11.3</td>\n",
       "    </tr>\n",
       "  </tbody>\n",
       "</table>\n",
       "</div>"
      ],
      "text/plain": [
       "         age  height  weight\n",
       "Ryan    35.0     180    72.5\n",
       "Chiara  36.0     155     NaN\n",
       "Johnny   1.8      83    11.3"
      ]
     },
     "execution_count": 10,
     "metadata": {},
     "output_type": "execute_result"
    }
   ],
   "source": [
    "# first we create a dictionary\n",
    "data = {'age': [35, 36, 1.8],\n",
    "        'height': [180, 155, 83],\n",
    "        'weight': [72.5, np.nan, 11.3]}\n",
    "df = pd.DataFrame(data, index=['Ryan', 'Chiara', 'Johnny'])\n",
    "df"
   ]
  },
  {
   "cell_type": "markdown",
   "metadata": {},
   "source": [
    "Pandas handles missing data very elegantly, keeping track of it through all calculations."
   ]
  },
  {
   "cell_type": "code",
   "execution_count": 11,
   "metadata": {},
   "outputs": [
    {
     "name": "stdout",
     "output_type": "stream",
     "text": [
      "<class 'pandas.core.frame.DataFrame'>\n",
      "Index: 3 entries, Ryan to Johnny\n",
      "Data columns (total 3 columns):\n",
      "age       3 non-null float64\n",
      "height    3 non-null int64\n",
      "weight    2 non-null float64\n",
      "dtypes: float64(2), int64(1)\n",
      "memory usage: 96.0+ bytes\n"
     ]
    }
   ],
   "source": [
    "df.info()"
   ]
  },
  {
   "cell_type": "markdown",
   "metadata": {},
   "source": [
    "A wide range of statistical functions are available on both Series and DataFrames."
   ]
  },
  {
   "cell_type": "code",
   "execution_count": 12,
   "metadata": {},
   "outputs": [
    {
     "data": {
      "text/plain": [
       "age        1.8\n",
       "height    83.0\n",
       "weight    11.3\n",
       "dtype: float64"
      ]
     },
     "execution_count": 12,
     "metadata": {},
     "output_type": "execute_result"
    }
   ],
   "source": [
    "df.min()"
   ]
  },
  {
   "cell_type": "code",
   "execution_count": 13,
   "metadata": {},
   "outputs": [
    {
     "data": {
      "text/plain": [
       "age        24.266667\n",
       "height    139.333333\n",
       "weight     41.900000\n",
       "dtype: float64"
      ]
     },
     "execution_count": 13,
     "metadata": {},
     "output_type": "execute_result"
    }
   ],
   "source": [
    "df.mean()"
   ]
  },
  {
   "cell_type": "code",
   "execution_count": 14,
   "metadata": {},
   "outputs": [
    {
     "data": {
      "text/plain": [
       "age       19.463128\n",
       "height    50.362023\n",
       "weight    43.274935\n",
       "dtype: float64"
      ]
     },
     "execution_count": 14,
     "metadata": {},
     "output_type": "execute_result"
    }
   ],
   "source": [
    "df.std()"
   ]
  },
  {
   "cell_type": "code",
   "execution_count": 15,
   "metadata": {},
   "outputs": [
    {
     "data": {
      "text/html": [
       "<div>\n",
       "<style>\n",
       "    .dataframe thead tr:only-child th {\n",
       "        text-align: right;\n",
       "    }\n",
       "\n",
       "    .dataframe thead th {\n",
       "        text-align: left;\n",
       "    }\n",
       "\n",
       "    .dataframe tbody tr th {\n",
       "        vertical-align: top;\n",
       "    }\n",
       "</style>\n",
       "<table border=\"1\" class=\"dataframe\">\n",
       "  <thead>\n",
       "    <tr style=\"text-align: right;\">\n",
       "      <th></th>\n",
       "      <th>age</th>\n",
       "      <th>height</th>\n",
       "      <th>weight</th>\n",
       "    </tr>\n",
       "  </thead>\n",
       "  <tbody>\n",
       "    <tr>\n",
       "      <th>count</th>\n",
       "      <td>3.000000</td>\n",
       "      <td>3.000000</td>\n",
       "      <td>2.000000</td>\n",
       "    </tr>\n",
       "    <tr>\n",
       "      <th>mean</th>\n",
       "      <td>24.266667</td>\n",
       "      <td>139.333333</td>\n",
       "      <td>41.900000</td>\n",
       "    </tr>\n",
       "    <tr>\n",
       "      <th>std</th>\n",
       "      <td>19.463128</td>\n",
       "      <td>50.362023</td>\n",
       "      <td>43.274935</td>\n",
       "    </tr>\n",
       "    <tr>\n",
       "      <th>min</th>\n",
       "      <td>1.800000</td>\n",
       "      <td>83.000000</td>\n",
       "      <td>11.300000</td>\n",
       "    </tr>\n",
       "    <tr>\n",
       "      <th>25%</th>\n",
       "      <td>18.400000</td>\n",
       "      <td>119.000000</td>\n",
       "      <td>26.600000</td>\n",
       "    </tr>\n",
       "    <tr>\n",
       "      <th>50%</th>\n",
       "      <td>35.000000</td>\n",
       "      <td>155.000000</td>\n",
       "      <td>41.900000</td>\n",
       "    </tr>\n",
       "    <tr>\n",
       "      <th>75%</th>\n",
       "      <td>35.500000</td>\n",
       "      <td>167.500000</td>\n",
       "      <td>57.200000</td>\n",
       "    </tr>\n",
       "    <tr>\n",
       "      <th>max</th>\n",
       "      <td>36.000000</td>\n",
       "      <td>180.000000</td>\n",
       "      <td>72.500000</td>\n",
       "    </tr>\n",
       "  </tbody>\n",
       "</table>\n",
       "</div>"
      ],
      "text/plain": [
       "             age      height     weight\n",
       "count   3.000000    3.000000   2.000000\n",
       "mean   24.266667  139.333333  41.900000\n",
       "std    19.463128   50.362023  43.274935\n",
       "min     1.800000   83.000000  11.300000\n",
       "25%    18.400000  119.000000  26.600000\n",
       "50%    35.000000  155.000000  41.900000\n",
       "75%    35.500000  167.500000  57.200000\n",
       "max    36.000000  180.000000  72.500000"
      ]
     },
     "execution_count": 15,
     "metadata": {},
     "output_type": "execute_result"
    }
   ],
   "source": [
    "df.describe()"
   ]
  },
  {
   "cell_type": "markdown",
   "metadata": {},
   "source": [
    "We can get a single column as a Series using python's getitem syntax on the DataFrame object."
   ]
  },
  {
   "cell_type": "code",
   "execution_count": 16,
   "metadata": {},
   "outputs": [
    {
     "data": {
      "text/plain": [
       "Ryan      180\n",
       "Chiara    155\n",
       "Johnny     83\n",
       "Name: height, dtype: int64"
      ]
     },
     "execution_count": 16,
     "metadata": {},
     "output_type": "execute_result"
    }
   ],
   "source": [
    "df['height']"
   ]
  },
  {
   "cell_type": "markdown",
   "metadata": {},
   "source": [
    "...or using attribute syntax."
   ]
  },
  {
   "cell_type": "code",
   "execution_count": 17,
   "metadata": {},
   "outputs": [
    {
     "data": {
      "text/plain": [
       "Ryan      180\n",
       "Chiara    155\n",
       "Johnny     83\n",
       "Name: height, dtype: int64"
      ]
     },
     "execution_count": 17,
     "metadata": {},
     "output_type": "execute_result"
    }
   ],
   "source": [
    "df.height"
   ]
  },
  {
   "cell_type": "markdown",
   "metadata": {},
   "source": [
    "New columns can easily be added to DataFrames"
   ]
  },
  {
   "cell_type": "code",
   "execution_count": 18,
   "metadata": {},
   "outputs": [
    {
     "data": {
      "text/html": [
       "<div>\n",
       "<style>\n",
       "    .dataframe thead tr:only-child th {\n",
       "        text-align: right;\n",
       "    }\n",
       "\n",
       "    .dataframe thead th {\n",
       "        text-align: left;\n",
       "    }\n",
       "\n",
       "    .dataframe tbody tr th {\n",
       "        vertical-align: top;\n",
       "    }\n",
       "</style>\n",
       "<table border=\"1\" class=\"dataframe\">\n",
       "  <thead>\n",
       "    <tr style=\"text-align: right;\">\n",
       "      <th></th>\n",
       "      <th>age</th>\n",
       "      <th>height</th>\n",
       "      <th>weight</th>\n",
       "      <th>density</th>\n",
       "    </tr>\n",
       "  </thead>\n",
       "  <tbody>\n",
       "    <tr>\n",
       "      <th>Ryan</th>\n",
       "      <td>35.0</td>\n",
       "      <td>180</td>\n",
       "      <td>72.5</td>\n",
       "      <td>0.402778</td>\n",
       "    </tr>\n",
       "    <tr>\n",
       "      <th>Chiara</th>\n",
       "      <td>36.0</td>\n",
       "      <td>155</td>\n",
       "      <td>NaN</td>\n",
       "      <td>NaN</td>\n",
       "    </tr>\n",
       "    <tr>\n",
       "      <th>Johnny</th>\n",
       "      <td>1.8</td>\n",
       "      <td>83</td>\n",
       "      <td>11.3</td>\n",
       "      <td>0.136145</td>\n",
       "    </tr>\n",
       "  </tbody>\n",
       "</table>\n",
       "</div>"
      ],
      "text/plain": [
       "         age  height  weight   density\n",
       "Ryan    35.0     180    72.5  0.402778\n",
       "Chiara  36.0     155     NaN       NaN\n",
       "Johnny   1.8      83    11.3  0.136145"
      ]
     },
     "execution_count": 18,
     "metadata": {},
     "output_type": "execute_result"
    }
   ],
   "source": [
    "df['density'] = df.weight / df.height\n",
    "df"
   ]
  },
  {
   "cell_type": "markdown",
   "metadata": {},
   "source": [
    "## Merging Data\n",
    "\n",
    "Pandas supports a wide range of methods for merging different datasets. These are described extensively in the [documentation](https://pandas.pydata.org/pandas-docs/stable/merging.html). Here we just give a few examples."
   ]
  },
  {
   "cell_type": "code",
   "execution_count": 19,
   "metadata": {},
   "outputs": [
    {
     "data": {
      "text/html": [
       "<div>\n",
       "<style>\n",
       "    .dataframe thead tr:only-child th {\n",
       "        text-align: right;\n",
       "    }\n",
       "\n",
       "    .dataframe thead th {\n",
       "        text-align: left;\n",
       "    }\n",
       "\n",
       "    .dataframe tbody tr th {\n",
       "        vertical-align: top;\n",
       "    }\n",
       "</style>\n",
       "<table border=\"1\" class=\"dataframe\">\n",
       "  <thead>\n",
       "    <tr style=\"text-align: right;\">\n",
       "      <th></th>\n",
       "      <th>age</th>\n",
       "      <th>height</th>\n",
       "      <th>weight</th>\n",
       "      <th>density</th>\n",
       "      <th>education</th>\n",
       "    </tr>\n",
       "  </thead>\n",
       "  <tbody>\n",
       "    <tr>\n",
       "      <th>Ryan</th>\n",
       "      <td>35.0</td>\n",
       "      <td>180</td>\n",
       "      <td>72.5</td>\n",
       "      <td>0.402778</td>\n",
       "      <td>PhD</td>\n",
       "    </tr>\n",
       "    <tr>\n",
       "      <th>Chiara</th>\n",
       "      <td>36.0</td>\n",
       "      <td>155</td>\n",
       "      <td>NaN</td>\n",
       "      <td>NaN</td>\n",
       "      <td>PhD</td>\n",
       "    </tr>\n",
       "    <tr>\n",
       "      <th>Johnny</th>\n",
       "      <td>1.8</td>\n",
       "      <td>83</td>\n",
       "      <td>11.3</td>\n",
       "      <td>0.136145</td>\n",
       "      <td>None</td>\n",
       "    </tr>\n",
       "  </tbody>\n",
       "</table>\n",
       "</div>"
      ],
      "text/plain": [
       "         age  height  weight   density education\n",
       "Ryan    35.0     180    72.5  0.402778       PhD\n",
       "Chiara  36.0     155     NaN       NaN       PhD\n",
       "Johnny   1.8      83    11.3  0.136145      None"
      ]
     },
     "execution_count": 19,
     "metadata": {},
     "output_type": "execute_result"
    }
   ],
   "source": [
    "education = pd.Series(['PhD', 'PhD', None, 'masters'],\n",
    "                     index=['Ryan', 'Chiara', 'Johnny', 'Takaya'],\n",
    "                     name='education')\n",
    "# returns a new DataFrame\n",
    "df.join(education)"
   ]
  },
  {
   "cell_type": "code",
   "execution_count": 20,
   "metadata": {},
   "outputs": [
    {
     "data": {
      "text/html": [
       "<div>\n",
       "<style>\n",
       "    .dataframe thead tr:only-child th {\n",
       "        text-align: right;\n",
       "    }\n",
       "\n",
       "    .dataframe thead th {\n",
       "        text-align: left;\n",
       "    }\n",
       "\n",
       "    .dataframe tbody tr th {\n",
       "        vertical-align: top;\n",
       "    }\n",
       "</style>\n",
       "<table border=\"1\" class=\"dataframe\">\n",
       "  <thead>\n",
       "    <tr style=\"text-align: right;\">\n",
       "      <th></th>\n",
       "      <th>age</th>\n",
       "      <th>height</th>\n",
       "      <th>weight</th>\n",
       "      <th>density</th>\n",
       "      <th>education</th>\n",
       "    </tr>\n",
       "  </thead>\n",
       "  <tbody>\n",
       "    <tr>\n",
       "      <th>Ryan</th>\n",
       "      <td>35.0</td>\n",
       "      <td>180.0</td>\n",
       "      <td>72.5</td>\n",
       "      <td>0.402778</td>\n",
       "      <td>PhD</td>\n",
       "    </tr>\n",
       "    <tr>\n",
       "      <th>Chiara</th>\n",
       "      <td>36.0</td>\n",
       "      <td>155.0</td>\n",
       "      <td>NaN</td>\n",
       "      <td>NaN</td>\n",
       "      <td>PhD</td>\n",
       "    </tr>\n",
       "    <tr>\n",
       "      <th>Johnny</th>\n",
       "      <td>1.8</td>\n",
       "      <td>83.0</td>\n",
       "      <td>11.3</td>\n",
       "      <td>0.136145</td>\n",
       "      <td>None</td>\n",
       "    </tr>\n",
       "    <tr>\n",
       "      <th>Takaya</th>\n",
       "      <td>NaN</td>\n",
       "      <td>NaN</td>\n",
       "      <td>NaN</td>\n",
       "      <td>NaN</td>\n",
       "      <td>masters</td>\n",
       "    </tr>\n",
       "  </tbody>\n",
       "</table>\n",
       "</div>"
      ],
      "text/plain": [
       "         age  height  weight   density education\n",
       "Ryan    35.0   180.0    72.5  0.402778       PhD\n",
       "Chiara  36.0   155.0     NaN       NaN       PhD\n",
       "Johnny   1.8    83.0    11.3  0.136145      None\n",
       "Takaya   NaN     NaN     NaN       NaN   masters"
      ]
     },
     "execution_count": 20,
     "metadata": {},
     "output_type": "execute_result"
    }
   ],
   "source": [
    "# returns a new DataFrame\n",
    "df.join(education, how='right')"
   ]
  },
  {
   "cell_type": "code",
   "execution_count": 21,
   "metadata": {},
   "outputs": [
    {
     "data": {
      "text/html": [
       "<div>\n",
       "<style>\n",
       "    .dataframe thead tr:only-child th {\n",
       "        text-align: right;\n",
       "    }\n",
       "\n",
       "    .dataframe thead th {\n",
       "        text-align: left;\n",
       "    }\n",
       "\n",
       "    .dataframe tbody tr th {\n",
       "        vertical-align: top;\n",
       "    }\n",
       "</style>\n",
       "<table border=\"1\" class=\"dataframe\">\n",
       "  <thead>\n",
       "    <tr style=\"text-align: right;\">\n",
       "      <th></th>\n",
       "      <th>age</th>\n",
       "      <th>height</th>\n",
       "      <th>weight</th>\n",
       "      <th>density</th>\n",
       "    </tr>\n",
       "  </thead>\n",
       "  <tbody>\n",
       "    <tr>\n",
       "      <th>Ryan</th>\n",
       "      <td>35.0</td>\n",
       "      <td>180.0</td>\n",
       "      <td>72.5</td>\n",
       "      <td>0.402778</td>\n",
       "    </tr>\n",
       "    <tr>\n",
       "      <th>Chiara</th>\n",
       "      <td>36.0</td>\n",
       "      <td>155.0</td>\n",
       "      <td>NaN</td>\n",
       "      <td>NaN</td>\n",
       "    </tr>\n",
       "    <tr>\n",
       "      <th>Johnny</th>\n",
       "      <td>1.8</td>\n",
       "      <td>83.0</td>\n",
       "      <td>11.3</td>\n",
       "      <td>0.136145</td>\n",
       "    </tr>\n",
       "    <tr>\n",
       "      <th>Takaya</th>\n",
       "      <td>NaN</td>\n",
       "      <td>NaN</td>\n",
       "      <td>NaN</td>\n",
       "      <td>NaN</td>\n",
       "    </tr>\n",
       "    <tr>\n",
       "      <th>Kerry</th>\n",
       "      <td>NaN</td>\n",
       "      <td>NaN</td>\n",
       "      <td>NaN</td>\n",
       "      <td>NaN</td>\n",
       "    </tr>\n",
       "  </tbody>\n",
       "</table>\n",
       "</div>"
      ],
      "text/plain": [
       "         age  height  weight   density\n",
       "Ryan    35.0   180.0    72.5  0.402778\n",
       "Chiara  36.0   155.0     NaN       NaN\n",
       "Johnny   1.8    83.0    11.3  0.136145\n",
       "Takaya   NaN     NaN     NaN       NaN\n",
       "Kerry    NaN     NaN     NaN       NaN"
      ]
     },
     "execution_count": 21,
     "metadata": {},
     "output_type": "execute_result"
    }
   ],
   "source": [
    "# returns a new DataFrame\n",
    "df.reindex(['Ryan', 'Chiara', 'Johnny', 'Takaya', 'Kerry'])"
   ]
  },
  {
   "cell_type": "markdown",
   "metadata": {},
   "source": [
    "We can also index using a boolean series. This is very useful"
   ]
  },
  {
   "cell_type": "code",
   "execution_count": 22,
   "metadata": {},
   "outputs": [
    {
     "data": {
      "text/html": [
       "<div>\n",
       "<style>\n",
       "    .dataframe thead tr:only-child th {\n",
       "        text-align: right;\n",
       "    }\n",
       "\n",
       "    .dataframe thead th {\n",
       "        text-align: left;\n",
       "    }\n",
       "\n",
       "    .dataframe tbody tr th {\n",
       "        vertical-align: top;\n",
       "    }\n",
       "</style>\n",
       "<table border=\"1\" class=\"dataframe\">\n",
       "  <thead>\n",
       "    <tr style=\"text-align: right;\">\n",
       "      <th></th>\n",
       "      <th>age</th>\n",
       "      <th>height</th>\n",
       "      <th>weight</th>\n",
       "      <th>density</th>\n",
       "    </tr>\n",
       "  </thead>\n",
       "  <tbody>\n",
       "    <tr>\n",
       "      <th>Ryan</th>\n",
       "      <td>35.0</td>\n",
       "      <td>180</td>\n",
       "      <td>72.5</td>\n",
       "      <td>0.402778</td>\n",
       "    </tr>\n",
       "    <tr>\n",
       "      <th>Chiara</th>\n",
       "      <td>36.0</td>\n",
       "      <td>155</td>\n",
       "      <td>NaN</td>\n",
       "      <td>NaN</td>\n",
       "    </tr>\n",
       "  </tbody>\n",
       "</table>\n",
       "</div>"
      ],
      "text/plain": [
       "         age  height  weight   density\n",
       "Ryan    35.0     180    72.5  0.402778\n",
       "Chiara  36.0     155     NaN       NaN"
      ]
     },
     "execution_count": 22,
     "metadata": {},
     "output_type": "execute_result"
    }
   ],
   "source": [
    "adults = df[df.age > 18]\n",
    "adults"
   ]
  },
  {
   "cell_type": "code",
   "execution_count": 23,
   "metadata": {},
   "outputs": [
    {
     "data": {
      "text/html": [
       "<div>\n",
       "<style>\n",
       "    .dataframe thead tr:only-child th {\n",
       "        text-align: right;\n",
       "    }\n",
       "\n",
       "    .dataframe thead th {\n",
       "        text-align: left;\n",
       "    }\n",
       "\n",
       "    .dataframe tbody tr th {\n",
       "        vertical-align: top;\n",
       "    }\n",
       "</style>\n",
       "<table border=\"1\" class=\"dataframe\">\n",
       "  <thead>\n",
       "    <tr style=\"text-align: right;\">\n",
       "      <th></th>\n",
       "      <th>age</th>\n",
       "      <th>height</th>\n",
       "      <th>weight</th>\n",
       "      <th>density</th>\n",
       "      <th>is_adult</th>\n",
       "    </tr>\n",
       "  </thead>\n",
       "  <tbody>\n",
       "    <tr>\n",
       "      <th>Ryan</th>\n",
       "      <td>35.0</td>\n",
       "      <td>180</td>\n",
       "      <td>72.5</td>\n",
       "      <td>0.402778</td>\n",
       "      <td>True</td>\n",
       "    </tr>\n",
       "    <tr>\n",
       "      <th>Chiara</th>\n",
       "      <td>36.0</td>\n",
       "      <td>155</td>\n",
       "      <td>NaN</td>\n",
       "      <td>NaN</td>\n",
       "      <td>True</td>\n",
       "    </tr>\n",
       "    <tr>\n",
       "      <th>Johnny</th>\n",
       "      <td>1.8</td>\n",
       "      <td>83</td>\n",
       "      <td>11.3</td>\n",
       "      <td>0.136145</td>\n",
       "      <td>False</td>\n",
       "    </tr>\n",
       "  </tbody>\n",
       "</table>\n",
       "</div>"
      ],
      "text/plain": [
       "         age  height  weight   density  is_adult\n",
       "Ryan    35.0     180    72.5  0.402778      True\n",
       "Chiara  36.0     155     NaN       NaN      True\n",
       "Johnny   1.8      83    11.3  0.136145     False"
      ]
     },
     "execution_count": 23,
     "metadata": {},
     "output_type": "execute_result"
    }
   ],
   "source": [
    "df['is_adult'] = df.age > 18\n",
    "df"
   ]
  },
  {
   "cell_type": "markdown",
   "metadata": {},
   "source": [
    "## Plotting\n",
    "\n",
    "DataFrames have all kinds of [useful plotting](https://pandas.pydata.org/pandas-docs/stable/visualization.html) built in."
   ]
  },
  {
   "cell_type": "code",
   "execution_count": 24,
   "metadata": {},
   "outputs": [
    {
     "data": {
      "text/plain": [
       "<matplotlib.axes._subplots.AxesSubplot at 0x1197e8ef0>"
      ]
     },
     "execution_count": 24,
     "metadata": {},
     "output_type": "execute_result"
    },
    {
     "data": {
      "image/png": "[encoded data removed]",
      "text/plain": [
       "<matplotlib.figure.Figure at 0x1197e8828>"
      ]
     },
     "metadata": {},
     "output_type": "display_data"
    }
   ],
   "source": [
    "df.plot(kind='scatter', x='age', y='height', grid=True)"
   ]
  },
  {
   "cell_type": "code",
   "execution_count": 25,
   "metadata": {},
   "outputs": [
    {
     "data": {
      "text/plain": [
       "<matplotlib.axes._subplots.AxesSubplot at 0x1197e8e10>"
      ]
     },
     "execution_count": 25,
     "metadata": {},
     "output_type": "execute_result"
    },
    {
     "data": {
      "image/png": "[encoded data removed]",
      "text/plain": [
       "<matplotlib.figure.Figure at 0x11550e160>"
      ]
     },
     "metadata": {},
     "output_type": "display_data"
    }
   ],
   "source": [
    "df.plot(kind='bar')"
   ]
  },
  {
   "cell_type": "code",
   "execution_count": null,
   "metadata": {},
   "outputs": [],
   "source": []
  },
  {
   "cell_type": "code",
   "execution_count": null,
   "metadata": {},
   "outputs": [],
   "source": []
  },
  {
   "cell_type": "code",
   "execution_count": null,
   "metadata": {},
   "outputs": [],
   "source": []
  },
  {
   "cell_type": "markdown",
   "metadata": {},
   "source": [
    "## Time Indexes\n",
    "\n",
    "Indexes are very powerful. They are a big part of why Pandas is so useful. There are different indices for different types of data. Time Indexes are especially great!"
   ]
  },
  {
   "cell_type": "code",
   "execution_count": 26,
   "metadata": {},
   "outputs": [
    {
     "data": {
      "text/plain": [
       "<matplotlib.axes._subplots.AxesSubplot at 0x11ba1b630>"
      ]
     },
     "execution_count": 26,
     "metadata": {},
     "output_type": "execute_result"
    },
    {
     "data": {
      "image/png": "[encoded data removed]",
      "text/plain": [
       "<matplotlib.figure.Figure at 0x11b8fb630>"
      ]
     },
     "metadata": {},
     "output_type": "display_data"
    }
   ],
   "source": [
    "two_years = pd.date_range(start='2014-01-01', end='2016-01-01', freq='D')\n",
    "timeseries = pd.Series(np.sin(2 *np.pi *two_years.dayofyear / 365),\n",
    "                       index=two_years)\n",
    "timeseries.plot()"
   ]
  },
  {
   "cell_type": "markdown",
   "metadata": {},
   "source": [
    "We can use python's slicing notation inside `.loc` to select a date range."
   ]
  },
  {
   "cell_type": "code",
   "execution_count": 27,
   "metadata": {},
   "outputs": [
    {
     "data": {
      "text/plain": [
       "<matplotlib.axes._subplots.AxesSubplot at 0x11bb7ccf8>"
      ]
     },
     "execution_count": 27,
     "metadata": {},
     "output_type": "execute_result"
    },
    {
     "data": {
      "image/png": "[encoded data removed]",
      "text/plain": [
       "<matplotlib.figure.Figure at 0x11b908b00>"
      ]
     },
     "metadata": {},
     "output_type": "display_data"
    }
   ],
   "source": [
    "timeseries.loc['2015-01-01':'2015-07-01'].plot()"
   ]
  },
  {
   "cell_type": "markdown",
   "metadata": {},
   "source": [
    "## Stock Market Data\n",
    "\n",
    "Now we read some stock market data from Google finance. I have created direct links to Google and Apple stock price data."
   ]
  },
  {
   "cell_type": "code",
   "execution_count": 28,
   "metadata": {},
   "outputs": [
    {
     "name": "stdout",
     "output_type": "stream",
     "text": [
      "  % Total    % Received % Xferd  Average Speed   Time    Time     Time  Current\n",
      "                                 Dload  Upload   Total   Spent    Left  Speed\n",
      "  0     0    0     0    0     0      0      0 --:--:-- --:--:-- --:--:--     0\n",
      "100  132k    0  132k    0     0   113k      0 --:--:--  0:00:01 --:--:-- 1209k\n",
      "  % Total    % Received % Xferd  Average Speed   Time    Time     Time  Current\n",
      "                                 Dload  Upload   Total   Spent    Left  Speed\n",
      "  0     0    0     0    0     0      0      0 --:--:-- --:--:-- --:--:--     0\n",
      "100  167k    0  167k    0     0   103k      0 --:--:--  0:00:01 --:--:--  504k\n"
     ]
    }
   ],
   "source": [
    "!curl -L -o goog.csv http://tinyurl.com/rces-goog\n",
    "!curl -L -o aapl.csv http://tinyurl.com/rces-aapl-csv"
   ]
  },
  {
   "cell_type": "code",
   "execution_count": 29,
   "metadata": {},
   "outputs": [
    {
     "name": "stdout",
     "output_type": "stream",
     "text": [
      "﻿Date,Open,High,Low,Close,Volume\r\n",
      "12-Oct-17,987.45,994.12,985.00,987.83,1262793\r\n",
      "11-Oct-17,973.72,990.71,972.25,989.25,1693274\r\n",
      "10-Oct-17,980.00,981.57,966.08,972.60,968362\r\n",
      "9-Oct-17,980.00,985.42,976.11,977.00,891355\r\n",
      "6-Oct-17,966.70,979.46,963.36,978.89,1173882\r\n",
      "5-Oct-17,955.49,970.91,955.18,969.96,1213816\r\n",
      "4-Oct-17,957.00,960.39,950.69,951.68,952391\r\n",
      "3-Oct-17,954.00,958.00,949.14,957.79,888346\r\n",
      "2-Oct-17,959.98,962.54,947.84,953.27,1283444\r\n"
     ]
    }
   ],
   "source": [
    "! head goog.csv"
   ]
  },
  {
   "cell_type": "markdown",
   "metadata": {},
   "source": [
    "We can see that this is well-formated, tidy CSV data, ready for immediate ingestion into Pandas.\n",
    "We use Pandas' amazing [read_csv](https://pandas.pydata.org/pandas-docs/stable/generated/pandas.read_csv.html) function to do this."
   ]
  },
  {
   "cell_type": "code",
   "execution_count": 30,
   "metadata": {},
   "outputs": [
    {
     "data": {
      "text/html": [
       "<div>\n",
       "<style>\n",
       "    .dataframe thead tr:only-child th {\n",
       "        text-align: right;\n",
       "    }\n",
       "\n",
       "    .dataframe thead th {\n",
       "        text-align: left;\n",
       "    }\n",
       "\n",
       "    .dataframe tbody tr th {\n",
       "        vertical-align: top;\n",
       "    }\n",
       "</style>\n",
       "<table border=\"1\" class=\"dataframe\">\n",
       "  <thead>\n",
       "    <tr style=\"text-align: right;\">\n",
       "      <th></th>\n",
       "      <th>Date</th>\n",
       "      <th>Open</th>\n",
       "      <th>High</th>\n",
       "      <th>Low</th>\n",
       "      <th>Close</th>\n",
       "      <th>Volume</th>\n",
       "    </tr>\n",
       "  </thead>\n",
       "  <tbody>\n",
       "    <tr>\n",
       "      <th>0</th>\n",
       "      <td>12-Oct-17</td>\n",
       "      <td>987.45</td>\n",
       "      <td>994.12</td>\n",
       "      <td>985.00</td>\n",
       "      <td>987.83</td>\n",
       "      <td>1262793</td>\n",
       "    </tr>\n",
       "    <tr>\n",
       "      <th>1</th>\n",
       "      <td>11-Oct-17</td>\n",
       "      <td>973.72</td>\n",
       "      <td>990.71</td>\n",
       "      <td>972.25</td>\n",
       "      <td>989.25</td>\n",
       "      <td>1693274</td>\n",
       "    </tr>\n",
       "    <tr>\n",
       "      <th>2</th>\n",
       "      <td>10-Oct-17</td>\n",
       "      <td>980.00</td>\n",
       "      <td>981.57</td>\n",
       "      <td>966.08</td>\n",
       "      <td>972.60</td>\n",
       "      <td>968362</td>\n",
       "    </tr>\n",
       "    <tr>\n",
       "      <th>3</th>\n",
       "      <td>9-Oct-17</td>\n",
       "      <td>980.00</td>\n",
       "      <td>985.42</td>\n",
       "      <td>976.11</td>\n",
       "      <td>977.00</td>\n",
       "      <td>891355</td>\n",
       "    </tr>\n",
       "    <tr>\n",
       "      <th>4</th>\n",
       "      <td>6-Oct-17</td>\n",
       "      <td>966.70</td>\n",
       "      <td>979.46</td>\n",
       "      <td>963.36</td>\n",
       "      <td>978.89</td>\n",
       "      <td>1173882</td>\n",
       "    </tr>\n",
       "  </tbody>\n",
       "</table>\n",
       "</div>"
      ],
      "text/plain": [
       "        Date    Open    High     Low   Close   Volume\n",
       "0  12-Oct-17  987.45  994.12  985.00  987.83  1262793\n",
       "1  11-Oct-17  973.72  990.71  972.25  989.25  1693274\n",
       "2  10-Oct-17  980.00  981.57  966.08  972.60   968362\n",
       "3   9-Oct-17  980.00  985.42  976.11  977.00   891355\n",
       "4   6-Oct-17  966.70  979.46  963.36  978.89  1173882"
      ]
     },
     "execution_count": 30,
     "metadata": {},
     "output_type": "execute_result"
    }
   ],
   "source": [
    "goog = pd.read_csv('goog.csv')\n",
    "goog.head()"
   ]
  },
  {
   "cell_type": "markdown",
   "metadata": {},
   "source": [
    "Not bad! But we can do better by giving read_csv some hints."
   ]
  },
  {
   "cell_type": "code",
   "execution_count": 31,
   "metadata": {},
   "outputs": [
    {
     "data": {
      "text/html": [
       "<div>\n",
       "<style>\n",
       "    .dataframe thead tr:only-child th {\n",
       "        text-align: right;\n",
       "    }\n",
       "\n",
       "    .dataframe thead th {\n",
       "        text-align: left;\n",
       "    }\n",
       "\n",
       "    .dataframe tbody tr th {\n",
       "        vertical-align: top;\n",
       "    }\n",
       "</style>\n",
       "<table border=\"1\" class=\"dataframe\">\n",
       "  <thead>\n",
       "    <tr style=\"text-align: right;\">\n",
       "      <th></th>\n",
       "      <th>Open</th>\n",
       "      <th>High</th>\n",
       "      <th>Low</th>\n",
       "      <th>Close</th>\n",
       "      <th>Volume</th>\n",
       "    </tr>\n",
       "    <tr>\n",
       "      <th>Date</th>\n",
       "      <th></th>\n",
       "      <th></th>\n",
       "      <th></th>\n",
       "      <th></th>\n",
       "      <th></th>\n",
       "    </tr>\n",
       "  </thead>\n",
       "  <tbody>\n",
       "    <tr>\n",
       "      <th>2017-10-12</th>\n",
       "      <td>987.45</td>\n",
       "      <td>994.12</td>\n",
       "      <td>985.00</td>\n",
       "      <td>987.83</td>\n",
       "      <td>1262793</td>\n",
       "    </tr>\n",
       "    <tr>\n",
       "      <th>2017-10-11</th>\n",
       "      <td>973.72</td>\n",
       "      <td>990.71</td>\n",
       "      <td>972.25</td>\n",
       "      <td>989.25</td>\n",
       "      <td>1693274</td>\n",
       "    </tr>\n",
       "    <tr>\n",
       "      <th>2017-10-10</th>\n",
       "      <td>980.00</td>\n",
       "      <td>981.57</td>\n",
       "      <td>966.08</td>\n",
       "      <td>972.60</td>\n",
       "      <td>968362</td>\n",
       "    </tr>\n",
       "    <tr>\n",
       "      <th>2017-10-09</th>\n",
       "      <td>980.00</td>\n",
       "      <td>985.42</td>\n",
       "      <td>976.11</td>\n",
       "      <td>977.00</td>\n",
       "      <td>891355</td>\n",
       "    </tr>\n",
       "    <tr>\n",
       "      <th>2017-10-06</th>\n",
       "      <td>966.70</td>\n",
       "      <td>979.46</td>\n",
       "      <td>963.36</td>\n",
       "      <td>978.89</td>\n",
       "      <td>1173882</td>\n",
       "    </tr>\n",
       "  </tbody>\n",
       "</table>\n",
       "</div>"
      ],
      "text/plain": [
       "              Open    High     Low   Close   Volume\n",
       "Date                                               \n",
       "2017-10-12  987.45  994.12  985.00  987.83  1262793\n",
       "2017-10-11  973.72  990.71  972.25  989.25  1693274\n",
       "2017-10-10  980.00  981.57  966.08  972.60   968362\n",
       "2017-10-09  980.00  985.42  976.11  977.00   891355\n",
       "2017-10-06  966.70  979.46  963.36  978.89  1173882"
      ]
     },
     "execution_count": 31,
     "metadata": {},
     "output_type": "execute_result"
    }
   ],
   "source": [
    "goog = pd.read_csv('goog.csv', parse_dates=[0], index_col=0)\n",
    "goog.head()"
   ]
  },
  {
   "cell_type": "code",
   "execution_count": 32,
   "metadata": {},
   "outputs": [
    {
     "name": "stdout",
     "output_type": "stream",
     "text": [
      "<class 'pandas.core.frame.DataFrame'>\n",
      "DatetimeIndex: 3311 entries, 2017-10-12 to 2004-08-19\n",
      "Data columns (total 5 columns):\n",
      "Open      3311 non-null float64\n",
      "High      3311 non-null float64\n",
      "Low       3311 non-null float64\n",
      "Close     3311 non-null float64\n",
      "Volume    3311 non-null object\n",
      "dtypes: float64(4), object(1)\n",
      "memory usage: 155.2+ KB\n"
     ]
    }
   ],
   "source": [
    "goog.info()"
   ]
  },
  {
   "cell_type": "code",
   "execution_count": 33,
   "metadata": {},
   "outputs": [
    {
     "data": {
      "text/plain": [
       "<matplotlib.axes._subplots.AxesSubplot at 0x10e63ad68>"
      ]
     },
     "execution_count": 33,
     "metadata": {},
     "output_type": "execute_result"
    },
    {
     "data": {
      "image/png": "[encoded data removed]",
      "text/plain": [
       "<matplotlib.figure.Figure at 0x11bd40d30>"
      ]
     },
     "metadata": {},
     "output_type": "display_data"
    }
   ],
   "source": [
    "goog.Close.plot()"
   ]
  },
  {
   "cell_type": "code",
   "execution_count": 34,
   "metadata": {},
   "outputs": [
    {
     "name": "stdout",
     "output_type": "stream",
     "text": [
      "<class 'pandas.core.frame.DataFrame'>\n",
      "DatetimeIndex: 4000 entries, 2017-10-12 to 2001-11-21\n",
      "Data columns (total 5 columns):\n",
      "Open      4000 non-null float64\n",
      "High      4000 non-null float64\n",
      "Low       4000 non-null float64\n",
      "Close     4000 non-null float64\n",
      "Volume    4000 non-null int64\n",
      "dtypes: float64(4), int64(1)\n",
      "memory usage: 187.5 KB\n"
     ]
    }
   ],
   "source": [
    "aapl = pd.read_csv('aapl.csv', parse_dates=[0], index_col=0)\n",
    "aapl.info()"
   ]
  },
  {
   "cell_type": "code",
   "execution_count": 35,
   "metadata": {},
   "outputs": [
    {
     "data": {
      "text/html": [
       "<div>\n",
       "<style>\n",
       "    .dataframe thead tr:only-child th {\n",
       "        text-align: right;\n",
       "    }\n",
       "\n",
       "    .dataframe thead th {\n",
       "        text-align: left;\n",
       "    }\n",
       "\n",
       "    .dataframe tbody tr th {\n",
       "        vertical-align: top;\n",
       "    }\n",
       "</style>\n",
       "<table border=\"1\" class=\"dataframe\">\n",
       "  <thead>\n",
       "    <tr style=\"text-align: right;\">\n",
       "      <th></th>\n",
       "      <th>aapl</th>\n",
       "      <th>goog</th>\n",
       "    </tr>\n",
       "    <tr>\n",
       "      <th>Date</th>\n",
       "      <th></th>\n",
       "      <th></th>\n",
       "    </tr>\n",
       "  </thead>\n",
       "  <tbody>\n",
       "    <tr>\n",
       "      <th>2001-11-21</th>\n",
       "      <td>1.41</td>\n",
       "      <td>NaN</td>\n",
       "    </tr>\n",
       "    <tr>\n",
       "      <th>2001-11-23</th>\n",
       "      <td>1.42</td>\n",
       "      <td>NaN</td>\n",
       "    </tr>\n",
       "    <tr>\n",
       "      <th>2001-11-26</th>\n",
       "      <td>1.53</td>\n",
       "      <td>NaN</td>\n",
       "    </tr>\n",
       "    <tr>\n",
       "      <th>2001-11-27</th>\n",
       "      <td>1.50</td>\n",
       "      <td>NaN</td>\n",
       "    </tr>\n",
       "    <tr>\n",
       "      <th>2001-11-28</th>\n",
       "      <td>1.47</td>\n",
       "      <td>NaN</td>\n",
       "    </tr>\n",
       "  </tbody>\n",
       "</table>\n",
       "</div>"
      ],
      "text/plain": [
       "            aapl  goog\n",
       "Date                  \n",
       "2001-11-21  1.41   NaN\n",
       "2001-11-23  1.42   NaN\n",
       "2001-11-26  1.53   NaN\n",
       "2001-11-27  1.50   NaN\n",
       "2001-11-28  1.47   NaN"
      ]
     },
     "execution_count": 35,
     "metadata": {},
     "output_type": "execute_result"
    }
   ],
   "source": [
    "aapl_close = aapl.Close.rename('aapl')\n",
    "goog_close = goog.Close.rename('goog')\n",
    "stocks = pd.concat([aapl_close, goog_close], axis=1)\n",
    "stocks.head()"
   ]
  },
  {
   "cell_type": "code",
   "execution_count": 36,
   "metadata": {},
   "outputs": [
    {
     "data": {
      "text/plain": [
       "<matplotlib.axes._subplots.AxesSubplot at 0x10e63fac8>"
      ]
     },
     "execution_count": 36,
     "metadata": {},
     "output_type": "execute_result"
    },
    {
     "data": {
      "image/png": "[encoded data removed]",
      "text/plain": [
       "<matplotlib.figure.Figure at 0x11bddfd68>"
      ]
     },
     "metadata": {},
     "output_type": "display_data"
    }
   ],
   "source": [
    "stocks.plot()"
   ]
  },
  {
   "cell_type": "markdown",
   "metadata": {},
   "source": [
    "Pandas knows how to take correlations. And [tons of other computations](https://pandas.pydata.org/pandas-docs/stable/computation.html)."
   ]
  },
  {
   "cell_type": "code",
   "execution_count": 37,
   "metadata": {},
   "outputs": [
    {
     "data": {
      "text/html": [
       "<div>\n",
       "<style>\n",
       "    .dataframe thead tr:only-child th {\n",
       "        text-align: right;\n",
       "    }\n",
       "\n",
       "    .dataframe thead th {\n",
       "        text-align: left;\n",
       "    }\n",
       "\n",
       "    .dataframe tbody tr th {\n",
       "        vertical-align: top;\n",
       "    }\n",
       "</style>\n",
       "<table border=\"1\" class=\"dataframe\">\n",
       "  <thead>\n",
       "    <tr style=\"text-align: right;\">\n",
       "      <th></th>\n",
       "      <th>aapl</th>\n",
       "      <th>goog</th>\n",
       "    </tr>\n",
       "  </thead>\n",
       "  <tbody>\n",
       "    <tr>\n",
       "      <th>aapl</th>\n",
       "      <td>1.000000</td>\n",
       "      <td>0.917305</td>\n",
       "    </tr>\n",
       "    <tr>\n",
       "      <th>goog</th>\n",
       "      <td>0.917305</td>\n",
       "      <td>1.000000</td>\n",
       "    </tr>\n",
       "  </tbody>\n",
       "</table>\n",
       "</div>"
      ],
      "text/plain": [
       "          aapl      goog\n",
       "aapl  1.000000  0.917305\n",
       "goog  0.917305  1.000000"
      ]
     },
     "execution_count": 37,
     "metadata": {},
     "output_type": "execute_result"
    }
   ],
   "source": [
    "stocks.corr()"
   ]
  },
  {
   "cell_type": "markdown",
   "metadata": {},
   "source": [
    "Because it understands times, it can do really cool stuff like resampling."
   ]
  },
  {
   "cell_type": "code",
   "execution_count": 38,
   "metadata": {},
   "outputs": [
    {
     "data": {
      "text/plain": [
       "<matplotlib.axes._subplots.AxesSubplot at 0x10e760a20>"
      ]
     },
     "execution_count": 38,
     "metadata": {},
     "output_type": "execute_result"
    },
    {
     "data": {
      "image/png": "[encoded data removed]",
      "text/plain": [
       "<matplotlib.figure.Figure at 0x11c055b00>"
      ]
     },
     "metadata": {},
     "output_type": "display_data"
    }
   ],
   "source": [
    "# resample by taking the mean over each month\n",
    "\n",
    "fig, ax = plt.subplots()\n",
    "stocks.resample('MS').mean().plot(ax=ax, color=['r', 'b'])\n",
    "# and each year\n",
    "stocks.resample('AS').mean().plot(ax=ax, color=['r', 'b'])"
   ]
  },
  {
   "cell_type": "markdown",
   "metadata": {},
   "source": [
    "The string `QS` means \"month start. The string `AS` mean \"year start\". There is a long list of possible [frequency aliases](https://pandas.pydata.org/pandas-docs/stable/timeseries.html#timeseries-offset-aliases).\n",
    "\n",
    "We can also apply other reduction operations with resample. These are described in the [resample docs](https://pandas.pydata.org/pandas-docs/stable/timeseries.html#resampling)."
   ]
  },
  {
   "cell_type": "code",
   "execution_count": 39,
   "metadata": {},
   "outputs": [
    {
     "data": {
      "text/plain": [
       "<matplotlib.axes._subplots.AxesSubplot at 0x10e791240>"
      ]
     },
     "execution_count": 39,
     "metadata": {},
     "output_type": "execute_result"
    },
    {
     "data": {
      "image/png": "[encoded data removed]",
      "text/plain": [
       "<matplotlib.figure.Figure at 0x10e7a1b70>"
      ]
     },
     "metadata": {},
     "output_type": "display_data"
    }
   ],
   "source": [
    "# get resample object\n",
    "rs = stocks.goog.resample('MS')\n",
    "# standard deviation of each month\n",
    "rs.std().plot()"
   ]
  },
  {
   "cell_type": "markdown",
   "metadata": {},
   "source": [
    "## Temperature Data\n",
    "\n",
    "We download some timeseries data from the [Berkeley Earth(http://berkeleyearth.org/) surface temperature dataset. This is timeseries data from various locations around earth. Let's get our local temperatures."
   ]
  },
  {
   "cell_type": "code",
   "execution_count": 40,
   "metadata": {},
   "outputs": [
    {
     "name": "stdout",
     "output_type": "stream",
     "text": [
      "  % Total    % Received % Xferd  Average Speed   Time    Time     Time  Current\n",
      "                                 Dload  Upload   Total   Spent    Left  Speed\n",
      "100  313k  100  313k    0     0  1444k      0 --:--:-- --:--:-- --:--:-- 1478k\n"
     ]
    }
   ],
   "source": [
    "! curl -o nyc_temp.txt http://berkeleyearth.lbl.gov/auto/Local/TAVG/Text/40.99N-74.56W-TAVG-Trend.txt"
   ]
  },
  {
   "cell_type": "markdown",
   "metadata": {},
   "source": [
    "If we examine this data, we see it is NOT a well formated CSV file. Loading it will be a bit painful, but Pandas makes the job retatively easy."
   ]
  },
  {
   "cell_type": "code",
   "execution_count": 41,
   "metadata": {},
   "outputs": [
    {
     "name": "stdout",
     "output_type": "stream",
     "text": [
      "% \r\n",
      "%                  Monthly          Annual          Five-year        Ten-year        Twenty-year\r\n",
      "% Year, Month,  Anomaly, Unc.,   Anomaly, Unc.,   Anomaly, Unc.,   Anomaly, Unc.,   Anomaly, Unc.\r\n",
      " \r\n",
      "  1743    11    -2.276  1.665       NaN    NaN       NaN    NaN       NaN    NaN       NaN    NaN\r\n",
      "  1743    12       NaN    NaN       NaN    NaN       NaN    NaN       NaN    NaN       NaN    NaN\r\n",
      "  1744     1       NaN    NaN       NaN    NaN       NaN    NaN       NaN    NaN       NaN    NaN\r\n",
      "  1744     2       NaN    NaN       NaN    NaN       NaN    NaN       NaN    NaN       NaN    NaN\r\n"
     ]
    }
   ],
   "source": [
    "! head -72 nyc_temp.txt | tail -8"
   ]
  },
  {
   "cell_type": "code",
   "execution_count": null,
   "metadata": {},
   "outputs": [],
   "source": []
  },
  {
   "cell_type": "code",
   "execution_count": 42,
   "metadata": {},
   "outputs": [
    {
     "data": {
      "text/html": [
       "<div>\n",
       "<style>\n",
       "    .dataframe thead tr:only-child th {\n",
       "        text-align: right;\n",
       "    }\n",
       "\n",
       "    .dataframe thead th {\n",
       "        text-align: left;\n",
       "    }\n",
       "\n",
       "    .dataframe tbody tr th {\n",
       "        vertical-align: top;\n",
       "    }\n",
       "</style>\n",
       "<table border=\"1\" class=\"dataframe\">\n",
       "  <thead>\n",
       "    <tr style=\"text-align: right;\">\n",
       "      <th></th>\n",
       "      <th>year</th>\n",
       "      <th>month</th>\n",
       "      <th>monthly_anom</th>\n",
       "    </tr>\n",
       "  </thead>\n",
       "  <tbody>\n",
       "    <tr>\n",
       "      <th>0</th>\n",
       "      <td>1743</td>\n",
       "      <td>11</td>\n",
       "      <td>-2.276</td>\n",
       "    </tr>\n",
       "    <tr>\n",
       "      <th>1</th>\n",
       "      <td>1743</td>\n",
       "      <td>12</td>\n",
       "      <td>NaN</td>\n",
       "    </tr>\n",
       "    <tr>\n",
       "      <th>2</th>\n",
       "      <td>1744</td>\n",
       "      <td>1</td>\n",
       "      <td>NaN</td>\n",
       "    </tr>\n",
       "    <tr>\n",
       "      <th>3</th>\n",
       "      <td>1744</td>\n",
       "      <td>2</td>\n",
       "      <td>NaN</td>\n",
       "    </tr>\n",
       "    <tr>\n",
       "      <th>4</th>\n",
       "      <td>1744</td>\n",
       "      <td>3</td>\n",
       "      <td>NaN</td>\n",
       "    </tr>\n",
       "  </tbody>\n",
       "</table>\n",
       "</div>"
      ],
      "text/plain": [
       "   year  month  monthly_anom\n",
       "0  1743     11        -2.276\n",
       "1  1743     12           NaN\n",
       "2  1744      1           NaN\n",
       "3  1744      2           NaN\n",
       "4  1744      3           NaN"
      ]
     },
     "execution_count": 42,
     "metadata": {},
     "output_type": "execute_result"
    }
   ],
   "source": [
    "##### http://berkeleyearth.lbl.gov/locations/40.99N-74.56W\n",
    "# http://berkeleyearth.lbl.gov/auto/Local/TAVG/Text/40.99N-74.56W-TAVG-Trend.txt\n",
    "\n",
    "\n",
    "#temp = pd.read_csv('nyc_temp.txt')\n",
    "\n",
    "col_names = ['year', 'month', 'monthly_anom'] + 10*[]\n",
    "temp = pd.read_csv('nyc_temp.txt',\n",
    "                   header=None, usecols=[0, 1, 2], names=col_names,\n",
    "                   delim_whitespace=True, comment='%')\n",
    "\n",
    "temp.head()"
   ]
  },
  {
   "cell_type": "code",
   "execution_count": 43,
   "metadata": {},
   "outputs": [
    {
     "data": {
      "text/html": [
       "<div>\n",
       "<style>\n",
       "    .dataframe thead tr:only-child th {\n",
       "        text-align: right;\n",
       "    }\n",
       "\n",
       "    .dataframe thead th {\n",
       "        text-align: left;\n",
       "    }\n",
       "\n",
       "    .dataframe tbody tr th {\n",
       "        vertical-align: top;\n",
       "    }\n",
       "</style>\n",
       "<table border=\"1\" class=\"dataframe\">\n",
       "  <thead>\n",
       "    <tr style=\"text-align: right;\">\n",
       "      <th></th>\n",
       "      <th>monthly_anom</th>\n",
       "    </tr>\n",
       "  </thead>\n",
       "  <tbody>\n",
       "    <tr>\n",
       "      <th>1743-11-01</th>\n",
       "      <td>-2.276</td>\n",
       "    </tr>\n",
       "    <tr>\n",
       "      <th>1743-12-01</th>\n",
       "      <td>NaN</td>\n",
       "    </tr>\n",
       "    <tr>\n",
       "      <th>1744-01-01</th>\n",
       "      <td>NaN</td>\n",
       "    </tr>\n",
       "    <tr>\n",
       "      <th>1744-02-01</th>\n",
       "      <td>NaN</td>\n",
       "    </tr>\n",
       "    <tr>\n",
       "      <th>1744-03-01</th>\n",
       "      <td>NaN</td>\n",
       "    </tr>\n",
       "  </tbody>\n",
       "</table>\n",
       "</div>"
      ],
      "text/plain": [
       "            monthly_anom\n",
       "1743-11-01        -2.276\n",
       "1743-12-01           NaN\n",
       "1744-01-01           NaN\n",
       "1744-02-01           NaN\n",
       "1744-03-01           NaN"
      ]
     },
     "execution_count": 43,
     "metadata": {},
     "output_type": "execute_result"
    }
   ],
   "source": [
    "# need a day\n",
    "date_df = temp.drop('monthly_anom', axis=1)\n",
    "date_df['day'] = 1\n",
    "date_index = pd.DatetimeIndex(pd.to_datetime(date_df))\n",
    "temp = temp.set_index(date_index).drop(['year', 'month'], axis=1)\n",
    "temp.head()"
   ]
  },
  {
   "cell_type": "code",
   "execution_count": 44,
   "metadata": {},
   "outputs": [
    {
     "data": {
      "text/plain": [
       "<matplotlib.axes._subplots.AxesSubplot at 0x11bfdb748>"
      ]
     },
     "execution_count": 44,
     "metadata": {},
     "output_type": "execute_result"
    },
    {
     "data": {
      "image/png": "[encoded data removed]",
      "text/plain": [
       "<matplotlib.figure.Figure at 0x11beff668>"
      ]
     },
     "metadata": {},
     "output_type": "display_data"
    }
   ],
   "source": [
    "temp.plot()"
   ]
  },
  {
   "cell_type": "code",
   "execution_count": 45,
   "metadata": {},
   "outputs": [
    {
     "data": {
      "text/plain": [
       "<matplotlib.axes._subplots.AxesSubplot at 0x11c91da90>"
      ]
     },
     "execution_count": 45,
     "metadata": {},
     "output_type": "execute_result"
    },
    {
     "data": {
      "image/png": "[encoded data removed]",
      "text/plain": [
       "<matplotlib.figure.Figure at 0x11c9ac208>"
      ]
     },
     "metadata": {},
     "output_type": "display_data"
    }
   ],
   "source": [
    "fig, ax = plt.subplots()\n",
    "temp.plot(ax=ax)\n",
    "temp.resample('AS').mean().plot(ax=ax)\n",
    "temp.resample('10AS').mean().plot(ax=ax)"
   ]
  },
  {
   "cell_type": "markdown",
   "metadata": {},
   "source": [
    "Pandas can do both time-based resampling and operation over fixed-length rolling windows. These are very similar but distinct; see [discussion in Pandas docs](https://pandas.pydata.org/pandas-docs/stable/computation.html#time-aware-rolling-vs-resampling)."
   ]
  },
  {
   "cell_type": "code",
   "execution_count": 46,
   "metadata": {},
   "outputs": [
    {
     "data": {
      "text/plain": [
       "<matplotlib.axes._subplots.AxesSubplot at 0x11cc3ad68>"
      ]
     },
     "execution_count": 46,
     "metadata": {},
     "output_type": "execute_result"
    },
    {
     "data": {
      "image/png": "[encoded data removed]",
      "text/plain": [
       "<matplotlib.figure.Figure at 0x11cc349e8>"
      ]
     },
     "metadata": {},
     "output_type": "display_data"
    }
   ],
   "source": [
    "# more advanced operation on rolling windows\n",
    "def difference_max_min(data):\n",
    "    return data.max() - data.min()\n",
    "\n",
    "rw = temp.rolling('365D')\n",
    "rw.apply(difference_max_min).plot()"
   ]
  },
  {
   "cell_type": "markdown",
   "metadata": {},
   "source": [
    "To create a \"climatology\" (i.e. the average of all same months), we can use Pandas' [groupby](https://pandas.pydata.org/pandas-docs/stable/groupby.html) functionality."
   ]
  },
  {
   "cell_type": "code",
   "execution_count": 47,
   "metadata": {},
   "outputs": [
    {
     "data": {
      "text/plain": [
       "<matplotlib.axes._subplots.AxesSubplot at 0x11cec2a90>"
      ]
     },
     "execution_count": 47,
     "metadata": {},
     "output_type": "execute_result"
    },
    {
     "data": {
      "image/png": "[encoded data removed]",
      "text/plain": [
       "<matplotlib.figure.Figure at 0x11cebce48>"
      ]
     },
     "metadata": {},
     "output_type": "display_data"
    }
   ],
   "source": [
    "# diurnal cycle has been removed!\n",
    "temp.groupby(temp.index.month).mean().plot()"
   ]
  },
  {
   "cell_type": "code",
   "execution_count": 48,
   "metadata": {},
   "outputs": [
    {
     "data": {
      "text/html": [
       "<div>\n",
       "<style>\n",
       "    .dataframe thead tr:only-child th {\n",
       "        text-align: right;\n",
       "    }\n",
       "\n",
       "    .dataframe thead th {\n",
       "        text-align: left;\n",
       "    }\n",
       "\n",
       "    .dataframe tbody tr th {\n",
       "        vertical-align: top;\n",
       "    }\n",
       "</style>\n",
       "<table border=\"1\" class=\"dataframe\">\n",
       "  <thead>\n",
       "    <tr style=\"text-align: right;\">\n",
       "      <th></th>\n",
       "      <th>monthly_anom</th>\n",
       "    </tr>\n",
       "  </thead>\n",
       "  <tbody>\n",
       "    <tr>\n",
       "      <th>2012</th>\n",
       "      <td>2.009833</td>\n",
       "    </tr>\n",
       "    <tr>\n",
       "      <th>1998</th>\n",
       "      <td>1.862250</td>\n",
       "    </tr>\n",
       "    <tr>\n",
       "      <th>2006</th>\n",
       "      <td>1.557583</td>\n",
       "    </tr>\n",
       "    <tr>\n",
       "      <th>1949</th>\n",
       "      <td>1.424500</td>\n",
       "    </tr>\n",
       "    <tr>\n",
       "      <th>2010</th>\n",
       "      <td>1.395917</td>\n",
       "    </tr>\n",
       "    <tr>\n",
       "      <th>1991</th>\n",
       "      <td>1.395583</td>\n",
       "    </tr>\n",
       "    <tr>\n",
       "      <th>1990</th>\n",
       "      <td>1.360833</td>\n",
       "    </tr>\n",
       "    <tr>\n",
       "      <th>2011</th>\n",
       "      <td>1.310583</td>\n",
       "    </tr>\n",
       "    <tr>\n",
       "      <th>2002</th>\n",
       "      <td>1.290500</td>\n",
       "    </tr>\n",
       "    <tr>\n",
       "      <th>1953</th>\n",
       "      <td>1.212833</td>\n",
       "    </tr>\n",
       "  </tbody>\n",
       "</table>\n",
       "</div>"
      ],
      "text/plain": [
       "      monthly_anom\n",
       "2012      2.009833\n",
       "1998      1.862250\n",
       "2006      1.557583\n",
       "1949      1.424500\n",
       "2010      1.395917\n",
       "1991      1.395583\n",
       "1990      1.360833\n",
       "2011      1.310583\n",
       "2002      1.290500\n",
       "1953      1.212833"
      ]
     },
     "execution_count": 48,
     "metadata": {},
     "output_type": "execute_result"
    }
   ],
   "source": [
    "# find the hottest years\n",
    "temp.groupby(temp.index.year).mean().sort_values('monthly_anom', ascending=False).head(10)"
   ]
  },
  {
   "cell_type": "markdown",
   "metadata": {},
   "source": [
    "## Groupby\n",
    "\n",
    "Now we will explore groupby's capabilities more in a public dataset from the City of New York: the [Rat Information Portal](The Rat Information Portal)!"
   ]
  },
  {
   "cell_type": "code",
   "execution_count": 49,
   "metadata": {},
   "outputs": [],
   "source": [
    "# https://data.cityofnewyork.us/Health/Rats/amyk-xiv9\n",
    "rats = pd.read_csv('https://data.cityofnewyork.us/api/views/amyk-xiv9/rows.csv',\n",
    "                  parse_dates=['APPROVED_DATE', 'INSPECTION_DATE'])"
   ]
  },
  {
   "cell_type": "code",
   "execution_count": 50,
   "metadata": {},
   "outputs": [
    {
     "name": "stdout",
     "output_type": "stream",
     "text": [
      "<class 'pandas.core.frame.DataFrame'>\n",
      "RangeIndex: 153677 entries, 0 to 153676\n",
      "Data columns (total 20 columns):\n",
      "INSPECTION_TYPE                153677 non-null object\n",
      "JOB_TICKET_OR_WORK_ORDER_ID    153677 non-null int64\n",
      "JOB_ID                         153677 non-null object\n",
      "JOB_PROGRESS                   153677 non-null int64\n",
      "BBL                            153677 non-null int64\n",
      "BORO_CODE                      153677 non-null int64\n",
      "BLOCK                          153677 non-null int64\n",
      "LOT                            153677 non-null int64\n",
      "HOUSE_NUMBER                   151606 non-null object\n",
      "STREET_NAME                    153637 non-null object\n",
      "ZIP_CODE                       153671 non-null float64\n",
      "X_COORD                        152696 non-null float64\n",
      "Y_COORD                        152696 non-null float64\n",
      "LATITUDE                       153287 non-null float64\n",
      "LONGITUDE                      153287 non-null float64\n",
      "BOROUGH                        153677 non-null object\n",
      "INSPECTION_DATE                153677 non-null datetime64[ns]\n",
      "RESULT                         153677 non-null object\n",
      "APPROVED_DATE                  153677 non-null datetime64[ns]\n",
      "LOCATION                       153272 non-null object\n",
      "dtypes: datetime64[ns](2), float64(5), int64(6), object(7)\n",
      "memory usage: 23.4+ MB\n"
     ]
    }
   ],
   "source": [
    "rats.info()"
   ]
  },
  {
   "cell_type": "code",
   "execution_count": 51,
   "metadata": {},
   "outputs": [
    {
     "data": {
      "text/html": [
       "<div>\n",
       "<style>\n",
       "    .dataframe thead tr:only-child th {\n",
       "        text-align: right;\n",
       "    }\n",
       "\n",
       "    .dataframe thead th {\n",
       "        text-align: left;\n",
       "    }\n",
       "\n",
       "    .dataframe tbody tr th {\n",
       "        vertical-align: top;\n",
       "    }\n",
       "</style>\n",
       "<table border=\"1\" class=\"dataframe\">\n",
       "  <thead>\n",
       "    <tr style=\"text-align: right;\">\n",
       "      <th></th>\n",
       "      <th>INSPECTION_TYPE</th>\n",
       "      <th>JOB_TICKET_OR_WORK_ORDER_ID</th>\n",
       "      <th>JOB_ID</th>\n",
       "      <th>JOB_PROGRESS</th>\n",
       "      <th>BBL</th>\n",
       "      <th>BORO_CODE</th>\n",
       "      <th>BLOCK</th>\n",
       "      <th>LOT</th>\n",
       "      <th>HOUSE_NUMBER</th>\n",
       "      <th>STREET_NAME</th>\n",
       "      <th>ZIP_CODE</th>\n",
       "      <th>X_COORD</th>\n",
       "      <th>Y_COORD</th>\n",
       "      <th>LATITUDE</th>\n",
       "      <th>LONGITUDE</th>\n",
       "      <th>BOROUGH</th>\n",
       "      <th>INSPECTION_DATE</th>\n",
       "      <th>RESULT</th>\n",
       "      <th>APPROVED_DATE</th>\n",
       "      <th>LOCATION</th>\n",
       "    </tr>\n",
       "  </thead>\n",
       "  <tbody>\n",
       "    <tr>\n",
       "      <th>0</th>\n",
       "      <td>COMPLIANCE</td>\n",
       "      <td>20090</td>\n",
       "      <td>PO14874</td>\n",
       "      <td>2</td>\n",
       "      <td>3001480046</td>\n",
       "      <td>3</td>\n",
       "      <td>148</td>\n",
       "      <td>46</td>\n",
       "      <td>81</td>\n",
       "      <td>WILLOUGHBY STREET</td>\n",
       "      <td>11201.0</td>\n",
       "      <td>988201.0</td>\n",
       "      <td>191458.0</td>\n",
       "      <td>40.692184</td>\n",
       "      <td>-73.985753</td>\n",
       "      <td>Brooklyn</td>\n",
       "      <td>2010-05-14 13:46:39</td>\n",
       "      <td>Active Rat Signs</td>\n",
       "      <td>2010-05-18 13:00:01</td>\n",
       "      <td>(40.6921838341671, -73.9857525784075)</td>\n",
       "    </tr>\n",
       "    <tr>\n",
       "      <th>1</th>\n",
       "      <td>COMPLIANCE</td>\n",
       "      <td>24538</td>\n",
       "      <td>PO17193</td>\n",
       "      <td>2</td>\n",
       "      <td>4123940091</td>\n",
       "      <td>4</td>\n",
       "      <td>12394</td>\n",
       "      <td>91</td>\n",
       "      <td>172-04</td>\n",
       "      <td>LINDEN BOULEVARD</td>\n",
       "      <td>11434.0</td>\n",
       "      <td>1045829.0</td>\n",
       "      <td>191395.0</td>\n",
       "      <td>40.691804</td>\n",
       "      <td>-73.777942</td>\n",
       "      <td>Queens</td>\n",
       "      <td>2010-03-03 09:21:09</td>\n",
       "      <td>Active Rat Signs</td>\n",
       "      <td>2010-03-05 11:30:16</td>\n",
       "      <td>(40.6918037759981, -73.7779418602477)</td>\n",
       "    </tr>\n",
       "    <tr>\n",
       "      <th>2</th>\n",
       "      <td>COMPLIANCE</td>\n",
       "      <td>25025</td>\n",
       "      <td>PO15009</td>\n",
       "      <td>2</td>\n",
       "      <td>2029470041</td>\n",
       "      <td>2</td>\n",
       "      <td>2947</td>\n",
       "      <td>41</td>\n",
       "      <td>1881</td>\n",
       "      <td>BELMONT AVENUE</td>\n",
       "      <td>10457.0</td>\n",
       "      <td>1013847.0</td>\n",
       "      <td>247021.0</td>\n",
       "      <td>40.844647</td>\n",
       "      <td>-73.893030</td>\n",
       "      <td>Bronx</td>\n",
       "      <td>2010-01-06 10:45:24</td>\n",
       "      <td>Active Rat Signs</td>\n",
       "      <td>2010-01-14 11:45:09</td>\n",
       "      <td>(40.8446468740184, -73.89302971662)</td>\n",
       "    </tr>\n",
       "    <tr>\n",
       "      <th>3</th>\n",
       "      <td>COMPLIANCE</td>\n",
       "      <td>25027</td>\n",
       "      <td>PO15005</td>\n",
       "      <td>2</td>\n",
       "      <td>2032340065</td>\n",
       "      <td>2</td>\n",
       "      <td>3234</td>\n",
       "      <td>65</td>\n",
       "      <td>212</td>\n",
       "      <td>WEST FORDHAM ROAD</td>\n",
       "      <td>10468.0</td>\n",
       "      <td>1009198.0</td>\n",
       "      <td>253356.0</td>\n",
       "      <td>40.862049</td>\n",
       "      <td>-73.909810</td>\n",
       "      <td>Bronx</td>\n",
       "      <td>2010-01-06 15:15:55</td>\n",
       "      <td>Active Rat Signs</td>\n",
       "      <td>2010-01-14 11:44:46</td>\n",
       "      <td>(40.8620488653607, -73.9098097882175)</td>\n",
       "    </tr>\n",
       "    <tr>\n",
       "      <th>4</th>\n",
       "      <td>COMPLIANCE</td>\n",
       "      <td>25032</td>\n",
       "      <td>PO15007</td>\n",
       "      <td>2</td>\n",
       "      <td>2043520001</td>\n",
       "      <td>2</td>\n",
       "      <td>4352</td>\n",
       "      <td>1</td>\n",
       "      <td>789</td>\n",
       "      <td>ASTOR AVENUE</td>\n",
       "      <td>10467.0</td>\n",
       "      <td>1021812.0</td>\n",
       "      <td>252577.0</td>\n",
       "      <td>40.859866</td>\n",
       "      <td>-73.864209</td>\n",
       "      <td>Bronx</td>\n",
       "      <td>2010-01-22 15:10:03</td>\n",
       "      <td>Active Rat Signs</td>\n",
       "      <td>2010-01-26 15:16:54</td>\n",
       "      <td>(40.8598660947898, -73.8642093926991)</td>\n",
       "    </tr>\n",
       "  </tbody>\n",
       "</table>\n",
       "</div>"
      ],
      "text/plain": [
       "  INSPECTION_TYPE  JOB_TICKET_OR_WORK_ORDER_ID   JOB_ID  JOB_PROGRESS  \\\n",
       "0      COMPLIANCE                        20090  PO14874             2   \n",
       "1      COMPLIANCE                        24538  PO17193             2   \n",
       "2      COMPLIANCE                        25025  PO15009             2   \n",
       "3      COMPLIANCE                        25027  PO15005             2   \n",
       "4      COMPLIANCE                        25032  PO15007             2   \n",
       "\n",
       "          BBL  BORO_CODE  BLOCK  LOT HOUSE_NUMBER        STREET_NAME  \\\n",
       "0  3001480046          3    148   46           81  WILLOUGHBY STREET   \n",
       "1  4123940091          4  12394   91       172-04   LINDEN BOULEVARD   \n",
       "2  2029470041          2   2947   41         1881     BELMONT AVENUE   \n",
       "3  2032340065          2   3234   65          212  WEST FORDHAM ROAD   \n",
       "4  2043520001          2   4352    1          789       ASTOR AVENUE   \n",
       "\n",
       "   ZIP_CODE    X_COORD   Y_COORD   LATITUDE  LONGITUDE   BOROUGH  \\\n",
       "0   11201.0   988201.0  191458.0  40.692184 -73.985753  Brooklyn   \n",
       "1   11434.0  1045829.0  191395.0  40.691804 -73.777942    Queens   \n",
       "2   10457.0  1013847.0  247021.0  40.844647 -73.893030     Bronx   \n",
       "3   10468.0  1009198.0  253356.0  40.862049 -73.909810     Bronx   \n",
       "4   10467.0  1021812.0  252577.0  40.859866 -73.864209     Bronx   \n",
       "\n",
       "      INSPECTION_DATE            RESULT       APPROVED_DATE  \\\n",
       "0 2010-05-14 13:46:39  Active Rat Signs 2010-05-18 13:00:01   \n",
       "1 2010-03-03 09:21:09  Active Rat Signs 2010-03-05 11:30:16   \n",
       "2 2010-01-06 10:45:24  Active Rat Signs 2010-01-14 11:45:09   \n",
       "3 2010-01-06 15:15:55  Active Rat Signs 2010-01-14 11:44:46   \n",
       "4 2010-01-22 15:10:03  Active Rat Signs 2010-01-26 15:16:54   \n",
       "\n",
       "                                LOCATION  \n",
       "0  (40.6921838341671, -73.9857525784075)  \n",
       "1  (40.6918037759981, -73.7779418602477)  \n",
       "2    (40.8446468740184, -73.89302971662)  \n",
       "3  (40.8620488653607, -73.9098097882175)  \n",
       "4  (40.8598660947898, -73.8642093926991)  "
      ]
     },
     "execution_count": 51,
     "metadata": {},
     "output_type": "execute_result"
    }
   ],
   "source": [
    "rats.head()"
   ]
  },
  {
   "cell_type": "markdown",
   "metadata": {},
   "source": [
    "Let's do some grouping to explore the data."
   ]
  },
  {
   "cell_type": "code",
   "execution_count": 52,
   "metadata": {},
   "outputs": [
    {
     "data": {
      "text/plain": [
       "INSPECTION_TYPE\n",
       "COMPLIANCE     52013\n",
       "INITIAL       101664\n",
       "Name: INSPECTION_TYPE, dtype: int64"
      ]
     },
     "execution_count": 52,
     "metadata": {},
     "output_type": "execute_result"
    }
   ],
   "source": [
    "rats.groupby('INSPECTION_TYPE')['INSPECTION_TYPE'].count()"
   ]
  },
  {
   "cell_type": "code",
   "execution_count": 53,
   "metadata": {},
   "outputs": [
    {
     "data": {
      "text/plain": [
       "BORO_CODE\n",
       "1    46925\n",
       "2    57711\n",
       "3    37909\n",
       "4     9152\n",
       "5     1980\n",
       "Name: BORO_CODE, dtype: int64"
      ]
     },
     "execution_count": 53,
     "metadata": {},
     "output_type": "execute_result"
    }
   ],
   "source": [
    "rats.groupby('BORO_CODE')['BORO_CODE'].count().head()"
   ]
  },
  {
   "cell_type": "code",
   "execution_count": 54,
   "metadata": {},
   "outputs": [
    {
     "data": {
      "text/plain": [
       "STREET_NAME\n",
       "                                     1\n",
       "   1 AVENUE                         24\n",
       "   2 AVENUE                         28\n",
       "   3 AVENUE                         19\n",
       "   3 STREET                          3\n",
       "   4 AVENUE                         10\n",
       "   5 AVENUE                         46\n",
       "   5 STREET                          3\n",
       "   6 AVENUE                          9\n",
       "   6 STREET                          3\n",
       "   7 AVENUE                         30\n",
       "   7 AVENUE SOUTH                    1\n",
       "   8 AVENUE                         13\n",
       "   9 AVENUE                          8\n",
       "   9 STREET                          9\n",
       "  10 AVENUE                          2\n",
       "  11 AVENUE                          1\n",
       "  11 STREET                          2\n",
       "  12 AVENUE                          2\n",
       "  12 STREET                          4\n",
       "Name: STREET_NAME, dtype: int64"
      ]
     },
     "execution_count": 54,
     "metadata": {},
     "output_type": "execute_result"
    }
   ],
   "source": [
    "rats.groupby('STREET_NAME')['STREET_NAME'].count().head(20)"
   ]
  },
  {
   "cell_type": "markdown",
   "metadata": {},
   "source": [
    "This dataset clearly needs some cleaning. We can Pandas' [text features](https://pandas.pydata.org/pandas-docs/stable/text.html) to strip the whitespace out of the data."
   ]
  },
  {
   "cell_type": "code",
   "execution_count": 55,
   "metadata": {},
   "outputs": [
    {
     "data": {
      "text/plain": [
       "STREET_NAME\n",
       "                          1\n",
       "********************     54\n",
       "0000                      1\n",
       "1 AVENUE                592\n",
       "1 PLACE                   2\n",
       "1 STREET                 22\n",
       "1/2 2 AVENUE              1\n",
       "1/2 5 AVENUE              2\n",
       "1/2 7 AVENUE SOUTH        4\n",
       "1/2 BEDFORD STREET        1\n",
       "1/2 BRIGGS AVENUE         1\n",
       "1/2 DOWNING STREET        1\n",
       "1/2 EAST 115 STREET       4\n",
       "1/2 EAST 7 STREET         3\n",
       "1/2 EAST 9 STREET         1\n",
       "1/2 KING STREET           1\n",
       "1/2 ROGERS AVENUE         3\n",
       "1/2 ST MARKS PLACE        1\n",
       "10 AVENUE               226\n",
       "10 STREET                40\n",
       "Name: STREET_NAME, dtype: int64"
      ]
     },
     "execution_count": 55,
     "metadata": {},
     "output_type": "execute_result"
    }
   ],
   "source": [
    "# clean up street name\n",
    "street_names_cleaned = rats.STREET_NAME.str.strip()\n",
    "street_names_cleaned.groupby(street_names_cleaned).count().head(20)"
   ]
  },
  {
   "cell_type": "code",
   "execution_count": 56,
   "metadata": {},
   "outputs": [
    {
     "data": {
      "text/plain": [
       "STREET_NAME\n",
       "GRAND CONCOURSE       2332\n",
       "BROADWAY              2275\n",
       "AMSTERDAM AVENUE      1233\n",
       "3 AVENUE              1199\n",
       "WEBSTER AVENUE        1148\n",
       "MORRIS AVENUE         1096\n",
       "JEROME AVENUE         1039\n",
       "WALTON AVENUE          990\n",
       "EASTERN PARKWAY        989\n",
       "PARK AVENUE            969\n",
       "ST NICHOLAS AVENUE     969\n",
       "LAFAYETTE AVENUE       946\n",
       "VALENTINE AVENUE       833\n",
       "2 AVENUE               831\n",
       "LEXINGTON AVENUE       812\n",
       "BEDFORD AVENUE         804\n",
       "WASHINGTON AVENUE      775\n",
       "GREENE AVENUE          765\n",
       "CRESTON AVENUE         762\n",
       "GRAND AVENUE           754\n",
       "Name: STREET_NAME, dtype: int64"
      ]
     },
     "execution_count": 56,
     "metadata": {},
     "output_type": "execute_result"
    }
   ],
   "source": [
    "count = street_names_cleaned.groupby(street_names_cleaned).count()\n",
    "count.sort_values(ascending=False).head(20)"
   ]
  },
  {
   "cell_type": "markdown",
   "metadata": {},
   "source": [
    "To get a better idea of the geography, let's plot the locations of the inspections. But first let's look at the statistics."
   ]
  },
  {
   "cell_type": "code",
   "execution_count": 57,
   "metadata": {},
   "outputs": [
    {
     "data": {
      "text/html": [
       "<div>\n",
       "<style>\n",
       "    .dataframe thead tr:only-child th {\n",
       "        text-align: right;\n",
       "    }\n",
       "\n",
       "    .dataframe thead th {\n",
       "        text-align: left;\n",
       "    }\n",
       "\n",
       "    .dataframe tbody tr th {\n",
       "        vertical-align: top;\n",
       "    }\n",
       "</style>\n",
       "<table border=\"1\" class=\"dataframe\">\n",
       "  <thead>\n",
       "    <tr style=\"text-align: right;\">\n",
       "      <th></th>\n",
       "      <th>LATITUDE</th>\n",
       "      <th>LONGITUDE</th>\n",
       "    </tr>\n",
       "  </thead>\n",
       "  <tbody>\n",
       "    <tr>\n",
       "      <th>count</th>\n",
       "      <td>153287.000000</td>\n",
       "      <td>153287.000000</td>\n",
       "    </tr>\n",
       "    <tr>\n",
       "      <th>mean</th>\n",
       "      <td>40.739997</td>\n",
       "      <td>-73.891660</td>\n",
       "    </tr>\n",
       "    <tr>\n",
       "      <th>std</th>\n",
       "      <td>1.597272</td>\n",
       "      <td>1.976276</td>\n",
       "    </tr>\n",
       "    <tr>\n",
       "      <th>min</th>\n",
       "      <td>-85.443283</td>\n",
       "      <td>-155.778285</td>\n",
       "    </tr>\n",
       "    <tr>\n",
       "      <th>25%</th>\n",
       "      <td>40.704501</td>\n",
       "      <td>-73.956326</td>\n",
       "    </tr>\n",
       "    <tr>\n",
       "      <th>50%</th>\n",
       "      <td>40.798233</td>\n",
       "      <td>-73.927751</td>\n",
       "    </tr>\n",
       "    <tr>\n",
       "      <th>75%</th>\n",
       "      <td>40.843956</td>\n",
       "      <td>-73.901753</td>\n",
       "    </tr>\n",
       "    <tr>\n",
       "      <th>max</th>\n",
       "      <td>40.912863</td>\n",
       "      <td>56.311386</td>\n",
       "    </tr>\n",
       "  </tbody>\n",
       "</table>\n",
       "</div>"
      ],
      "text/plain": [
       "            LATITUDE      LONGITUDE\n",
       "count  153287.000000  153287.000000\n",
       "mean       40.739997     -73.891660\n",
       "std         1.597272       1.976276\n",
       "min       -85.443283    -155.778285\n",
       "25%        40.704501     -73.956326\n",
       "50%        40.798233     -73.927751\n",
       "75%        40.843956     -73.901753\n",
       "max        40.912863      56.311386"
      ]
     },
     "execution_count": 57,
     "metadata": {},
     "output_type": "execute_result"
    }
   ],
   "source": [
    "rats[['LATITUDE', 'LONGITUDE']].describe()"
   ]
  },
  {
   "cell_type": "markdown",
   "metadata": {},
   "source": [
    "There are clearly some weird outliers in the location data. We need to strip these out before plotting."
   ]
  },
  {
   "cell_type": "code",
   "execution_count": 58,
   "metadata": {},
   "outputs": [
    {
     "data": {
      "text/plain": [
       "<matplotlib.axes._subplots.AxesSubplot at 0x12016bba8>"
      ]
     },
     "execution_count": 58,
     "metadata": {},
     "output_type": "execute_result"
    },
    {
     "data": {
      "image/png": "[encoded data removed]",
      "text/plain": [
       "<matplotlib.figure.Figure at 0x12016be80>"
      ]
     },
     "metadata": {},
     "output_type": "display_data"
    }
   ],
   "source": [
    "valid_latlon = rats[(rats.LATITUDE > 30) & (rats.LONGITUDE < -70)]\n",
    "valid_latlon.plot.hexbin('LONGITUDE', 'LATITUDE', C='BORO_CODE', cmap='Set1')"
   ]
  },
  {
   "cell_type": "code",
   "execution_count": 59,
   "metadata": {},
   "outputs": [
    {
     "data": {
      "text/plain": [
       "<matplotlib.axes._subplots.AxesSubplot at 0x120175ba8>"
      ]
     },
     "execution_count": 59,
     "metadata": {},
     "output_type": "execute_result"
    },
    {
     "data": {
      "image/png": "[encoded data removed]",
      "text/plain": [
       "<matplotlib.figure.Figure at 0x124ace898>"
      ]
     },
     "metadata": {},
     "output_type": "display_data"
    }
   ],
   "source": [
    "# https://github.com/pandas-dev/pandas/issues/10678\n",
    "valid_latlon.plot.hexbin('LONGITUDE', 'LATITUDE', sharex=False)"
   ]
  },
  {
   "cell_type": "code",
   "execution_count": 60,
   "metadata": {},
   "outputs": [
    {
     "data": {
      "text/plain": [
       "<matplotlib.axes._subplots.AxesSubplot at 0x11ed1c438>"
      ]
     },
     "execution_count": 60,
     "metadata": {},
     "output_type": "execute_result"
    },
    {
     "data": {
      "image/png": "[encoded data removed]",
      "text/plain": [
       "<matplotlib.figure.Figure at 0x11c9c4748>"
      ]
     },
     "metadata": {},
     "output_type": "display_data"
    }
   ],
   "source": [
    "valid_latlon.plot.hexbin('LONGITUDE', 'LATITUDE', sharex=False, bins='log', cmap='magma')"
   ]
  },
  {
   "cell_type": "code",
   "execution_count": 61,
   "metadata": {},
   "outputs": [
    {
     "data": {
      "text/plain": [
       "<matplotlib.axes._subplots.AxesSubplot at 0x11fb2f630>"
      ]
     },
     "execution_count": 61,
     "metadata": {},
     "output_type": "execute_result"
    },
    {
     "data": {
      "image/png": "[encoded data removed]",
      "text/plain": [
       "<matplotlib.figure.Figure at 0x11f4ef128>"
      ]
     },
     "metadata": {},
     "output_type": "display_data"
    }
   ],
   "source": [
    "manhattan_rats = valid_latlon[valid_latlon.BORO_CODE==1]\n",
    "manhattan_rats.plot.hexbin('LONGITUDE', 'LATITUDE', sharex=False, bins='log', cmap='magma')"
   ]
  },
  {
   "cell_type": "code",
   "execution_count": null,
   "metadata": {},
   "outputs": [
    {
     "data": {
      "image/png": "[encoded data removed]",
      "text/plain": [
       "<matplotlib.figure.Figure at 0x11e5db080>"
      ]
     },
     "metadata": {},
     "output_type": "display_data"
    }
   ],
   "source": [
    "inspection_date = pd.DatetimeIndex(rats.INSPECTION_DATE)\n",
    "\n",
    "fig, ax = plt.subplots()\n",
    "rats.groupby(inspection_date.weekday)['JOB_ID'].count().plot(kind='bar', ax=ax)\n",
    "ax.set_xlabel('weekday');"
   ]
  },
  {
   "cell_type": "code",
   "execution_count": null,
   "metadata": {},
   "outputs": [],
   "source": [
    "fig, ax = plt.subplots()\n",
    "rats.groupby(inspection_date.hour)['JOB_ID'].count().plot(kind='bar', ax=ax)\n",
    "ax.set_xlabel('hour');"
   ]
  },
  {
   "cell_type": "code",
   "execution_count": null,
   "metadata": {},
   "outputs": [],
   "source": [
    "fig, ax = plt.subplots()\n",
    "rats.groupby(inspection_date.month)['JOB_ID'].count().plot(kind='bar', ax=ax)\n",
    "ax.set_xlabel('month')"
   ]
  },
  {
   "cell_type": "code",
   "execution_count": null,
   "metadata": {},
   "outputs": [],
   "source": []
  }
 ],
 "metadata": {
  "kernelspec": {
   "display_name": "Python 3",
   "language": "python",
   "name": "python3"
  },
  "language_info": {
   "codemirror_mode": {
    "name": "ipython",
    "version": 3
   },
   "file_extension": ".py",
   "mimetype": "text/x-python",
   "name": "python",
   "nbconvert_exporter": "python",
   "pygments_lexer": "ipython3",
   "version": "3.6.3"
  },
  "toc": {
   "nav_menu": {},
   "number_sections": true,
   "sideBar": false,
   "skip_h1_title": false,
   "toc_cell": true,
   "toc_position": {},
   "toc_section_display": "block",
   "toc_window_display": false
  }
 },
 "nbformat": 4,
 "nbformat_minor": 2
}
