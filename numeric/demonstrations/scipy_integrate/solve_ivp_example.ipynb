{
 "cells": [
  {
   "cell_type": "markdown",
   "metadata": {
    "toc": "true"
   },
   "source": [
    "<h1>Table of Contents<span class=\"tocSkip\"></span></h1>\n",
    "<div class=\"toc\" style=\"margin-top: 1em;\"><ul class=\"toc-item\"><li><span><a href=\"#Installation\" data-toc-modified-id=\"Installation-1\"><span class=\"toc-item-num\">1&nbsp;&nbsp;</span>Installation</a></span></li><li><span><a href=\"#Examples-of-usage-of-solve_ivp\" data-toc-modified-id=\"Examples-of-usage-of-solve_ivp-2\"><span class=\"toc-item-num\">2&nbsp;&nbsp;</span>Examples of usage of solve_ivp</a></span><ul class=\"toc-item\"><li><span><a href=\"#1.-Restricted-three-body-problem\" data-toc-modified-id=\"1.-Restricted-three-body-problem-2.1\"><span class=\"toc-item-num\">2.1&nbsp;&nbsp;</span>1. Restricted three body problem</a></span></li><li><span><a href=\"#2.-Bouncing-ball\" data-toc-modified-id=\"2.-Bouncing-ball-2.2\"><span class=\"toc-item-num\">2.2&nbsp;&nbsp;</span>2. Bouncing ball</a></span></li><li><span><a href=\"#3.-Van-der-Pol-oscillator\" data-toc-modified-id=\"3.-Van-der-Pol-oscillator-2.3\"><span class=\"toc-item-num\">2.3&nbsp;&nbsp;</span>3. Van der Pol oscillator</a></span></li></ul></li></ul></div>"
   ]
  },
  {
   "cell_type": "markdown",
   "metadata": {},
   "source": [
    "# Installation\n",
    "\n",
    "    git clone https://github.com/phaustin/eos_integrate.git\n",
    "    cd eos_integrate\n",
    "    pip install ."
   ]
  },
  {
   "cell_type": "markdown",
   "metadata": {},
   "source": [
    "# Examples of usage of solve_ivp"
   ]
  },
  {
   "cell_type": "code",
   "execution_count": 1,
   "metadata": {},
   "outputs": [],
   "source": [
    "%matplotlib inline\n",
    "import matplotlib.pyplot as plt\n",
    "import numpy as np\n",
    "from eos_integrate import solve_ivp, DenseOutput"
   ]
  },
  {
   "cell_type": "markdown",
   "metadata": {},
   "source": [
    "## 1. Restricted three body problem"
   ]
  },
  {
   "cell_type": "markdown",
   "metadata": {},
   "source": [
    "The formulation is taken from an introductory chapter to Runge-Kutta methods in \"Solving Ordinary Differential Equations I\". The system of differential equations describes the \n",
    "motion of a body with a neglible mass in a gravitational field of two bodies with masses $\\mu$ and $\\nu = 1 - \\mu$."
   ]
  },
  {
   "cell_type": "markdown",
   "metadata": {},
   "source": [
    "$$\n",
    "y_1'' = y_1 + 2 y_2' - \\nu \\frac{y_1 + \\mu}{D_1} - \\mu \\frac{y_1 - \\mu'}{D_2} \\\\\n",
    "y_2'' = y_2 - 2 y_1' - \\nu \\frac{y_2}{D_1} - \\mu \\frac{y_2}{D_2} \\\\\n",
    "D_1 = ((y_1 + \\mu)^2 + y_2^2)^{3/2}, \\quad D_2 = ((y_1 - \\nu)^2 + y_2^2)^{3/2} \\\\\n",
    "\\mu = 0.012277471\n",
    "$$"
   ]
  },
  {
   "cell_type": "markdown",
   "metadata": {},
   "source": [
    "The initial values are picked such that the solution is periodic with period $x_{end}$:\n",
    "$$\n",
    "y_1(0) = 0.994, y_1′(0) = 0, y_2(0) = 0 \\\\\n",
    "y_2′(0) = −2.00158510637908252240537862224 \\\\\n",
    "x_{end} = 17.0652165601579625588917206249\n",
    "$$"
   ]
  },
  {
   "cell_type": "markdown",
   "metadata": {},
   "source": [
    "It is straightforward to rewrite this systems as another first order system. We define the constants and evaluation of the system right-hand side:"
   ]
  },
  {
   "cell_type": "code",
   "execution_count": 3,
   "metadata": {},
   "outputs": [],
   "source": [
    "mu = 0.0122771\n",
    "nu = 1 - mu\n",
    "\n",
    "a = 0\n",
    "b = 17.0652165601579625588917206249\n",
    "ya = [0.994, 0, 0, -2.00158510637908252240537862224]"
   ]
  },
  {
   "cell_type": "code",
   "execution_count": 4,
   "metadata": {},
   "outputs": [],
   "source": [
    "def fun(x, y):\n",
    "    D1 = ((y[0] + mu)**2 + y[1]**2) ** 1.5\n",
    "    D2 = ((y[0] - nu)**2 + y[1]**2) ** 1.5\n",
    "\n",
    "    return [\n",
    "        y[2],\n",
    "        y[3],\n",
    "        y[0] + 2 * y[3] - nu * (y[0] + mu) / D1 - mu * (y[0] - nu) / D2,\n",
    "        y[1] - 2 * y[2] - nu * y[1] / D1 - mu * y[1] / D2\n",
    "    ]"
   ]
  },
  {
   "cell_type": "markdown",
   "metadata": {},
   "source": [
    "The ODE is integrated by a single call:"
   ]
  },
  {
   "cell_type": "code",
   "execution_count": 5,
   "metadata": {},
   "outputs": [
    {
     "data": {
      "text/plain": [
       "eos_integrate._ivp.ivp.OdeResult"
      ]
     },
     "execution_count": 5,
     "metadata": {},
     "output_type": "execute_result"
    }
   ],
   "source": [
    "res = solve_ivp(fun, [a, b], ya, rtol=1e-3, dense_output=True, method='RK45')\n",
    "type(res)"
   ]
  },
  {
   "cell_type": "markdown",
   "metadata": {},
   "source": [
    "The function `solve_ivp` provides a continuous solution with the *same accuracy* as underlying method. Here we use is to produce a smooth plot with the compued trajectory."
   ]
  },
  {
   "cell_type": "code",
   "execution_count": 6,
   "metadata": {},
   "outputs": [],
   "source": [
    "xp = np.linspace(a, b, 500)\n",
    "yp = res.sol(xp)"
   ]
  },
  {
   "cell_type": "code",
   "execution_count": 7,
   "metadata": {},
   "outputs": [
    {
     "name": "stdout",
     "output_type": "stream",
     "text": [
      "Help on OdeSolution in module eos_integrate._ivp.common object:\n",
      "\n",
      "class OdeSolution(builtins.object)\n",
      " |  Continuous ODE solution.\n",
      " |  \n",
      " |  It is organized as a collection of `DenseOutput` objects which represent\n",
      " |  local interpolants. It provides an algorithm to select a right interpolant\n",
      " |  for each given point.\n",
      " |  \n",
      " |  The interpolants cover the range between `t_min` and `t_max` (see\n",
      " |  Attributes below). Evaluation outside this interval is not forbidden, but\n",
      " |  the accuracy is not guaranteed.\n",
      " |  \n",
      " |  When evaluating at a breakpoint (one of the values in `ts`) a segment with\n",
      " |  the lower index is selected.\n",
      " |  \n",
      " |  Parameters\n",
      " |  ----------\n",
      " |  ts : array_like, shape (n_segments + 1,)\n",
      " |      Time instants between which local interpolants are defined. Must\n",
      " |      be strictly increasing or decreasing (zero segment with two points is\n",
      " |      also allowed).\n",
      " |  interpolants : list of DenseOutput with n_segments elements\n",
      " |      Local interpolants. An i-th interpolant is assumed to be defined\n",
      " |      between ``ts[i]`` and ``ts[i + 1]``.\n",
      " |  \n",
      " |  Attributes\n",
      " |  ----------\n",
      " |  t_min, t_max : float\n",
      " |      Time range of the interpolation.\n",
      " |  \n",
      " |  Methods defined here:\n",
      " |  \n",
      " |  __call__(self, t)\n",
      " |      Evaluate the solution.\n",
      " |      \n",
      " |      Parameters\n",
      " |      ----------\n",
      " |      t : float or array_like with shape (n_points,)\n",
      " |          Points to evaluate at.\n",
      " |      \n",
      " |      Returns\n",
      " |      -------\n",
      " |      y : ndarray, shape (n_states,) or (n_states, n_points)\n",
      " |          Computed values. Shape depends on whether `t` is a scalar or a\n",
      " |          1-d array.\n",
      " |  \n",
      " |  __init__(self, ts, interpolants)\n",
      " |      Initialize self.  See help(type(self)) for accurate signature.\n",
      " |  \n",
      " |  ----------------------------------------------------------------------\n",
      " |  Data descriptors defined here:\n",
      " |  \n",
      " |  __dict__\n",
      " |      dictionary for instance variables (if defined)\n",
      " |  \n",
      " |  __weakref__\n",
      " |      list of weak references to the object (if defined)\n",
      "\n"
     ]
    }
   ],
   "source": [
    "help(res.sol)"
   ]
  },
  {
   "cell_type": "code",
   "execution_count": 8,
   "metadata": {},
   "outputs": [
    {
     "data": {
      "text/plain": [
       "[<matplotlib.lines.Line2D at 0x11c4ee278>]"
      ]
     },
     "execution_count": 8,
     "metadata": {},
     "output_type": "execute_result"
    },
    {
     "data": {
      "image/png": "[encoded data removed]",
      "text/plain": [
       "<matplotlib.figure.Figure at 0x11a4d7978>"
      ]
     },
     "metadata": {},
     "output_type": "display_data"
    }
   ],
   "source": [
    "plt.figure(figsize=(10, 8))\n",
    "plt.plot(yp[0], yp[1], '-')\n",
    "plt.plot(res.y[0], res.y[1], '.')"
   ]
  },
  {
   "cell_type": "markdown",
   "metadata": {},
   "source": [
    "We see that at some regions the solver takes quite large steps, but an accurate solution is available at all points nevertheless."
   ]
  },
  {
   "cell_type": "markdown",
   "metadata": {},
   "source": [
    "## 2. Bouncing ball"
   ]
  },
  {
   "cell_type": "markdown",
   "metadata": {},
   "source": [
    "This example illustrates event detection capabilities. The problem is very simple: a ball bounces from the ground and loses some fraction of its vertical velocity."
   ]
  },
  {
   "cell_type": "markdown",
   "metadata": {},
   "source": [
    "Define constants."
   ]
  },
  {
   "cell_type": "code",
   "execution_count": 9,
   "metadata": {},
   "outputs": [],
   "source": [
    "g = -9.81  # Gravity.\n",
    "alpha = 0.8  # Ratio of preserved velocity.\n",
    "v_hor = 50  # Horizontal velocity.\n",
    "n_bounces = 10  # Number of bounces."
   ]
  },
  {
   "cell_type": "markdown",
   "metadata": {},
   "source": [
    "Define the system right-hand side:"
   ]
  },
  {
   "cell_type": "code",
   "execution_count": 10,
   "metadata": {},
   "outputs": [],
   "source": [
    "def fun(x, y):\n",
    "    return [v_hor, y[2], g]"
   ]
  },
  {
   "cell_type": "markdown",
   "metadata": {},
   "source": [
    "Define the bounce event:"
   ]
  },
  {
   "cell_type": "code",
   "execution_count": 11,
   "metadata": {},
   "outputs": [],
   "source": [
    "def bounce(t, y):\n",
    "    return y[1]\n",
    "\n",
    "bounce.terminal = True  # This event is terminating.\n",
    "bounce.direction = -1  # Detected when y[1] is decreasing."
   ]
  },
  {
   "cell_type": "markdown",
   "metadata": {},
   "source": [
    "The solver runs until the bounce event is detected and then gets restarted with a new value of the vertical velocity."
   ]
  },
  {
   "cell_type": "code",
   "execution_count": 12,
   "metadata": {},
   "outputs": [
    {
     "name": "stdout",
     "output_type": "stream",
     "text": [
      "bounce number:  0\n",
      "completed solution [[  0.00000000e+00   4.47209123e-04   4.91930036e-03   4.96402127e-02\n",
      "    4.96849336e-01   4.96894057e+00   4.96898529e+01   4.96898976e+02\n",
      "    1.01936799e+03]\n",
      " [  0.00000000e+00   8.94417854e-04   9.83855324e-03   9.92755907e-02\n",
      "    9.93214334e-01   9.88943863e+00   9.45353680e+01   5.09363294e+02\n",
      "   -5.68434189e-14]\n",
      " [  1.00000000e+02   9.99999123e+01   9.99990348e+01   9.99902606e+01\n",
      "    9.99025182e+01   9.90250939e+01   9.02508509e+01   2.50842085e+00\n",
      "   -1.00000000e+02]]\n",
      "\n",
      "\n",
      "bounce number:  1\n",
      "completed solution [[  1.01936799e+03   1.01936888e+03   1.01937771e+03   1.01946610e+03\n",
      "    1.02034998e+03   1.02918875e+03   1.11757651e+03   1.83486239e+03]\n",
      " [ -5.68434189e-14   1.41420250e-03   1.55560589e-02   1.56957762e-01\n",
      "    1.56928872e+00   1.55239912e+01   1.38210306e+02  -5.68434189e-14]\n",
      " [  8.00000000e+01   7.99998266e+01   7.99980924e+01   7.99807507e+01\n",
      "    7.98073340e+01   7.80731663e+01   6.07314894e+01  -8.00000000e+01]]\n",
      "\n",
      "\n",
      "bounce number:  2\n",
      "completed solution [[  1.83486239e+03   1.83486349e+03   1.83487454e+03   1.83498502e+03\n",
      "    1.83608987e+03   1.84713832e+03   1.95762286e+03   2.48725790e+03]\n",
      " [ -5.68434189e-14   1.41419973e-03   1.55559336e-02   1.56946928e-01\n",
      "    1.56822239e+00   1.54175291e+01   1.27565808e+02  -1.42108547e-14]\n",
      " [  6.40000000e+01   6.39997832e+01   6.39976155e+01   6.39759385e+01\n",
      "    6.37591678e+01   6.15914611e+01   3.99143941e+01  -6.40000000e+01]]\n",
      "\n",
      "\n",
      "bounce number:  3\n",
      "completed solution [[  2.48725790e+03   2.48725928e+03   2.48727309e+03   2.48741120e+03\n",
      "    2.48879225e+03   2.50260279e+03   2.64070821e+03   3.00917431e+03]\n",
      " [ -1.42108547e-14   1.41419573e-03   1.55557413e-02   1.56930034e-01\n",
      "    1.56655660e+00   1.52511865e+01   1.10933908e+02   2.84217094e-14]\n",
      " [  5.12000000e+01   5.11997290e+01   5.11970194e+01   5.11699231e+01\n",
      "    5.08989603e+01   4.81893320e+01   2.10930493e+01  -5.12000000e+01]]\n",
      "\n",
      "\n",
      "bounce number:  4\n",
      "completed solution [[  3.00917431e+03   3.00917604e+03   3.00919330e+03   3.00936593e+03\n",
      "    3.01109225e+03   3.02835538e+03   3.20098674e+03   3.42670744e+03]\n",
      " [  2.84217094e-14   1.41419022e-03   1.55554492e-02   1.56903721e-01\n",
      "    1.56395467e+00   1.49912863e+01   8.49468221e+01   0.00000000e+00]\n",
      " [  4.09600000e+01   4.09596613e+01   4.09562743e+01   4.09224040e+01\n",
      "    4.05837013e+01   3.71966741e+01   3.32640213e+00  -4.09600000e+01]]\n",
      "\n",
      "\n",
      "bounce number:  5\n",
      "completed solution [[  3.42670744e+03   3.42670960e+03   3.42673118e+03   3.42694697e+03\n",
      "    3.42910485e+03   3.45068371e+03   3.66647225e+03   3.76073394e+03]\n",
      " [  0.00000000e+00   1.41418264e-03   1.55550041e-02   1.56862723e-01\n",
      "    1.55989032e+00   1.45852070e+01   4.43424513e+01   0.00000000e+00]\n",
      " [  3.27680000e+01   3.27675766e+01   3.27633429e+01   3.27210051e+01\n",
      "    3.22976280e+01   2.80638569e+01  -1.42738547e+01  -3.27680000e+01]]\n",
      "\n",
      "\n",
      "bounce number:  6\n",
      "completed solution [[  3.76073394e+03   3.76073664e+03   3.76076362e+03   3.76103335e+03\n",
      "    3.76373070e+03   3.79070416e+03   4.02795515e+03]\n",
      " [  0.00000000e+00   1.41417213e-03   1.55543232e-02   1.56798810e-01\n",
      "    1.55354131e+00   1.39507294e+01   5.32907052e-15]\n",
      " [  2.62144000e+01   2.62138708e+01   2.62085786e+01   2.61556566e+01\n",
      "    2.56264373e+01   2.03342434e+01  -2.62144000e+01]]\n",
      "\n",
      "\n",
      "bounce number:  7\n",
      "completed solution [[  4.02795515e+03   4.02795852e+03   4.02799224e+03   4.02832940e+03\n",
      "    4.03170107e+03   4.06541774e+03   4.24173211e+03]\n",
      " [  5.32907052e-15   1.41415737e-03   1.55532776e-02   1.56699132e-01\n",
      "    1.54362296e+00   1.29593895e+01  -5.32907052e-15]\n",
      " [  2.09715200e+01   2.09708585e+01   2.09642433e+01   2.08980912e+01\n",
      "    2.02365701e+01   1.36213593e+01  -2.09715200e+01]]\n",
      "\n",
      "\n",
      "bounce number:  8\n",
      "completed solution [[  4.24173211e+03   4.24173632e+03   4.24177847e+03   4.24219993e+03\n",
      "    4.24641448e+03   4.28856007e+03   4.41275368e+03]\n",
      " [ -5.32907052e-15   1.41413640e-03   1.55516669e-02   1.56543622e-01\n",
      "    1.52812813e+00   1.14104693e+01   0.00000000e+00]\n",
      " [  1.67772160e+01   1.67763891e+01   1.67681201e+01   1.66854305e+01\n",
      "    1.58585341e+01   7.58956979e+00  -1.67772160e+01]]\n",
      "\n",
      "\n",
      "bounce number:  9\n",
      "completed solution [[  4.41275368e+03   4.41275895e+03   4.41281163e+03   4.41333845e+03\n",
      "    4.41860660e+03   4.47128820e+03   4.54957094e+03]\n",
      " [  0.00000000e+00   1.41410627e-03   1.55491792e-02   1.56300932e-01\n",
      "    1.50392086e+00   8.99035941e+00   1.77635684e-15]\n",
      " [  1.34217728e+01   1.34207392e+01   1.34104031e+01   1.33070418e+01\n",
      "    1.22734289e+01   1.93730056e+00  -1.34217728e+01]]\n",
      "\n",
      "\n"
     ]
    },
    {
     "name": "stderr",
     "output_type": "stream",
     "text": [
      "/Users/phil/mini36/lib/python3.6/site-packages/eos_integrate/_ivp/rk.py:145: RuntimeWarning: divide by zero encountered in double_scalars\n",
      "  max(1, SAFETY * error_norm ** (-1 / (order + 1))))\n"
     ]
    }
   ],
   "source": [
    "ya = [0, 0, 100]  # Start at (0, 0) and with the vertical velocity of 10.\n",
    "\n",
    "\n",
    "sol_smooth=[]\n",
    "for i in range(n_bounces):\n",
    "    print('bounce number: ',i)\n",
    "    # Use a 3-rd order Runge-Kutta method.\n",
    "    # Integration interval is not relevant. \n",
    "    start,stop=0,1500\n",
    "    res = solve_ivp(fun,[start,stop] ,ya,t_eval=None, events=bounce,dense_output=True, method='RK45')\n",
    "    tpoints=np.linspace(res.t[0],res.t[-1],50)\n",
    "    print(f'completed solution {res.y}\\n\\n')\n",
    "    smooth_y=res.sol(tpoints)\n",
    "    sol_smooth.append(smooth_y)\n",
    "    ya = res.y[:, -1].copy()\n",
    "    ya[2] *= -alpha"
   ]
  },
  {
   "cell_type": "code",
   "execution_count": 13,
   "metadata": {},
   "outputs": [
    {
     "data": {
      "text/plain": [
       "[None, None, None, None, None, None, None, None, None, None]"
      ]
     },
     "execution_count": 13,
     "metadata": {},
     "output_type": "execute_result"
    }
   ],
   "source": [
    "xvals=[]\n",
    "yvals=[]\n",
    "[xvals.extend(item[0]) for item in sol_smooth]\n",
    "[yvals.extend(item[1]) for item in sol_smooth]"
   ]
  },
  {
   "cell_type": "code",
   "execution_count": 14,
   "metadata": {},
   "outputs": [
    {
     "data": {
      "image/png": "[encoded data removed]",
      "text/plain": [
       "<matplotlib.figure.Figure at 0x11c7176d8>"
      ]
     },
     "metadata": {},
     "output_type": "display_data"
    }
   ],
   "source": [
    "plt.figure(figsize=(10, 6))\n",
    "#plt.plot(sol_smooth[0], sol_smooth[1], '-')\n",
    "plt.plot(xvals,yvals, 'r-', fillstyle='none')\n",
    "plt.hlines([0], 0, 10);"
   ]
  },
  {
   "cell_type": "markdown",
   "metadata": {
    "collapsed": true
   },
   "source": [
    "## 3. Van der Pol oscillator"
   ]
  },
  {
   "cell_type": "markdown",
   "metadata": {},
   "source": [
    "The system for Van der Pol oscillator is given as:\n",
    "$$\n",
    "y_1' = y_2, \\\\\n",
    "y_2' = \\mu (1 - y_1^2) y_2 - y_1 \\\\\n",
    "y_1(0) = 2, \\quad y_2(0) = 0\n",
    "$$\n",
    "It becomes stiff for high values of $\\mu$, meaning that regions of rapid transition are followed by regions where the solution varies slowly. Explicit methods either diverge or make prohibitevely many steps for stiff problems, thus implicit methods should be used. Our function `solve_ivp` implements a one-step fully implicit Runge-Kutta method of Radau II A family."
   ]
  },
  {
   "cell_type": "markdown",
   "metadata": {},
   "source": [
    "We solve this system for $\\mu = 10^3$."
   ]
  },
  {
   "cell_type": "code",
   "execution_count": 19,
   "metadata": {},
   "outputs": [],
   "source": [
    "mu = 1e3\n",
    "\n",
    "def fun(x, y):\n",
    "    return [y[1], mu * (1 - y[0]**2) * y[1] - y[0]]"
   ]
  },
  {
   "cell_type": "code",
   "execution_count": 20,
   "metadata": {},
   "outputs": [],
   "source": [
    "res = solve_ivp(fun, [0, 3000], [2, 0], method='Radau')"
   ]
  },
  {
   "cell_type": "code",
   "execution_count": 21,
   "metadata": {},
   "outputs": [
    {
     "data": {
      "text/plain": [
       "[<matplotlib.lines.Line2D at 0x11c894588>]"
      ]
     },
     "execution_count": 21,
     "metadata": {},
     "output_type": "execute_result"
    },
    {
     "data": {
      "image/png": "[encoded data removed]",
      "text/plain": [
       "<matplotlib.figure.Figure at 0x11c8945f8>"
      ]
     },
     "metadata": {},
     "output_type": "display_data"
    }
   ],
   "source": [
    "plt.plot(res.t, res.y[0])\n",
    "plt.plot(res.t, res.y[0], '.')"
   ]
  },
  {
   "cell_type": "markdown",
   "metadata": {},
   "source": [
    "Note that the solver pass flat regions in very few number of steps. It would not be the case with any explicit method, which will have to make very small steps to overcome the stability issue. For example `method='RK45'` will make more than million steps on this example."
   ]
  },
  {
   "cell_type": "markdown",
   "metadata": {},
   "source": [
    "Cannon fired upward with terminal event upon impact. The ``terminal`` and \n",
    "    ``direction`` fields of an event are applied by monkey patching a function.\n",
    "    Here ``y[0]`` is position and ``y[1]`` is velocity. The projectile starts at\n",
    "    position 0 with velocity +10. Note that the integration never reaches t=100\n",
    "    because the event is terminal."
   ]
  },
  {
   "cell_type": "code",
   "execution_count": 18,
   "metadata": {},
   "outputs": [
    {
     "name": "stdout",
     "output_type": "stream",
     "text": [
      "[array([ 20.])]\n",
      "[  0.00000000e+00   9.99900010e-05   1.09989001e-03   1.10988901e-02\n",
      "   1.11088891e-01   1.11098890e+00   1.11099890e+01   2.00000000e+01]\n",
      "[[  0.00000000e+00   9.99897510e-04   1.09985977e-02   1.10958105e-01\n",
      "    1.10780373e+00   1.08013149e+01   8.02419261e+01   1.00000000e+02]\n",
      " [  1.00000000e+01   9.99995000e+00   9.99945005e+00   9.99445055e+00\n",
      "    9.94445555e+00   9.44450555e+00   4.44500550e+00   1.77635684e-15]]\n"
     ]
    }
   ],
   "source": [
    "def upward_cannon(t, y): return [y[1], -0.5]\n",
    "def hit_ground(t, y): return y[1]\n",
    "hit_ground.terminal = True\n",
    "hit_ground.direction = -1\n",
    "sol = solve_ivp(upward_cannon, [0, 100], [0, 10], events=hit_ground)\n",
    "print(sol.t_events)\n",
    "print(sol.t)\n",
    "print(sol.y)\n"
   ]
  },
  {
   "cell_type": "code",
   "execution_count": null,
   "metadata": {},
   "outputs": [],
   "source": []
  }
 ],
 "metadata": {
  "kernelspec": {
   "display_name": "Python 3",
   "language": "python",
   "name": "python3"
  },
  "language_info": {
   "codemirror_mode": {
    "name": "ipython",
    "version": 3
   },
   "file_extension": ".py",
   "mimetype": "text/x-python",
   "name": "python",
   "nbconvert_exporter": "python",
   "pygments_lexer": "ipython3",
   "version": "3.6.3"
  },
  "toc": {
   "nav_menu": {},
   "number_sections": true,
   "sideBar": false,
   "skip_h1_title": false,
   "toc_cell": true,
   "toc_position": {},
   "toc_section_display": "block",
   "toc_window_display": false
  }
 },
 "nbformat": 4,
 "nbformat_minor": 1
}
