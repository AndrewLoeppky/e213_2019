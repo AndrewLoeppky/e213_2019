{
 "cells": [
  {
   "cell_type": "markdown",
   "metadata": {
    "toc": true
   },
   "source": [
    "<h1>Table of Contents<span class=\"tocSkip\"></span></h1>\n",
    "<div class=\"toc\"><ul class=\"toc-item\"><li><span><a href=\"#read-in-all-matrices-for-two-timesteps-and-save-in-a-dict\" data-toc-modified-id=\"read-in-all-matrices-for-two-timesteps-and-save-in-a-dict-1\"><span class=\"toc-item-num\">1&nbsp;&nbsp;</span>read in all matrices for two timesteps and save in a dict</a></span></li><li><span><a href=\"#format-the-A-matrix-for-timestep-25\" data-toc-modified-id=\"format-the-A-matrix-for-timestep-25-2\"><span class=\"toc-item-num\">2&nbsp;&nbsp;</span>format the A matrix for timestep 25</a></span></li><li><span><a href=\"#Same-for-Aa\" data-toc-modified-id=\"Same-for-Aa-3\"><span class=\"toc-item-num\">3&nbsp;&nbsp;</span>Same for Aa</a></span></li><li><span><a href=\"#Now-do-timestep-26\" data-toc-modified-id=\"Now-do-timestep-26-4\"><span class=\"toc-item-num\">4&nbsp;&nbsp;</span>Now do timestep 26</a></span></li></ul></div>"
   ]
  },
  {
   "cell_type": "code",
   "execution_count": 1,
   "metadata": {},
   "outputs": [
    {
     "name": "stdout",
     "output_type": "stream",
     "text": [
      "root_dir is /Users/phil/repos/eosc213\n",
      " and demo_dir is /Users/phil/repos/eosc213/e213_utils/demos\n",
      "\n",
      "******************************\n",
      "context imported. Front of path:\n",
      "/Users/phil/repos/eosc213\n",
      "/Users/phil/mini37/envs/e213/lib/python36.zip\n",
      "******************************\n",
      "\n",
      "here we are\n"
     ]
    }
   ],
   "source": [
    "from pathlib import Path\n",
    "import context\n",
    "import numpy as np\n",
    "from e213_utils.write_matrix import bmatrix"
   ]
  },
  {
   "cell_type": "markdown",
   "metadata": {},
   "source": [
    "# read in all matrices for two timesteps and save in a dict"
   ]
  },
  {
   "cell_type": "code",
   "execution_count": 2,
   "metadata": {},
   "outputs": [
    {
     "name": "stdout",
     "output_type": "stream",
     "text": [
      "t_26\n",
      "t_25\n"
     ]
    }
   ],
   "source": [
    "timesteps=context.demo_dir.glob(\"**/*npz\")\n",
    "all_timesteps=list(timesteps)\n",
    "timestep_dict={}\n",
    "for item in all_timesteps:\n",
    "    all_vars=np.load(item)\n",
    "    the_time=all_vars['t']\n",
    "    time_name=f\"t_{the_time}\"\n",
    "    print(time_name)\n",
    "    timestep_dict[time_name]=dict(all_vars)"
   ]
  },
  {
   "cell_type": "markdown",
   "metadata": {},
   "source": [
    "# format the A matrix for timestep 25"
   ]
  },
  {
   "cell_type": "code",
   "execution_count": 3,
   "metadata": {},
   "outputs": [
    {
     "name": "stdout",
     "output_type": "stream",
     "text": [
      "\\begin{align*}\n",
      "\\begin{bmatrix}\n",
      "  1. & 0. & 0. & ... & 0. & 0. & 0.\\\\\n",
      "  -4.32 & 8.64 & -4.32 & ... & 0. & 0. & 0.\\\\\n",
      "  0. & -4.32 & 8.64 & ... & 0. & 0. & 0.\\\\\n",
      "  ...\\\\\n",
      "  0. & 0. & 0. & ... & 8.64 & -4.32 & 0.\\\\\n",
      "  0. & 0. & 0. & ... & -4.32 & 8.64 & -4.32\\\\\n",
      "  0. & 0. & 0. & ... & 0. & 0. & 1.\\\\\n",
      "\\end{bmatrix}\n",
      "\\end{align*}\n"
     ]
    }
   ],
   "source": [
    "A=timestep_dict['t_25']['A']\n",
    "print(bmatrix(A))"
   ]
  },
  {
   "cell_type": "markdown",
   "metadata": {},
   "source": [
    "\\begin{align*}\n",
    "A_{25}=\n",
    "\\begin{bmatrix}\n",
    "  1. & 0. & 0. & ... & 0. & 0. & 0.\\\\\n",
    "  -4.32 & 8.64 & -4.32 & ... & 0. & 0. & 0.\\\\\n",
    "  0. & -4.32 & 8.64 & ... & 0. & 0. & 0.\\\\\n",
    "  ...\\\\\n",
    "  0. & 0. & 0. & ... & 8.64 & -4.32 & 0.\\\\\n",
    "  0. & 0. & 0. & ... & -4.32 & 8.64 & -4.32\\\\\n",
    "  0. & 0. & 0. & ... & 0. & 0. & 1.\\\\\n",
    "\\end{bmatrix}\n",
    "\\end{align*}"
   ]
  },
  {
   "cell_type": "markdown",
   "metadata": {},
   "source": [
    "# Same for Aa"
   ]
  },
  {
   "cell_type": "code",
   "execution_count": 4,
   "metadata": {},
   "outputs": [
    {
     "name": "stdout",
     "output_type": "stream",
     "text": [
      "\\begin{align*}\n",
      "\\begin{bmatrix}\n",
      "  1.8 & 0. & 0. & ... & 0. & 0. & 0.\\\\\n",
      "  -4.32 & 9.44 & -4.32 & ... & 0. & 0. & 0.\\\\\n",
      "  0. & -4.32 & 9.44 & ... & 0. & 0. & 0.\\\\\n",
      "  ...\\\\\n",
      "  0. & 0. & 0. & ... & 9.44 & -4.32 & 0.\\\\\n",
      "  0. & 0. & 0. & ... & -4.32 & 9.44 & -4.32\\\\\n",
      "  0. & 0. & 0. & ... & 0. & 0. & 1.8\\\\\n",
      "\\end{bmatrix}\n",
      "\\end{align*}\n"
     ]
    }
   ],
   "source": [
    "Aa=timestep_dict['t_25']['Aa']\n",
    "print(bmatrix(Aa))"
   ]
  },
  {
   "cell_type": "markdown",
   "metadata": {},
   "source": [
    "\\begin{align*}\n",
    "Aa=\n",
    "\\begin{bmatrix}\n",
    "  1.8 & 0. & 0. & ... & 0. & 0. & 0.\\\\\n",
    "  -4.32 & 9.44 & -4.32 & ... & 0. & 0. & 0.\\\\\n",
    "  0. & -4.32 & 9.44 & ... & 0. & 0. & 0.\\\\\n",
    "  ...\\\\\n",
    "  0. & 0. & 0. & ... & 9.44 & -4.32 & 0.\\\\\n",
    "  0. & 0. & 0. & ... & -4.32 & 9.44 & -4.32\\\\\n",
    "  0. & 0. & 0. & ... & 0. & 0. & 1.8\\\\\n",
    "\\end{bmatrix}\n",
    "\\end{align*}"
   ]
  },
  {
   "cell_type": "markdown",
   "metadata": {},
   "source": [
    "# Now do timestep 26"
   ]
  },
  {
   "cell_type": "code",
   "execution_count": 5,
   "metadata": {},
   "outputs": [
    {
     "name": "stdout",
     "output_type": "stream",
     "text": [
      "\\begin{align*}\n",
      "\\begin{bmatrix}\n",
      "  1.8 & 0. & 0. & ... & 0. & 0. & 0.\\\\\n",
      "  -4.32 & 9.44 & -4.32 & ... & 0. & 0. & 0.\\\\\n",
      "  0. & -4.32 & 9.44 & ... & 0. & 0. & 0.\\\\\n",
      "  ...\\\\\n",
      "  0. & 0. & 0. & ... & 9.44 & -4.32 & 0.\\\\\n",
      "  0. & 0. & 0. & ... & -4.32 & 9.44 & -4.32\\\\\n",
      "  0. & 0. & 0. & ... & 0. & 0. & 1.8\\\\\n",
      "\\end{bmatrix}\n",
      "\\end{align*}\n"
     ]
    }
   ],
   "source": [
    "Aa=timestep_dict['t_26']['Aa']\n",
    "print(bmatrix(Aa))"
   ]
  },
  {
   "cell_type": "markdown",
   "metadata": {},
   "source": [
    "\\begin{align*}\n",
    "Aa_{26} =\n",
    "\\begin{bmatrix}\n",
    "  1.8 & 0. & 0. & ... & 0. & 0. & 0.\\\\\n",
    "  -4.32 & 9.44 & -4.32 & ... & 0. & 0. & 0.\\\\\n",
    "  0. & -4.32 & 9.44 & ... & 0. & 0. & 0.\\\\\n",
    "  ...\\\\\n",
    "  0. & 0. & 0. & ... & 9.44 & -4.32 & 0.\\\\\n",
    "  0. & 0. & 0. & ... & -4.32 & 9.44 & -4.32\\\\\n",
    "  0. & 0. & 0. & ... & 0. & 0. & 1.8\\\\\n",
    "\\end{bmatrix}\n",
    "\\end{align*}"
   ]
  }
 ],
 "metadata": {
  "jupytext": {
   "cell_metadata_filter": "all",
   "formats": "ipynb,python//py:percent",
   "notebook_metadata_filter": "all",
   "text_representation": {
    "extension": ".py",
    "format_name": "percent",
    "format_version": "1.2",
    "jupytext_version": "1.0.1"
   }
  },
  "kernelspec": {
   "display_name": "Python 3",
   "language": "python",
   "name": "python3"
  },
  "language_info": {
   "codemirror_mode": {
    "name": "ipython",
    "version": 3
   },
   "file_extension": ".py",
   "mimetype": "text/x-python",
   "name": "python",
   "nbconvert_exporter": "python",
   "pygments_lexer": "ipython3",
   "version": "3.6.7"
  },
  "toc": {
   "base_numbering": 1,
   "nav_menu": {},
   "number_sections": true,
   "sideBar": true,
   "skip_h1_title": false,
   "title_cell": "Table of Contents",
   "title_sidebar": "Contents",
   "toc_cell": true,
   "toc_position": {},
   "toc_section_display": true,
   "toc_window_display": true
  }
 },
 "nbformat": 4,
 "nbformat_minor": 2
}
