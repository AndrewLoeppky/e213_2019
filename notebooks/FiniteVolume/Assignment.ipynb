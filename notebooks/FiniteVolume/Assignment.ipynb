{
 "cells": [
  {
   "cell_type": "markdown",
   "metadata": {
    "nbgrader": {
     "grade": false,
     "grade_id": "cell-46d188f356ba20fd",
     "locked": true,
     "schema_version": 1,
     "solution": false
    }
   },
   "source": [
    "## Assignment on the one-dimensional steady-state finite-volume approximation \n",
    "We just developed the fundamental stencil for 1-D steady-state diffusion in terms of concentrations in gridblocks as:\n",
    "\n",
    "### 1-D steady - state diffusion stencil (aligned in the x direction)\n",
    "\n",
    "For every cell (gridblock) within the domain (not on the boundary), we can write that (for the steady-state), the sum of all fluxes is zero.\n",
    "\n",
    "\\begin{align}\n",
    "&\\left(D\\theta \\frac{c_E - c_C}{\\Delta x} +   D\\theta \\frac{c_W - c_E}{ \\Delta x}   \\right) (\\Delta y) (\\Delta z) = 0 \\\\\n",
    "\\end{align}\n",
    "\n",
    "For the cells corresponding to the boundary problem, the equations are simple:\n",
    "\n",
    "\\begin{equation}\n",
    "c_{\\mathrm{left}} = \\text{Specified value for the left side of the domain}\n",
    "\\end{equation}\n",
    "\\begin{equation}\n",
    "c_{\\mathrm{right}} = \\text{Specified value for the right side of the domain}\n",
    "\\end{equation}\n",
    "\n",
    "### Translation into a computational problem \n",
    "\n",
    "We have seen that this stencil can be applied to any grid block and this lead to a system of $n$ equations, where $n$ is the number of gridblocks. These equations can be written in a matrix form\n",
    "\n",
    "\\begin{equation}\n",
    "Ac = b\n",
    "\\end{equation}\n",
    "\n",
    "where A is a 2D matrix ($n \\times n$), c is the solution vector (array of size $n$) and b is the right hand side (array of size $n$).\n",
    "\n",
    "Apart from the boundary conditions, every line of this matrix represents the equation above:\n",
    "\n",
    "\\begin{equation}\n",
    "\\left( -2  \\frac{D\\theta}{\\Delta x} c_C + \\frac{D\\theta}{\\Delta x}c_E + \\frac{D\\theta}{\\Delta x} c_W \\right) \\Delta y \\Delta z  = 0\n",
    "\\end{equation}\n",
    "\n",
    "In a computational sense, this can be written as:\n",
    "\n",
    "\\begin{equation}\n",
    "\\left( -2  \\frac{D\\theta}{\\Delta x} c_{\\left[i\\right]}  + \\frac{D\\theta}{\\Delta x}c_{\\left[i-1\\right]} +   \\frac{D\\theta}{\\Delta x} c_{\\left[i+1\\right]} \\right) \\Delta y \\Delta z  = 0\n",
    "\\end{equation}\n",
    "\n",
    "Therefore, for line $i$, representing the $i^{th}$ gridblock, the value for the $i-1$ columnn of matrix $A$ should be\n",
    "\\begin{equation}\n",
    "A\\left[i \\right]\\left[i-1 \\right] = + \\frac{D\\theta}{\\Delta x}\\Delta y \\Delta z\n",
    "\\end{equation}\n",
    "\n",
    "The value representing the contribution from the cell on the right ($i+1$ column) is\n",
    "\\begin{equation}\n",
    "A\\left[i \\right]\\left[i+1 \\right] = + \\frac{D\\theta}{\\Delta x}\\Delta y \\Delta z\n",
    "\\end{equation}\n",
    "\n",
    "And the term on the diagonal is\n",
    "\\begin{equation}\n",
    "A\\left[i \\right]\\left[i\\right] = -2 \\frac{D\\theta}{\\Delta x}\\Delta y \\Delta z\n",
    "\\end{equation}\n",
    "\n",
    "The boundary conditions will be written as:\n",
    "\n",
    "\\begin{equation}\n",
    "c{\\left[0\\right]}   = c_{\\text{left}}\n",
    "\\end{equation}\n",
    "\\begin{equation}\n",
    "c{\\left[n-1\\right]}   = c_{\\text{right}}\n",
    "\\end{equation}\n",
    "So that means that the matrix A will have:\n",
    "\\begin{equation}\n",
    "A\\left[0 \\right]\\left[0 \\right] = 1\n",
    "\\end{equation}\n",
    "\\begin{equation}\n",
    "A\\left[n-1 \\right]\\left[n-1 \\right] = 1\n",
    "\\end{equation}\n",
    "\n",
    "And the boundary conditions have to be in the vector $b$ (the right-hand-side):\n",
    "\\begin{equation}\n",
    "b{\\left[0 \\right]} = c_{\\text{left}}\n",
    "\\end{equation}\n",
    "\\begin{equation}\n",
    "b{\\left[n-1 \\right]} = c_{\\text{right}}\n",
    "\\end{equation}\n",
    "\n",
    "### Building these matrixes\n",
    "\n",
    "In the cell below, we have defined a function which builds the matrix A and the vector b. A lot of comments are given. We strongly advise you to make the link between the code and the previous equation. We don't need you to be able to write this alone, or by memory, but to be able to understand these lines and adapt them."
   ]
  },
  {
   "cell_type": "code",
   "execution_count": 22,
   "metadata": {
    "nbgrader": {
     "grade": false,
     "grade_id": "cell-1a2af915a90d524e",
     "locked": true,
     "schema_version": 1,
     "solution": false
    }
   },
   "outputs": [],
   "source": [
    "import matplotlib.pyplot as plt\n",
    "import numpy as np\n",
    "from numpy.testing import assert_almost_equal"
   ]
  },
  {
   "cell_type": "code",
   "execution_count": 23,
   "metadata": {
    "nbgrader": {
     "grade": false,
     "grade_id": "cell-07bfc86663956631",
     "locked": true,
     "schema_version": 1,
     "solution": false
    }
   },
   "outputs": [],
   "source": [
    "def Build_1D_Matrix(c_left, c_right, n, D, Width, poro):\n",
    "    \"\"\"\n",
    "    Constructs a coefficient matrix A and an array b related to the problem Ac = b.\n",
    "    Parameters:\n",
    "    --------------\n",
    "    c_left: (float)  left boundary condition for concentration [mg/L]\n",
    "    c_right: (float) right boundary conditions for concentration [mg/L]\n",
    "    n (int): amounts of cells/gridblocks [-]\n",
    "    D (float): value of the diffusion coefficient (supposed the same everywhere) [m2/s]\n",
    "    Width (float): Total physical width of the domain [m]\n",
    "    poro (float): porosity value, supposed the same everywhere [-]\n",
    "    Returns the matrix A, and the array b to solve the\n",
    "    discretized 1D diffusion problem Ax = b\n",
    "    ----------\n",
    "    \"\"\"\n",
    "    # The name of this function is Build_1D_Matrix. We have to know its name to use it!\n",
    "    # In this function, we will use the values of every parameters which are given to the function \n",
    "    # ( c_left, c_right, n ,..): we have to use the same names and not overwrite these!\n",
    "    A = np.zeros((n,n))  # This is the initialization of the square matrix \"A\". \n",
    "    # it is a n*n matrix which we initially fill with 0\n",
    "    b = np.zeros(n)\n",
    "    # b is the 1D array representing the RHS\n",
    "    dx = Width/(n-1)\n",
    "    # for a 10m width with 1 meter between cels, we need 11 cells\n",
    "    # so, dx, which is the length between the cells, would be 1m (10/(11-1))\n",
    "    dy = dz = dx # here it is assumed that all grid cells are cubes\n",
    "    coef = poro*D/dx*dy*dz\n",
    "    # this coefficient is the one which appears in front of every term in the conservation equation\n",
    "    \n",
    "    # Now we are going to put the coefficients in the matrix A and in vector b. \n",
    "    # So we are going to loop over every equation, each of them being described by one line of the matrix A\n",
    "    for i in range(n):  \n",
    "        if i == 0:  \n",
    "            # The first line represents the left boundary condition\n",
    "            # the \"index\" i representing the left-value is 0\n",
    "            # The equation for the left gridblock is:  1 * c[0] = c_left.\n",
    "            # So, in the matrix form, the coefficicent associated with c[0] in line 0 is 1. \n",
    "            A[i][i] = 1\n",
    "            # while the RHS associated to that is bc_left\n",
    "            b[i] = c_left            \n",
    "        elif i == n-1:\n",
    "            # Same for the right side. the equation there is c[n-1] = c_right\n",
    "            A[i][i] = 1\n",
    "            b[i] = c_right            \n",
    "        else:\n",
    "            # For every other node, we have to write the long equation.\n",
    "            East = coef\n",
    "            West = coef\n",
    "            # In the future, these might not be precisely the same, so we define one for East and one for West.\n",
    "            A[i][i] = East+West\n",
    "            A[i][i+1] = - East\n",
    "            A[i][i-1] = - West\n",
    "            # As we indexed the unknowns from left to right, the unknow corresponding\n",
    "            # to the concentration in the gridblock right to the i-th gridblock is the i+1 unknown\n",
    "            \n",
    "            # And, as there is nothing in the RHS in the equation above, the right hand side should be zero.\n",
    "            # But, as it was initialized as 0, there is no need to be b[i] = 0 (it is alreay done !)\n",
    "            \n",
    "            # We could have written things like this below, this would be precisely the same:\n",
    "            # A[i][i] = 2*coef\n",
    "            # A[i][i+1] = - coef\n",
    "            # A[i][i-1] = -coef\n",
    "    return A, b\n",
    "    # This last line is very important. It says that the function has to give back the matrix A and the array b.\n",
    "    # Basically, when you call that function, specifying all the arguments, the function will give back these\n",
    "    # two arrays, so that you can work with them."
   ]
  },
  {
   "cell_type": "code",
   "execution_count": 3,
   "metadata": {
    "lines_to_next_cell": 2,
    "nbgrader": {
     "grade": false,
     "grade_id": "cell-e5cda80cdf50fd9f",
     "locked": true,
     "schema_version": 1,
     "solution": false
    }
   },
   "outputs": [
    {
     "data": {
      "image/png": "[encoded data removed]",
      "text/plain": [
       "<Figure size 432x288 with 1 Axes>"
      ]
     },
     "metadata": {
      "needs_background": "light"
     },
     "output_type": "display_data"
    }
   ],
   "source": [
    "# Here is an example of how to initialize and use the function.\n",
    "c_left = 1  # This is the left boundary condition\n",
    "c_right = 0  # This is the right boundary condition\n",
    "n = 51 # This is the amount of cells\n",
    "Diff = 2e-9 # This is the diffusion coefficicent\n",
    "Width = 2 # This is the width\n",
    "poro = 0.4  # This is the porosity\n",
    "\n",
    "x = np.linspace(0,Width,n) # this defines the array of x-values\n",
    "\n",
    "### here is the crucial part. We are going to call the function we created\n",
    "### and provide it with our defined parameters\n",
    "A, b = Build_1D_Matrix(c_left, c_right, n, Diff, Width, poro)\n",
    "### So here, A and b will be defined by the function, which returns A and b (you can use different name here if you want)\n",
    "### ex: if you write, x,y = Build_1D_Matrix( ... ), \n",
    "### basically, it says that x = the first returned value of the function (A), \n",
    "### and y = the second value returned by the function (b). But here you can use whatever variable names you want.\n",
    "\n",
    "# Basically we have set up our system of equation A c = b. Now we only need to solve it.\n",
    "# There are numerical methods dedicated to that (we will study them in more depth later), but now, let's just use them\n",
    "# Numpy has a set of linear algebra functions, one of which is \"solve\", which we use like this:\n",
    "\n",
    "c = np.linalg.solve(A,b)\n",
    "# this basically computes the solution of problem Ac = b and puts the values of the solution in an array c.\n",
    "\n",
    "#Here is the plot of the result. You can see that on the left, c = 1, while on the right, c = 0 and observe a linear decrease.\n",
    "plt.plot(x, c, label=\"Concentration\")\n",
    "plt.xlabel(\"x-axis (m)\")\n",
    "plt.ylabel(\"Concentration (mg/L)\");"
   ]
  },
  {
   "cell_type": "code",
   "execution_count": 4,
   "metadata": {
    "nbgrader": {
     "grade": false,
     "grade_id": "cell-af89681fee310329",
     "locked": true,
     "schema_version": 1,
     "solution": false
    }
   },
   "outputs": [
    {
     "name": "stdout",
     "output_type": "stream",
     "text": [
      "Help on function Build_1D_Matrix in module __main__:\n",
      "\n",
      "Build_1D_Matrix(bc_left, bc_right, n, D, Width, poro)\n",
      "    Constructs a coefficient matrix A and an array b related to the problem Ac = b.\n",
      "    Parameters:\n",
      "    --------------\n",
      "    bc_left: (float)  left boundary condition for concentration [mg/L]\n",
      "    bc_right: (float) right boundary conditions for concentration [mg/L]\n",
      "    n (int): amounts of cells/gridblocks [-]\n",
      "    D (float): value of the diffusion coefficient (supposed the same everywhere) [m2/s]\n",
      "    Width (float): Total physical width of the domain [m]\n",
      "    poro (float): porosity value, supposed the same everywhere [-]\n",
      "    Returns the matrix A, and the array b to solve the\n",
      "    discretized 1D diffusion problem Ax = b\n",
      "    ----------\n",
      "\n"
     ]
    }
   ],
   "source": [
    "# Don't forget that you can always get help to  know what a function does,\n",
    "help(Build_1D_Matrix)"
   ]
  },
  {
   "cell_type": "markdown",
   "metadata": {
    "lines_to_next_cell": 2,
    "nbgrader": {
     "grade": false,
     "grade_id": "cell-a53c3902d8a1627d",
     "locked": true,
     "schema_version": 1,
     "solution": false
    }
   },
   "source": [
    "# Assignment\n",
    "\n",
    "## Taking into account a source term \n",
    "\n",
    "So far, our diffusion problem is simple: solute (like sulfate) is diffusing from the high concentration side to the low concentration side. But it is also possible that chemical reactions could be occurring to produce or consume sulfate within the problem domain. We now want to account for this so-called source of mass in our discrete approximation.\n",
    "\n",
    "Our assignment consists of three parts. \n",
    "\n",
    "1. We want you to develop the correct 1-D steady-state discrete approximation stencil (W-C-E) in terms of concentrations for the situation where mass is being created within the domain by, for example, a chemical reaction.\n",
    "2. We want you to modify the code to simulate diffusion with a so-called source term.\n",
    "3. We want you to generalize the discrete approximation to 2 dimensions by adding N - S gridblocks above and below C.\n",
    "\n",
    "### Production rates\n",
    "\n",
    "For this problem, we will assume that in the zones where sulfate is being produced, the rate of production is given on a per mass of sediment basis. That is, for each kg of sediment, we assume that $xx~mg$ of sulfate is generated each second; or that the source is $q=xxx~mg/kg\\cdot s$, (in words, the source is xxx mg of mass being produced for every kg of sediment every second). Assume that the bulk density of the porous sediment is $\\rho_{bulk}=2000~kg/m^3$.  That is, the mass of sediments in $1~m^3$ of porous media is $2000~kg$. \n",
    "\n",
    "**Problem**: how much mass is produced every second in a gridblock of volume $v=5~m^3$? \n",
    "\n",
    "**Note** a negative rate indicates that mass is being consumed (for instance, sulfate could be consumed by sulfate-reducing bacteria).\n",
    "\n",
    "**Source zone**\n",
    "\n",
    "We will assume that there are reactive sulfide minerals only in the zone between $0.5 m$ and $1~m$, where 0 m corresponds to the bottom boundary. This source $q$ generates sulfate at a  rate of 10$^{-9}$ $mg/(kg\\cdot s)$. But this source is not located everywhere: only between 0.5 and 1 meter.\n"
   ]
  },
  {
   "cell_type": "code",
   "execution_count": 15,
   "metadata": {
    "nbgrader": {
     "grade": false,
     "grade_id": "cell-981f7956591b2baa",
     "locked": true,
     "schema_version": 1,
     "solution": false
    }
   },
   "outputs": [],
   "source": [
    "# We define a source as an array of n elements, who are all zeros.\n",
    "Q = np.zeros(n)\n",
    "# we assign every index between 0.5 and 1 meter (between 13-25) to the source\n",
    "Q[13:25] = 5e-9 #mg/m3/s"
   ]
  },
  {
   "cell_type": "markdown",
   "metadata": {},
   "source": [
    "## 1. Add the source term to the discrete approximation\n",
    "\n",
    "\n",
    "To determine how to account for a source in our discrete approximation, recall our steady-state statement in its most fundamental (total flux) form:\n",
    "\n",
    "\\begin{align}\n",
    "J_{EC}+J_{WC} = 0\\\\\n",
    "\\end{align}\n",
    "\n",
    "In words, this equation says: the *rate* of mass fluxing (either in or out) from E, plus the *rate* of mass fluxing either in or out from W sums to zero. Both $J_{WC}$ and $J_{EC}$ have dimensions of $\\left[M\\over T\\right]$.\n",
    "\n",
    "What if in addition to mass fluxing in and out by diffusion at rates $J_{WC}$ and $J_{EC}$, mass is also being created inside C at some rate $Q~\\left[M\\over T\\right]$? How does the fundamental equation change?\n",
    "\n",
    "If you get that, then you can follow the steps from earlier notebooks where we developed this stencil for the sitation where there is no source:\n",
    "\n",
    "\\begin{align}\n",
    "&\\left(D\\theta {c_E - c_C \\over \\Delta x} +   D\\theta {c_W - c_C \\over \\Delta x} \\right) (\\Delta y) (\\Delta z) = 0 \\\\\n",
    "\\end{align}\n",
    "\n",
    "We want you to write the equivalent stencil for the case where there is a source of mass $q ~ mg/(kg\\cdot s)$. \n",
    "\n",
    "\n",
    "\n",
    "\n",
    "   "
   ]
  },
  {
   "cell_type": "markdown",
   "metadata": {},
   "source": [
    "<div class=\"alert alert-info\" >\n",
    "\n",
    "\n",
    "**Your answer here**\n",
    "\n",
    "Replace the 1-D steady-state fundamental equation below with the appropriate 1-D steady-state fundamental equation with a source term:\n",
    "\\begin{align}\n",
    "J_{EC}+J_{WC} = 0\\\\\n",
    "\\end{align}\n",
    " \n",
    " \n",
    " \n",
    "\n",
    "Replace the 1-D steady-state W-C-E stencil below with the appropriate 1-D steady-state W-C-E stencil with a source of mass per unit mass of sediment:\n",
    "\n",
    "\n",
    "\n",
    "\\begin{align}\n",
    "&\\left(D\\theta {c_E - c_C \\over \\Delta x} +   D\\theta {c_W - c_C \\over \\Delta x} \\right) (\\Delta y) (\\Delta z) = 0 \\\\\n",
    "\\end{align}\n",
    "\n",
    "</div>"
   ]
  },
  {
   "cell_type": "markdown",
   "metadata": {},
   "source": [
    "\n",
    "## 2. Modify the code\n",
    "\n",
    "What we want is for you to modify the function which we have given you to incorporate the source term Q and compute the concentration. Therefore, we want you to copy and paste the function above, change its name.\n",
    "\n",
    "Don't forget you are defining a function, so it should start like:\n",
    "def NAME_OF_THE_FUNCTION(ARGUMENT1,ARGUMENT2,...):\n",
    "   "
   ]
  },
  {
   "cell_type": "code",
   "execution_count": 1,
   "metadata": {
    "nbgrader": {
     "grade": true,
     "grade_id": "cell-e86f37143ab10e5e",
     "locked": false,
     "points": 3,
     "schema_version": 1,
     "solution": true
    }
   },
   "outputs": [],
   "source": [
    "### BEGIN SOLUTION\n",
    "def Build_1D_Matrix_Source(bc_left, bc_right, n, D, Width, poro,Q):\n",
    "    \"\"\"\n",
    "    Constructs a coefficient matrix A and an array b related to the problem Ac = b.\n",
    "    Parameters:\n",
    "    --------------\n",
    "    bc_left: (float)  left boundary condition for concentration [mg/L]\n",
    "    bc_right: (float) right boundary conditions for concentration [mg/L]\n",
    "    n (int): amounts of cells/gridblocks [-]\n",
    "    D (float): value of the diffusion coefficient (supposed the same everywhere) [m2/s]\n",
    "    Width (float): Total physical width of the domain [m]\n",
    "    poro (float): porosity value, supposed the same everywhere [-]\n",
    "    Returns the matrix A, and the array b to solve the\n",
    "    discretized 1D diffusion problem Ax = b\n",
    "    ----------\n",
    "    \"\"\"\n",
    "    A = np.zeros((n,n))  \n",
    "    b = np.zeros(n)\n",
    "    dx = Width/(n-1)\n",
    "    dy = dz = dx # here it is assumed that all grid cells are cubes\n",
    "    coef = poro*D/dx*dy*dz\n",
    "    for i in range(n):  \n",
    "        if i == 0:   \n",
    "            A[i][i] = 1\n",
    "            b[i] = bc_left            \n",
    "        elif i == n-1:\n",
    "            A[i][i] = 1\n",
    "            b[i] = bc_right            \n",
    "        else:\n",
    "            East = coef\n",
    "            West = coef\n",
    "            b[i] = Q[i]*dx*dy*dz\n",
    "            A[i][i] = East+West\n",
    "            A[i][i+1] = - East\n",
    "            A[i][i-1] = - West        \n",
    "    return A, b\n",
    "### END SOLUTION"
   ]
  },
  {
   "cell_type": "code",
   "execution_count": 17,
   "metadata": {
    "nbgrader": {
     "grade": false,
     "grade_id": "cell-f2206762911ff82a",
     "locked": true,
     "schema_version": 1,
     "solution": false
    }
   },
   "outputs": [],
   "source": [
    "# This is the same cell than before, the only difference lies in the name of the function\n",
    "c_left = 1  # This is the left boundary condition\n",
    "c_right = 0  # This is the right boundary condition\n",
    "n = 51 # This is the amount of cells\n",
    "Diff = 2e-9 # This is the diffusion coefficicent\n",
    "Width = 2 # This is the width\n",
    "poro = 0.4  # This is the porosity\n",
    "\n",
    "x = np.linspace(0,Width,n) "
   ]
  },
  {
   "cell_type": "markdown",
   "metadata": {},
   "source": [
    "In the next cell, we want you to write something like\n",
    "\n",
    "A, b = NAME_OF_THE_FUNCTION(ARGUMENT1,ARGUMENT2,...)\n",
    "\n",
    "So you have to define the arguments this function has to be sent, and keep the names A, and b, and don't change the return of the function! (otherwise the rest will not work).\n"
   ]
  },
  {
   "cell_type": "code",
   "execution_count": 18,
   "metadata": {
    "nbgrader": {
     "grade": true,
     "grade_id": "cell-e0c78cf9798b7561",
     "locked": false,
     "points": 2,
     "schema_version": 1,
     "solution": true
    }
   },
   "outputs": [],
   "source": [
    "### BEGIN SOLUTION\n",
    "A,b = Build_1D_Matrix_Source(c_left, c_right, n, Diff, Width, poro, Q)\n",
    "### END SOLUTION"
   ]
  },
  {
   "cell_type": "code",
   "execution_count": 19,
   "metadata": {
    "nbgrader": {
     "grade": false,
     "grade_id": "cell-1cf19cc79bfee627",
     "locked": true,
     "schema_version": 1,
     "solution": false
    }
   },
   "outputs": [
    {
     "data": {
      "image/png": "[encoded data removed]",
      "text/plain": [
       "<Figure size 432x288 with 1 Axes>"
      ]
     },
     "metadata": {
      "needs_background": "light"
     },
     "output_type": "display_data"
    }
   ],
   "source": [
    "c = np.linalg.solve(A,b)\n",
    "plt.plot(x, c, label=\"Concentration\")\n",
    "plt.xlabel(\"x-axis (m)\")\n",
    "plt.ylabel(\"Concentration (mg/L)\");"
   ]
  },
  {
   "cell_type": "code",
   "execution_count": 24,
   "metadata": {
    "nbgrader": {
     "grade": true,
     "grade_id": "cell-d5c00e7cec0aec53",
     "locked": true,
     "points": 2,
     "schema_version": 1,
     "solution": false
    }
   },
   "outputs": [],
   "source": [
    "### BEGIN HIDDEN TEST\n",
    "assert_almost_equal(c[15],1.804,decimal=2)\n",
    "### END HIDDEN TEST"
   ]
  },
  {
   "cell_type": "markdown",
   "metadata": {
    "nbgrader": {
     "grade": false,
     "grade_id": "cell-093a5b343f44647f",
     "locked": true,
     "schema_version": 1,
     "solution": false
    }
   },
   "source": [
    "##  3. Discrete approximation in 2 dimensions\n",
    "\n",
    "\n",
    "The fundamental equation in 2 dimensions is\n",
    "\\begin{align}\n",
    "J_{EC}+J_{WC}+J_{NC}+J_{SC} = 0\\\\\n",
    "\\end{align}\n",
    "where now our stencil is in the shape of a cross `+`, with North, South, East and West, and Centre. \n",
    "\n",
    "Adapt the 1-D, E-W equation to two dimensions\n",
    "\\begin{align}\n",
    "&\\left(D\\theta \\frac{c_E - c_C}{\\Delta x} +   D\\theta \\frac{c_W - c_C}{\\Delta x}   \\right) (\\Delta y) (\\Delta z) = 0 \\\\\n",
    "\\end{align}\n",
    "\n",
    "in 2D. Use  N to denote North, and S to denote South.\n",
    "\n",
    "<img src=\"figures/nsewc_stencil.png\">\n",
    "\n",
    "(if you can't deal with math type, write is as understandably as possible!). "
   ]
  },
  {
   "cell_type": "markdown",
   "metadata": {
    "nbgrader": {
     "grade": true,
     "grade_id": "cell-be938d69dbb5cf8b",
     "locked": false,
     "points": 3,
     "schema_version": 1,
     "solution": true
    }
   },
   "source": [
    "<div class=\"alert alert-info\" >\n",
    "\n",
    "\n",
    "**Your answer here**\n",
    "\n",
    "Replace the 1-D steady-state stencil below with the appropriate 2-D steady-state stencil:\n",
    "\n",
    "\\begin{align}\n",
    "&\\left(D\\theta \\frac{c_E - c_C}{\\Delta x} +   D\\theta \\frac{c_W - c_C}{\\Delta x}   \\right) (\\Delta y) (\\Delta z) = 0 \\\\\n",
    "\\end{align}\n",
    "\n",
    "Bonus: can you write the 2-D steady-state stencil with a source (mass per mass of sediment per time)?"
   ]
  }
 ],
 "metadata": {
  "celltoolbar": "Create Assignment",
  "jupytext": {
   "metadata_filter": {
    "cells": {
     "additional": "all"
    },
    "notebook": {
     "additional": "all"
    }
   },
   "text_representation": {
    "extension": ".py",
    "format_name": "percent",
    "format_version": "1.2",
    "jupytext_version": "0.8.6"
   }
  },
  "kernelspec": {
   "display_name": "Python 3",
   "language": "python",
   "name": "python3"
  },
  "language_info": {
   "codemirror_mode": {
    "name": "ipython",
    "version": 3
   },
   "file_extension": ".py",
   "mimetype": "text/x-python",
   "name": "python",
   "nbconvert_exporter": "python",
   "pygments_lexer": "ipython3",
   "version": "3.6.5"
  }
 },
 "nbformat": 4,
 "nbformat_minor": 2
}
