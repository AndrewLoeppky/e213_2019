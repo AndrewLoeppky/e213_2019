{
 "cells": [
  {
   "cell_type": "markdown",
   "metadata": {
    "lines_to_next_cell": 0,
    "toc": "true"
   },
   "source": [
    "<h1>Table of Contents<span class=\"tocSkip\"></span></h1>\n",
    "<div class=\"toc\"><ul class=\"toc-item\"><li><span><a href=\"#Solving-Ordinary-Differential-Equations\" data-toc-modified-id=\"Solving-Ordinary-Differential-Equations-1\"><span class=\"toc-item-num\">1&nbsp;&nbsp;</span>Solving Ordinary Differential Equations</a></span><ul class=\"toc-item\"><li><span><a href=\"#Objectives\" data-toc-modified-id=\"Objectives-1.1\"><span class=\"toc-item-num\">1.1&nbsp;&nbsp;</span>Objectives</a></span></li><li><span><a href=\"#Introduction\" data-toc-modified-id=\"Introduction-1.2\"><span class=\"toc-item-num\">1.2&nbsp;&nbsp;</span>Introduction</a></span></li><li><span><a href=\"#Euler's-methods\" data-toc-modified-id=\"Euler's-methods-1.3\"><span class=\"toc-item-num\">1.3&nbsp;&nbsp;</span>Euler's methods</a></span><ul class=\"toc-item\"><li><span><a href=\"#From-the-mass-balance-to-the-ODE\" data-toc-modified-id=\"From-the-mass-balance-to-the-ODE-1.3.1\"><span class=\"toc-item-num\">1.3.1&nbsp;&nbsp;</span>From the mass balance to the ODE</a></span></li><li><span><a href=\"#Analytical-Solution\" data-toc-modified-id=\"Analytical-Solution-1.3.2\"><span class=\"toc-item-num\">1.3.2&nbsp;&nbsp;</span>Analytical Solution</a></span></li></ul></li><li><span><a href=\"#Integral-form-of-the-ODE\" data-toc-modified-id=\"Integral-form-of-the-ODE-1.4\"><span class=\"toc-item-num\">1.4&nbsp;&nbsp;</span>Integral form of the ODE</a></span><ul class=\"toc-item\"><li><span><a href=\"#Euler's-approach\" data-toc-modified-id=\"Euler's-approach-1.4.1\"><span class=\"toc-item-num\">1.4.1&nbsp;&nbsp;</span>Euler's approach</a></span></li><li><span><a href=\"#Examples-of-application\" data-toc-modified-id=\"Examples-of-application-1.4.2\"><span class=\"toc-item-num\">1.4.2&nbsp;&nbsp;</span>Examples of application</a></span></li><li><span><a href=\"#Runge-Kutta-methods\" data-toc-modified-id=\"Runge-Kutta-methods-1.4.3\"><span class=\"toc-item-num\">1.4.3&nbsp;&nbsp;</span>Runge Kutta methods</a></span></li></ul></li></ul></li></ul></div>"
   ]
  },
  {
   "cell_type": "markdown",
   "metadata": {
    "lines_to_next_cell": 0
   },
   "source": [
    "# Introduction to finite-volume methods\n",
    "\n",
    "## Context\n",
    "\n",
    "So far we have solved 0 dimensional problems:\n",
    "\n",
    "- we have considered the mass of water to be given by one value\n",
    "- we have considered that the concentration of sulfates was given by one value and that this value was the same at any point in the TMF.\n",
    "\n",
    "In reality, the concentration of sulfates is not necessarily the same everywhere, and the spatial distribution or evolution of the contaminant is important to know.\n",
    "\n",
    "Consider a factory releasing a contaminant: this contaminant will be transported in space and time.\n",
    "\n",
    "- if the factory releases this contaminant in a river, it will follow the river current\n",
    "- if it is released in the atmosphere, it will follow windspeed\n",
    "- if is is released in the groundwater, it will follow the groundwater flow\n",
    "\n",
    "But the windspeed, the river current, the groundwater flow are not the same everywhere (they are not uniform). If we want to be able to predict where the contaminant goes, we need to understand which processes are responsible for its movement.\n",
    "\n",
    "In a 3 dimensional space, the concentration can be different at every point in space. But also, the concentration at each point in space can evolve in time. In general, the concentration will be described by a function $c(x,y,z,t)$ which represents the concentration at each point of coordinates $(x,y,z)$ for each time $t$.\n",
    "\n",
    "When we have developped Euler's approaches, we have divided into small intervals. We are going to do the same with space. This is called **discretization**. It is the idea of splitting a variable who can take any value on a real axis into subdomains where this variable is supposed to be constant.\n",
    "\n",
    "<img src=\"figures/figDisc.png\">\n",
    "\n",
    "Without a discretization, we would have to solve a problem for each possible $(x,y,z)$, which would be impossible.\n",
    "\n",
    "\n"
   ]
  },
  {
   "cell_type": "markdown",
   "metadata": {},
   "source": [
    "## Link to the TMF problem\n",
    "\n",
    "To introduce this spatial behaviour, let us go back to the TMF problem. The conceptual model could be expressed like this:\n",
    "\n",
    "<img src=\"figures/figTMF.png\" alt=\"drawing\" width =\"400\">\n",
    "\n",
    "This \"spatial\" view of the method we have applied corresponds precisely to the finite volume - difference method we will use. In our problem, we were only interested in one \"point\" in space, the TMF. This \"point\" representation of this TMF actually arises from a discretization of space.\n",
    "\n",
    "We have computed the evolution the mass/concentration of sulfates in that \"point\" by computing the fluxes which were going in and out of this \"point\".\n",
    "\n",
    "What if the amount of sulfates in the pit/mill was not \"infinite\" (constant in all time)? Well, that would mean that $c_{\\text{pit}}$ would decrease during time, and the flux incoming from the pit would decrease as well. If that is the case, we now need to add another equation to compute the evolution of the concentration in the pit, and also a formulation which links the flux between the pit/mill towards the TMF.\n",
    "\n",
    "That is the central idea for the resolution of any transient (not steady) problem including spatial variation. The evolution of the concentration at each point of interest during a certain time is computed by \n",
    "\n",
    "- summing all the fluxes going in - all the fluxes going out\n",
    "- considering these fluxes are constant in time during that period of time ( // Euler's method).\n",
    "\n",
    "So what we need, is to be able to compute these fluxes.\n",
    "\n",
    "Watch out, in physics, flux is usually defined as the amount (of matter, energy, ...) which goes through a surface per unit of time. A mass flux is described in kg/m$^2$/s. Above, we have described a \"flux\" in mg/s. In the following, flux $\\phi$ will be denoted in units of Mass per unit of surface per unit of time."
   ]
  },
  {
   "cell_type": "markdown",
   "metadata": {},
   "source": [
    "## General idea between\n",
    "If we focus on the central volume here, it might exchange fluxes $\\phi$ with its neighbouring volumes. In a 2D space, central volume $i$ has 4 neighbours: North-East-South-West, with whom it can exchange matter (or energy, ...).\n",
    "\n",
    "<img src=\"figures/figFV.png\" alt=\"drawing\" width=\"400\">\n",
    "\n",
    "\n",
    "\n",
    "So, if we know the mass-flux between volume $i$ and volume North, $\\phi_{i\\rightarrow \\text{North}}$, that means that the mass in volume $i$ is evolving by the amount:\n",
    "\n",
    "\\begin{equation}\n",
    "\\frac{dM}{dt} = \\sum_j \\phi_{j\\rightarrow i} S_{ij}\n",
    "\\end{equation}\n",
    "\n",
    "where $j$ represents the set of every neighbour (here North, East, South, West). In 1D, there are 2 neighbours, in 3D, there are 6 neighbours.\n",
    "\n",
    "Where S is the surface (in m$^2$) of the interface between volumes i and North. So, to compute the evolution of mass in volume $i$, we only need to find the values of the different fluxes.\n",
    "\n",
    "The idea behind the space discretization is that, in each \"volume\", the concentration is uniform and has only one value. That also means that, on every surface separating two volumes, the fluxes are uniform."
   ]
  },
  {
   "cell_type": "markdown",
   "metadata": {
    "lines_to_next_cell": 2
   },
   "source": [
    "## Continuity equation\n",
    "\n",
    "### The continuity equation\n",
    "\n",
    "Multiplying both ends by the volume of water $V_0$ yields:\n",
    "\n",
    "So, if the concentration is uniform in the volume $V$, that means that the mass can be obtained by:\n",
    "\n",
    "\\begin{equation}\n",
    "M = \\int_V c dV = c \\int_V dV = cV\n",
    "\\end{equation}\n",
    "\n",
    "The evolution of the mass arises from the different fluxes\n",
    "\n",
    "\\begin{equation}\n",
    "\\frac{\\Delta M}{\\Delta t} = \\sum_j \\phi_{j\\rightarrow i} S_{ij} = -R\n",
    "\\end{equation}\n",
    "\n",
    "The rate of matter evolution $R$ (mg/s) through any surface is usually given by the integral of the flux over the surface:\n",
    "\\begin{equation}\n",
    "R = \\oint_S \\overrightarrow{\\phi}d\\overrightarrow{S}\n",
    "\\end{equation}\n",
    "\n",
    "where $d\\overrightarrow{S}$ represents the unit normal vector oriented towards the outside of the closed surface. So, $R$ is positive when matters is going out ot the volume. This surface integral can be decomposed, in our cases, as the sum over the 4 straight lines delimiting our volume. And, since the flux is uniform through these straight lines, this integral becomes straightforward to compute:\n",
    "\n",
    "\\begin{equation}\n",
    "\\begin{array}{lll}\n",
    "R & = & \\displaystyle{ \\oint_S \\overrightarrow{\\phi}d\\overrightarrow{S}} \\\\\n",
    "  & = & \\int_{S_{\\textrm{North}}} \\phi_{\\textrm{North}} dS + \\int_{S_{\\textrm{East}}} \\phi_{\\textrm{East}} dS + ... \\\\ \n",
    "  & = & \\phi_{\\textrm{North}} \\int_{S_{\\textrm{North}}}  dS + \\phi_{\\textrm{East}} \\int_{S_{\\textrm{East}}}  dS + ... \\\\ \n",
    "  & = & \\phi_{\\textrm{North}}S_{\\textrm{North}} + \\phi_{\\textrm{East}}S_{\\textrm{East}} + \\phi_{\\textrm{South}}S_{\\textrm{South}} + \\phi_{\\textrm{West}}S_{\\textrm{West}}   \\\\\n",
    "  & = & \\sum_j \\phi_{j\\rightarrow i} S_{ij}\n",
    "\\end{array}\n",
    "\\end{equation}\n",
    "\n",
    "But there is a math theorem (Green-Ostrogradski) which also states that \n",
    "\n",
    "The rate of matter evolution $R$ (mg/s) through any surface is usually given by the integral of the flux over the surface:\n",
    "\\begin{equation}\n",
    "\\oint_{S(V)} \\overrightarrow{\\phi}d\\overrightarrow{S} = \\int_V \\mathrm{div} \\overrightarrow{\\phi}\n",
    "\\end{equation}\n",
    "\n",
    "This is the \"divergence\" theorem. The divergence operator is defined as:\n",
    "\n",
    "\\begin{equation}\n",
    "\\mathrm{div} \\overrightarrow{\\phi} = \\overrightarrow{\\nabla} \\cdot \\overrightarrow{\\phi}\n",
    "\\end{equation}\n",
    "\n",
    "So, combining the different equation together, we get\n",
    "\n",
    "\\begin{equation}\n",
    "\\begin{array}{llll}\n",
    " & \\frac{dm}{dt} & = & \\sum_j \\phi_{j\\rightarrow i} S_{ij} \\\\\n",
    "\\Longleftrightarrow & \\displaystyle{\\frac{d}{dt} \\int_V c dV} & = & \\displaystyle{ - \\oint_S \\overrightarrow{\\phi}d\\overrightarrow{S}} \\\\\n",
    "\\Longleftrightarrow & \\displaystyle{\\frac{d}{dt} \\int_V c dV} & = & \\displaystyle{ - \\int_V \\mathrm{div} \\overrightarrow{\\phi} dV}\n",
    "\\end{array}\n",
    "\\end{equation}\n",
    "\n",
    "And, since the integral over the same volume $V$ has to be equal on both sides, that means that what is inside the integrals have to be equal, which gives the divergence equation:\n",
    "\n",
    "\\begin{equation}\n",
    "\\frac{dc}{dt} + \\mathrm{div} \\overrightarrow{\\phi} = 0\n",
    "\\end{equation}\n",
    "\n",
    "This is known as the **continuity equation**, which is used in many areas of physics (quantum mechanics, fluid mechanics, energy, mass balance, ...). "
   ]
  },
  {
   "cell_type": "markdown",
   "metadata": {
    "lines_to_next_cell": 3
   },
   "source": [
    "### Physical interpretation of the divergence"
   ]
  }
 ],
 "metadata": {
  "jupytext": {
   "cell_metadata_filter": "all",
   "formats": "",
   "notebook_metadata_filter": "all",
   "text_representation": {
    "extension": ".py",
    "format_name": "percent",
    "format_version": "1.2",
    "jupytext_version": "0.8.6"
   }
  },
  "kernelspec": {
   "display_name": "Python 3",
   "language": "python",
   "name": "python3"
  },
  "language_info": {
   "codemirror_mode": {
    "name": "ipython",
    "version": 3
   },
   "file_extension": ".py",
   "mimetype": "text/x-python",
   "name": "python",
   "nbconvert_exporter": "python",
   "pygments_lexer": "ipython3",
   "version": "3.6.5"
  },
  "toc": {
   "base_numbering": 1,
   "nav_menu": {},
   "number_sections": true,
   "sideBar": true,
   "skip_h1_title": false,
   "title_cell": "Table of Contents",
   "title_sidebar": "Contents",
   "toc_cell": true,
   "toc_position": {},
   "toc_section_display": true,
   "toc_window_display": true
  }
 },
 "nbformat": 4,
 "nbformat_minor": 2
}
