{
 "cells": [
  {
   "cell_type": "markdown",
   "metadata": {
    "lines_to_next_cell": 0,
    "toc": true
   },
   "source": [
    "<h1>Table of Contents<span class=\"tocSkip\"></span></h1>\n",
    "<div class=\"toc\"><ul class=\"toc-item\"><li><span><a href=\"#Introduction\" data-toc-modified-id=\"Introduction-1\"><span class=\"toc-item-num\">1&nbsp;&nbsp;</span>Introduction</a></span></li><li><span><a href=\"#Transient-problem\" data-toc-modified-id=\"Transient-problem-2\"><span class=\"toc-item-num\">2&nbsp;&nbsp;</span>Transient problem</a></span></li><li><span><a href=\"#Initial-conditions\" data-toc-modified-id=\"Initial-conditions-3\"><span class=\"toc-item-num\">3&nbsp;&nbsp;</span>Initial conditions</a></span><ul class=\"toc-item\"><li><span><a href=\"#Save-these-into-a-dict-for-later-use\" data-toc-modified-id=\"Save-these-into-a-dict-for-later-use-3.1\"><span class=\"toc-item-num\">3.1&nbsp;&nbsp;</span>Save these into a dict for later use</a></span></li></ul></li><li><span><a href=\"#Transient-behavior\" data-toc-modified-id=\"Transient-behavior-4\"><span class=\"toc-item-num\">4&nbsp;&nbsp;</span>Transient behavior</a></span></li></ul></div>"
   ]
  },
  {
   "cell_type": "markdown",
   "metadata": {
    "lines_to_next_cell": 0
   },
   "source": [
    "# Introduction"
   ]
  },
  {
   "cell_type": "markdown",
   "metadata": {},
   "source": [
    "Let us recall that $J_{EC}$ and $J_{WC}$ represent the flux of mass [M/T] towards the center. If these are positive, the mass in the center will increase. If there is a source of mass in the center, the mass will increase as well. Therefore, the steady-state equation writes:\n",
    "\n",
    "\\begin{equation}\n",
    "J_{EC}+J_{WC} + Q = 0\n",
    "\\end{equation}\n",
    "\n",
    "With Q being written in terms of mg/s (Q: [M/T]) . Therefore mass balance equation with a source term writes:\n",
    "\n",
    "\\begin{equation}\n",
    "\\left( -2  \\frac{D\\theta}{\\Delta x} c_{\\left[i\\right]}  + \\frac{D\\theta}{\\Delta x}c_{\\left[i-1\\right]} +   \\frac{D\\theta}{\\Delta x} c_{\\left[i+1\\right]} \\right) \\Delta y \\Delta z  + q  \\Delta x \\Delta y \\Delta z = 0\n",
    "\\end{equation}\n",
    "\n",
    "with $q$ being the volumetric source ([M/T/L$^3$])\n",
    "\n",
    "We can rearrange the latter equation as:\n",
    "\n",
    "\\begin{equation}\n",
    "\\left( 2\\frac{D\\theta}{\\Delta x} c_{\\left[i\\right]}  - \\frac{D\\theta}{\\Delta x}c_{\\left[i-1\\right]} -   \\frac{D\\theta}{\\Delta x} c_{\\left[i+1\\right]} \\right) \\Delta y \\Delta z  = q  \\Delta x \\Delta y \\Delta z\n",
    "\\end{equation}\n",
    "\n",
    "We can also divide everything by $\\Delta x \\Delta y \\Delta z$:\n",
    "\n",
    "\\begin{equation}\n",
    "\\frac{1}{\\Delta x} \\left( 2\\frac{D\\theta}{\\Delta x} c_{\\left[i\\right]}  - \\frac{D\\theta}{\\Delta x}c_{\\left[i-1\\right]} -   \\frac{D\\theta}{\\Delta x} c_{\\left[i+1\\right]} \\right)   = q \n",
    "\\end{equation}\n",
    "\n",
    "which gives\n",
    "\\begin{equation}\n",
    "2\\frac{D\\theta}{\\Delta x^2} c_{\\left[i\\right]}  - \\frac{D\\theta}{\\Delta x^2}c_{\\left[i-1\\right]} -   \\frac{D\\theta}{\\Delta x} c_{\\left[i+1\\right]}  = q \n",
    "\\end{equation}"
   ]
  },
  {
   "cell_type": "code",
   "execution_count": 1,
   "metadata": {},
   "outputs": [],
   "source": [
    "import matplotlib.pyplot as plt\n",
    "import numpy as np"
   ]
  },
  {
   "cell_type": "code",
   "execution_count": 2,
   "metadata": {},
   "outputs": [],
   "source": [
    "\n",
    "\n",
    "def avg(Di, Dj):\n",
    "    \"\"\"\n",
    "    Computes the harmonic average between two values Di and Dj\n",
    "    Returns 0 if either of them is zero\n",
    "    \"\"\"\n",
    "    if (Di * Dj) == 0:\n",
    "        return 0\n",
    "    else:\n",
    "        return 2 / (1 / Di + 1 / Dj)"
   ]
  },
  {
   "cell_type": "code",
   "execution_count": 3,
   "metadata": {},
   "outputs": [],
   "source": [
    "def Build_1D_Inhomo_Matrix_Source(bc_left, bc_right, n, D, Width, poro, q):\n",
    "    \"\"\"\n",
    "    Constructs a coefficient matrix and an array with varying diffusion coefficient and a source term\n",
    "    Parameters:\n",
    "    --------------\n",
    "    bc_left: (float)  left boundary condition\n",
    "    bc_right: (float) right boundary conditions\n",
    "    n (int): amounts of cells\n",
    "    D (float array): values of the diffusion coefficient\n",
    "    Width (float): Total phyiscal width of the domain\n",
    "    poro (float): porosity value\n",
    "    q (float array): volumetric source term (mg/L/s)\n",
    "    Returns the matrix A, and the array b to solve the\n",
    "    discretized 1D diffusion problem Ax = b\n",
    "\n",
    "    ----------\n",
    "    \"\"\"\n",
    "    Matrix = np.zeros((n, n))\n",
    "    RHS = np.zeros(n)\n",
    "    dx = Width / (n - 1)\n",
    "    coef = poro / dx / dx\n",
    "    for i in range(n):\n",
    "        if i == 0:\n",
    "            RHS[i] = bc_left\n",
    "            Matrix[i][i] = 1\n",
    "        elif i == n - 1:\n",
    "            RHS[i] = bc_right\n",
    "            Matrix[i, i] = 1\n",
    "        else:\n",
    "            RHS[i] = q[i]\n",
    "            East = coef * avg(D[i], D[i + 1])\n",
    "            West = coef * avg(D[i], D[i - 1])\n",
    "            Matrix[i, i] = East + West\n",
    "            Matrix[i, i + 1] = -East\n",
    "            Matrix[i, i - 1] = -West\n",
    "    return Matrix, RHS"
   ]
  },
  {
   "cell_type": "code",
   "execution_count": 4,
   "metadata": {},
   "outputs": [
    {
     "data": {
      "text/plain": [
       "Text(0, 0.5, 'Concentration (mg/L)')"
      ]
     },
     "execution_count": 4,
     "metadata": {},
     "output_type": "execute_result"
    },
    {
     "data": {
      "image/png": "[encoded data removed]",
      "text/plain": [
       "<Figure size 432x288 with 1 Axes>"
      ]
     },
     "metadata": {
      "needs_background": "light"
     },
     "output_type": "display_data"
    }
   ],
   "source": [
    "c_left = 1\n",
    "c_right = 0\n",
    "n = 50\n",
    "Diff = 2e-9\n",
    "D = Diff * np.ones(n)\n",
    "Q = np.zeros(n)\n",
    "Q[int(n / 4) : int(n / 2)] = 5e-9  # mg/L/s\n",
    "Width = 2\n",
    "poro = 0.4\n",
    "\n",
    "x = np.linspace(0, Width, n)\n",
    "A, b = Build_1D_Inhomo_Matrix_Source(c_left, c_right, n, D, Width, poro, Q)\n",
    "\n",
    "c_final = np.linalg.solve(A, b)\n",
    "plt.plot(x, c_final, label=\"Concentration\")\n",
    "plt.xlabel(\"x-axis (m)\")\n",
    "plt.ylabel(\"Concentration (mg/L)\")"
   ]
  },
  {
   "cell_type": "markdown",
   "metadata": {},
   "source": [
    "# Transient problem\n",
    "\n",
    "The transient problem will solve the evolution of the concentration until it reaches the steady-state solved before. We have to define first initial conditions (let's say concentration  is zero everywhere)."
   ]
  },
  {
   "cell_type": "markdown",
   "metadata": {},
   "source": [
    "# Initial conditions"
   ]
  },
  {
   "cell_type": "code",
   "execution_count": 5,
   "metadata": {
    "lines_to_next_cell": 2
   },
   "outputs": [],
   "source": [
    "c_left = 1\n",
    "c_right = 0\n",
    "n = 50\n",
    "Diff = 2e-9\n",
    "D = Diff * np.ones(n)\n",
    "q = np.zeros(n)\n",
    "q[int(n / 4) : int(n / 2)] = 5e-9  # mg/L/s\n",
    "Width = 2\n",
    "poro = 0.4\n",
    "nTstp = 200\n",
    "dt = 1.0e7\n",
    "\n",
    "c_init = np.zeros((nTstp, n))"
   ]
  },
  {
   "cell_type": "markdown",
   "metadata": {},
   "source": [
    "## Save these into a dict for later use"
   ]
  },
  {
   "cell_type": "code",
   "execution_count": 6,
   "metadata": {
    "lines_to_next_cell": 2
   },
   "outputs": [],
   "source": [
    "init_dict = dict(\n",
    "    c_left=c_left,\n",
    "    c_right=c_right,\n",
    "    c_init=c_init,\n",
    "    n=n,\n",
    "    Diff=Diff,\n",
    "    D=D,\n",
    "    q=q,\n",
    "    Width=Width,\n",
    "    poro=poro,\n",
    "    nTstp=nTstp,\n",
    "    dt=dt,\n",
    ")"
   ]
  },
  {
   "cell_type": "markdown",
   "metadata": {},
   "source": [
    "The transient behavior that we have discussed in the previous notebook simply adds these terms to the previous equation.\n",
    "\n",
    "\\begin{equation}\n",
    "J_{EC}+J_{WC} + Q = \\frac{dm}{dt}\n",
    "\\end{equation}\n",
    "\n",
    "Using the same developements expressed before, using\n",
    "\n",
    "\\begin{equation}\n",
    "\\frac{d\\theta c}{dt} = \\theta \\frac{c(t+\\Delta t) - c(t)}{\\Delta t}\n",
    "\\end{equation}\n",
    "\n",
    "\\begin{equation}\n",
    "\\frac{\\theta c_{\\left[i\\right]}}{\\Delta t} + 2\\frac{D\\theta}{\\Delta x^2} c_{\\left[i\\right]}  - \\frac{D\\theta}{\\Delta x^2}c_{\\left[i-1\\right]} -   \\frac{D\\theta}{\\Delta x} c_{\\left[i+1\\right]}  = q + \\frac{\\theta c_{\\left[i\\right]}(old)}{\\Delta t}\n",
    "\\end{equation}\n",
    "\n",
    "So we can solve this problem by using the same matrixes used before, but we need to add extra terms."
   ]
  },
  {
   "cell_type": "code",
   "execution_count": 7,
   "metadata": {},
   "outputs": [
    {
     "data": {
      "text/plain": [
       "Text(0, 0.5, 'Concentration (mg/L)')"
      ]
     },
     "execution_count": 7,
     "metadata": {},
     "output_type": "execute_result"
    },
    {
     "data": {
      "image/png": "[encoded data removed]",
      "text/plain": [
       "<Figure size 432x288 with 1 Axes>"
      ]
     },
     "metadata": {
      "needs_background": "light"
     },
     "output_type": "display_data"
    }
   ],
   "source": [
    "x = np.linspace(0, Width, n)\n",
    "A, b = Build_1D_Inhomo_Matrix_Source(c_left, c_right, n, D, Width, poro, Q)\n",
    "\n",
    "c_final = np.linalg.solve(A, b)\n",
    "plt.plot(x, c_final, label=\"Concentration\")\n",
    "plt.xlabel(\"x-axis (m)\")\n",
    "plt.ylabel(\"Concentration (mg/L)\")"
   ]
  },
  {
   "cell_type": "markdown",
   "metadata": {},
   "source": [
    "# Transient behavior"
   ]
  },
  {
   "cell_type": "code",
   "execution_count": 8,
   "metadata": {},
   "outputs": [
    {
     "data": {
      "text/plain": [
       "<matplotlib.legend.Legend at 0x114d022e8>"
      ]
     },
     "execution_count": 8,
     "metadata": {},
     "output_type": "execute_result"
    },
    {
     "data": {
      "image/png": "[encoded data removed]",
      "text/plain": [
       "<Figure size 432x288 with 1 Axes>"
      ]
     },
     "metadata": {
      "needs_background": "light"
     },
     "output_type": "display_data"
    }
   ],
   "source": [
    "def calc_conc(\n",
    "    Diff=None,\n",
    "    D=None,\n",
    "    Width=None,\n",
    "    c_left=None,\n",
    "    c_right=None,\n",
    "    poro=None,\n",
    "    q=None,\n",
    "    c_init=None,\n",
    "    n=None,\n",
    "    nTstp=None,\n",
    "    dt=None,\n",
    "):\n",
    "\n",
    "    x = np.linspace(0, Width, n)\n",
    "    A, b = Build_1D_Inhomo_Matrix_Source(c_left, c_right, n, D, Width, poro, q)\n",
    "    # Let us use the same matrixes as before, because these will not change\n",
    "    c = c_init\n",
    "    # the  Matrix Abis will capture the new term on the left hand side\n",
    "    Abis = np.zeros((n, n))\n",
    "    # the array Bbis modifies the right side of the equation\n",
    "    Bbis = np.zeros(n)\n",
    "    for t in range(nTstp - 1):\n",
    "        for i in range(n):\n",
    "            Abis[i][i] = 0  # here is your solution\n",
    "            Bbis[i] = 0  # here is your solution\n",
    "        Aa = A + Abis\n",
    "        bb = b + Bbis\n",
    "        cnew = np.linalg.solve(Aa, bb)\n",
    "        c[t + 1][:] = cnew\n",
    "    return x, c\n",
    "\n",
    "\n",
    "x, c = calc_conc(**init_dict)\n",
    "\n",
    "plt.plot(x, c_final, label=\"Asymptotic concentration\")\n",
    "plt.plot(x, c[0][:], label=\"Initial concentration\")\n",
    "plt.plot(x, c[10][:], label=\"Concentration after 10 timestep\")\n",
    "plt.plot(x, c[30][:], label=\"Concentration after 30 timesteps\")\n",
    "plt.plot(x, c[60][:], label=\"Concentration after 60 timesteps\")\n",
    "plt.plot(x, c[nTstp - 1][:], label=\"Concentration after 100 timesteps\")\n",
    "plt.xlabel(\"x-axis (m)\")\n",
    "plt.ylabel(\"Concentration (mg/L)\")\n",
    "plt.legend()"
   ]
  },
  {
   "cell_type": "code",
   "execution_count": 9,
   "metadata": {
    "lines_to_next_cell": 2
   },
   "outputs": [
    {
     "data": {
      "image/png": "[encoded data removed]",
      "text/plain": [
       "<Figure size 432x288 with 1 Axes>"
      ]
     },
     "metadata": {
      "needs_background": "light"
     },
     "output_type": "display_data"
    }
   ],
   "source": [
    "def make_animation(init_dict):\n",
    "    image_list = []\n",
    "    x, c = calc_conc(**init_dict)\n",
    "    fig, ax = plt.subplots()\n",
    "    ax.set_xlim((0, 2.0))\n",
    "    ax.set_ylim((0, 2.0))\n",
    "    nsteps, nvals = c.shape\n",
    "    for index in range(nsteps):\n",
    "        line = ax.plot(x, c[index, :], \"r-\", lw=2)\n",
    "        image_list.append(line)\n",
    "    return fig, image_list\n",
    "\n",
    "\n",
    "fig, image_list = make_animation(init_dict)"
   ]
  },
  {
   "cell_type": "code",
   "execution_count": 10,
   "metadata": {},
   "outputs": [],
   "source": [
    "import matplotlib.animation as animation\n",
    "from IPython.display import HTML\n",
    "\n",
    "anim = animation.ArtistAnimation(\n",
    "    fig, image_list, interval=50, blit=True, repeat_delay=1000\n",
    ")"
   ]
  },
  {
   "cell_type": "code",
   "execution_count": 11,
   "metadata": {},
   "outputs": [
    {
     "data": {
      "text/html": [
       "<video width=\"432\" height=\"288\" controls autoplay loop>\n",
       "  <source type=\"video/mp4\" src=\"data:video/mp4;base64,AAAAHGZ0eXBNNFYgAAACAGlzb21pc28yYXZjMQAAAAhmcmVlAAA2mW1kYXQAAAKgBgX//5zcRem9\n",
       "5tlIt5Ys2CDZI+7veDI2NCAtIGNvcmUgMTUyIC0gSC4yNjQvTVBFRy00IEFWQyBjb2RlYyAtIENv\n",
       "cHlsZWZ0IDIwMDMtMjAxNyAtIGh0dHA6Ly93d3cudmlkZW9sYW4ub3JnL3gyNjQuaHRtbCAtIG9w\n",
       "dGlvbnM6IGNhYmFjPTEgcmVmPTMgZGVibG9jaz0xOjA6MCBhbmFseXNlPTB4MzoweDExMyBtZT1o\n",
       "ZXggc3VibWU9NyBwc3k9MSBwc3lfcmQ9MS4wMDowLjAwIG1peGVkX3JlZj0xIG1lX3JhbmdlPTE2\n",
       "IGNocm9tYV9tZT0xIHRyZWxsaXM9MSA4eDhkY3Q9MSBjcW09MCBkZWFkem9uZT0yMSwxMSBmYXN0\n",
       "X3Bza2lwPTEgY2hyb21hX3FwX29mZnNldD0tMiB0aHJlYWRzPTYgbG9va2FoZWFkX3RocmVhZHM9\n",
       "MSBzbGljZWRfdGhyZWFkcz0wIG5yPTAgZGVjaW1hdGU9MSBpbnRlcmxhY2VkPTAgYmx1cmF5X2Nv\n",
       "bXBhdD0wIGNvbnN0cmFpbmVkX2ludHJhPTAgYmZyYW1lcz0zIGJfcHlyYW1pZD0yIGJfYWRhcHQ9\n",
       "MSBiX2JpYXM9MCBkaXJlY3Q9MSB3ZWlnaHRiPTEgb3Blbl9nb3A9MCB3ZWlnaHRwPTIga2V5aW50\n",
       "PTI1MCBrZXlpbnRfbWluPTIwIHNjZW5lY3V0PTQwIGludHJhX3JlZnJlc2g9MCByY19sb29rYWhl\n",
       "YWQ9NDAgcmM9Y3JmIG1idHJlZT0xIGNyZj0yMy4wIHFjb21wPTAuNjAgcXBtaW49MCBxcG1heD02\n",
       "OSBxcHN0ZXA9NCBpcF9yYXRpbz0xLjQwIGFxPTE6MS4wMACAAAAOWmWIhAA///73aJ8Cm1pDeoDk\n",
       "lcUl20+B/6tncHyP6QMAAAMAAK/WfwjhqzAeYX8ZRi3wluZspnhsbYi2JtqKeSTwatFYr4CYt/uq\n",
       "Uw7XaWR+Mz7twsNm1rqzdbGJ0uZ7GJe8pMlDbw4aJmUiGpzOBNcAAAMAHu+6oQ7sfFhXvjKmSczN\n",
       "aXFV0QsDrSr5tFPk3GljwqFkoIqdLZpSOJTsCAPZtBh4Oh9zLRS1uQHaKDv3kXEHBRNOvaGdaTjE\n",
       "8IbxAL3j5+yDyay+6CrqCiIms3joanEwC7LZIrbwKTpSGUAGAXSKQoKmfokBRM9uxkVPX8qxRzCI\n",
       "7sVUOAZB8AjtmkYrbpxC1ZTI6e4Gx+zg0z+5ZZ15I7Bu/BCrK0Puv+3URiOhQk9TDn0Xr0GliV/x\n",
       "hcOfP8loOxawMK4ACdov6U9sqX01jBHBcmGj0owrpkhv/76oKQsanMpFlLlFqaDCQ+Cb0BadE9Rt\n",
       "AYpUbd5s6s/ljrR4nanrP5nEaKT/LPVEeasKmGseZKsAwF6GphYJCoS9gAD8S6RfGH/LUxfl8ipK\n",
       "xXjjFgolo1/lVG9inNYlzvwgxzI4MRkxoig0laHEDg4hGrSj0RSv+/5atoRfEKIHezvJ1gAAWfNu\n",
       "Fu2Esdtq0gLCWzE2jM/sMY9IE+FauQ3arI2lmo1B4Ski+YiBQRkLEbTdgwAVyqSYocJRRj63Omyh\n",
       "a3DWBRffhaXiny17T8R+pkAErbp/VpNg/MW8RrDBliLgj7ubR/dY4Gizjj7XgWoxaXIVNZLQUvO2\n",
       "own676sBIj75Ooh3kPA8DWmj8GmuyB2C8loYJPLv5dOzg6KyouSOOoUWpV4TS0TZjEIlmsLKCmOm\n",
       "Gn+uXaAph7DEBoBBD6VGq/nbiAoseX+aU0JZGVuCAuWp6Be55XhY7XbWBwnH7o9uX1s3IZxYUiIh\n",
       "Wtt1CVo0/+E//4/rsQc4c3OlnmQCibHKF0Ew+TjTzP5rqNQAAT4URJhQYa7XAD8OJ9V+uC9kRzQi\n",
       "d8aJbeN20tcf63g31RLrhkWQ9T/894r4fCEr8amuhUQh+HHTOxThrHjXV9hzk0vBHEtaBHPDP1xW\n",
       "yyDINCd6R25HscZojJh5cs8cb+/gKGaYuuoDxdeyySnJJrpW0wOmV6JziUGbkArjYkL4jkVa1BQg\n",
       "3BPEf2P0VKUrfzJy3AYnn5Gc5mpCbgQGXMu2eAM91LDDAPL+KFYryItI3Kii/HbGKfvt/6/vpMvW\n",
       "GgwVWD8TM8zq430AynPm4OHQNd7EvjmNj5ZQdtZ/StogVdeqY1Gh6ndvA6ypDMuSrBKDbx8wxvTF\n",
       "zpiyDjFaJvu5ds3E4ybqSxlVmO5fPBFHW4sBlkA5qzvPqgQ3UBh7CLMNOAo+Emwc9+9OrC3QdDfD\n",
       "pvigSOa5m/i3tDkJ0/ehaqS4i7G8rkAUF3/F5viurX8nBuf5X4UBDKzuJ7zHDspwyXeZQE2wbAOK\n",
       "qg7vjgU5fkLER9IOwdJI0qwA4k+IFjP2k2EPJ1u1SLNy1yi5eX7Zc4ySd0Kkfvfv+NX/rzvKe567\n",
       "S/0mihI3URratiOBgRAK3JijpG5lkczBIPFIvDBKtNW0LU2iZYUWd7DidSoEYM4j2PY6KPxf68yM\n",
       "5WXWkLFbmpjVbu8pIpS91239E/wynLOPGkz+UZ13OYXy4B2G49x94KfMzS1LFLV5tfQAoDsBgxvl\n",
       "6hPPvYG1e+SwxGG+KCHRTjL+wWKlFHnMNOulGy+Q6K6V+gz7K7Etu2kwiTAyDjSdgJ9aQiDgBtQx\n",
       "9DbUTjQeWTJyEb+UGq8e2AqLgDiQqe6eg30fFz7kzu3Y2N5UBu+qlrY/kvv1TC/foKqwZz2LgZ5+\n",
       "h++Dr9oFuhwYmuNZfD55N1H5u3IhonslbkDiFuzH5TfWobvW0zVPgvsoWEkb3XNJ7Qm7NbNVEPwc\n",
       "LzknCr8X5ZItIMevsv0T55RCCCraV0Ap5MpR6IekZkK1Q+kCmnqNvc5W4F6qygllEdXn7nUarl85\n",
       "cOzYjM9YEdli2RCLTuWW4F1/7kEXF/NCwRmC5ofIdDiQBfYkcx3hmnwvTW6meh3M7k14HjBdSC7P\n",
       "A9qbQlf+CsScGTkhddR/flErGE4RgvoEyXgmK8tqvT7IVXoJuksypcse4CAQICVOjLtYT+b22GAA\n",
       "bpsFWx+0XWtEQ0U6wwAuPw+YgcniJf7hmsxC8OJyzVfq+NHVcNc6xhFN5RVTr+9Rjso8UqNw8S2V\n",
       "XuAsN3lEwgrgepctow4Jahjh9VjKxlKAzeNRNxtMLhR3qhMrylMW46IKl7eeh5pyHO5BlyaD0Tt5\n",
       "ONP58vmq8IkdSOyA81rM4L3Wpv+NYNLpuNQuq9B4R8DgWimQUksyn8QoiCwkL/qdyMzvjiRd/Iuy\n",
       "dJd/quEbssouOwS3aIf+JSTvyh2nKMNURM1qfUyq3VwrGFLm5eqd7OMi1bwQHec8CLyvlW9/SBOz\n",
       "XMHJSui244HiMo3fowIb7Emgnzu3iZdx0D3WdFQV208k7G1dBJLicpZosg06OD5ku3ZNUnCJJk7t\n",
       "/+eeTaBCXqN1it6XJG8JKS3Fv2No6174lmPT2MjntH/xz6iTwJbqcPji6pc+YD/CpmZtN3oufkeZ\n",
       "Z5w1pTpnR5G/LyvFQSn4Qk/hUw2NqO1NS52tpYWvUsv7BDBK1izOhUSpkJl94NtV3c8Dkzh27uop\n",
       "el6/2DZeNjgto2QHH3M2y64cj7aw5+puZZMD1IuKNCyd6QI4fSy+tiSnQJLhIrz9qwbaSflBwLDo\n",
       "VFbWbu2XnHFF/1PrWlNb3u++AWgyPkFFh0+g4nLMYzK41ia533yoSpyF3mT/RrQn4nfw/vPFl2jN\n",
       "DcHb/QgmZ09eqN/lxWTKi8ibgXgbGSLwYiQtmEFaUUtKG1ZtwhMNTfAMXn4HChRbV3AwZVOV2K+n\n",
       "85xBCdq9JwOZ+1/GJnCU57wo6RWqSCkkZiMZbqMTwcQCD9rOsgwXynsCn1WBvJtZorGWGH6i3sWR\n",
       "szRsatD9Hqf08s6na1+o9jly9vuydKCt8ew+AdDCwCrR/WwjhddebdIq3ydHLTOp2kfwExLV4O2F\n",
       "5uKyY5YZvquGw8/cXm1Zfvq/qTE5usoqDMQ5IwEKV5i1wk32jgeE0FMo5P6E6Gw6Bu5/3UNNuAxG\n",
       "McIklqetoRfN/5NmwWZlSljxtg/Jmjo4vAt7AT+3d9Zk4R1gTctilz60w2Tr/c48yA0m6MYvgslB\n",
       "Yxot+0cArBdMUbyh8hh5mWhZq42nt1GAykdHGeJGJnPWWww5DfJEKAVTZia/RCUVzVB4d8n5PTu6\n",
       "HhaJ9fYQlkyRL6L6SOaiyjDcPjTVVbJ/bzv1tpL3f5f1oEZzcYzgTOwGMnWfSPFNht6crsX19PNQ\n",
       "pfWbXxnFyAMtJBKpgNsxB/HV80AIpf2J05aibnnRHqomQkhX5BvS11+7rlC6vcxO/PlBhHPjKWuG\n",
       "t/p1ErCD4mtn1wphx5kc8tohgNBCR7bFkXhsllFyx4l1jADCm+rLaYqOBSdn1emH/SX8cP8yC4yZ\n",
       "+SwXhSuD2+0RwmLw0w6PGWJc/Ps5CgiuD/4L2HwRFTYeOhOVKqB/pBrDRVQezd0plT4niFcZY55+\n",
       "KIGxgcsqj4RAH0iu/KWpw5+gyFhh9yyOEgTMoQNW/rjgvKFtC+5sZtin0q6mBlrsKjkOcOn1wpVj\n",
       "Ib2EO1FCUYp8DMyQ5WIulbX94rLuiU/FlH/0hfG7iU0DiD47JPEj7MX6DHlc2mn6VWLsYpJ6/noH\n",
       "Jh4U24YRB5HKKjssSfYP0xoLRjuaAIEsLIf5fdteUngWIpn7B0qKcpn1WxL54z69d17pZtBhhamH\n",
       "Ufp7lIu3/Ph3sGhxV7/r/Z8QdmllbGQFuPJNhq9X4LTJbw36y436AgrzABiOVRpe4APTBHxHnrIo\n",
       "RfY3xB+kByq0Qv4NBZzzwzhnNYu2bK9G3/+h1kjIRTwcxEadCfT2HkxKZngjtOrlIn/1rSmf6ZJ5\n",
       "lGHNwvTkfAPt1QSjKEQ6oq/Er+hODGSaZBLGjPgFGw+3dFpreauAz5bhuKXhRf1VW8ysYa5HLZpa\n",
       "k5B6QDtllX3u+IFSRLWG8V5AeNSW93wBWL0ZrNMGirgcQwwV2TQzKwVWblfOXSdMPV7nwg+5K6jp\n",
       "iui7AIRzzYMf68Q9k6PluTL/PQ3FXp2d3UaneqqN0Au+mQt/+E9xOfKYmYQjRrMtieQ/ulkWxsth\n",
       "xVwfr2GMrpJnh1xtCVJ0lq+qYBhJQwB26MlAE+wPha+1lY3sQoWO8nmo0QcER5P7taK7NIX/3A+g\n",
       "l1z6HO/EuW48QMx99K2fayZg3VmKww4LaEV3D8NIG6aTMuzq2EYSiGdWiyZWJaPzkG77dB3dWR4s\n",
       "Q4of1ke0kImHh9rXhTl27J5p5hru7Fb0gsAF8/4oi+0t2CHpagp4Z7CfkX7XIFnw4UzkcjodhREV\n",
       "2/ixp3UvSh7mjmKYIWeMFkWJdYawxgJ6UNLOzwRmdy29aUTnFSHG0NbhYD31R+WW05MHV99juODf\n",
       "OkeiWwh/Bz4uw3KKOyZhCl2MlOwerVh/InaJ7NI7v6EZ93/C/FVu1+5a8SIe4gyA0fX8pbqVtfNb\n",
       "2tWrHvuBkwA3w2brLcMV4esDSJz0esk6+SB9TuVA2Z1943FVZSp7ljBn3ikw3G2OgHCddADzYs1N\n",
       "tADp//6x5UPUmiNXG3enRnMetrxLg6zgj51y/cbzQaAL/lP5Ei1JQxiU2+pBPhnlCNTkBBz5BSGB\n",
       "/lY0osg/6AjySYsc9pTcDDDSlYMX2FiX0D0xNngOkUYSc8+aO0RHs0JiblVhCpPzIrKBO5gZzDiN\n",
       "FZ2Tbj4KRN3WoqWGGH7/EGdzks0Pql+UdqAG6syY3+sFYDjp6p6BBOpdBgwo90NyoqgYAAqSA29R\n",
       "kD1xwGfiUkypAAAN0EGaJGxD//6plgEUZBLgCaWMtWmzK4Bdui77vPxItJq5Mf/7A3gxh2F6x+A+\n",
       "T+y+vy68lTdlQln0bW8GXW53Olq5SdXrcwX5g+/qj6lo2kEBPP52P/XCilc8uu97cPZhkZcAzpSN\n",
       "aY/npvOAuG1fm50fdchGz3OsNw+WQHkVI7XmwAvfn7vXBJOKpzCNNrCvJEoFQlP8u6dM3VfdIyA7\n",
       "zTmztCLqmJwUNdvJESbgFvkjNfHbPREsRSUxfxPvqtw9AAbjZYz+HvcJnNDzXJD0WXmzNyVfQ0jH\n",
       "+1ZiDdRsNOpov3/sjT/OxtIzQ+P+WQbbXEBfZQh9zJF7joVtFILEMyKSvB+Ti77lkpnxBv0sJr9/\n",
       "q1B3/ddBywLyA+hgzkdNrnvCC/BeqhGT2d61gfAdOOaxbA1Y4jXtgzreZffNQnm5KNPtBcdqjT06\n",
       "+PMREF+UNEv9JyaswsRMBYk5Fb8F5Tn6U4Jcrahx788xtqC3h471+0obSCrTaf5eQkdvnpUkTech\n",
       "5YihD7tLbrTBuIsvrOfztdds/07JGJUhjYpup+Wi5AtSYcj5lY/qhzMbgl6jPJHhtEb8vWq0H42H\n",
       "LJgEpGGf77kKM4cGC/c1W2IxiExMLi4/3YySpArZnSg7cyywFQ4ThxAEk898n8RThdy+2CAbMajZ\n",
       "EIVjS6qNI1rz0jRxbtfjRjxcIr1hVHfyojtW3x9oltY/MmZVNmq0jKGOWyn/Xg1IFg0J+2SFkOoK\n",
       "/ajJK/4h9D5UgevdtPi+nvhdYs4txFCA3PNmcbqqJpuwDo/6MEghDVrPYzECI01gykOkpu3A/Vof\n",
       "hrb9eg9INLOKRABa8jTTRET2B26degUisRlrWHVdkmNPzgNYMMb1gPNukpixZjFkd0GEP/4O7M1p\n",
       "NuI74W5OszIRQrWh9YrVu0EwToikYc2lTw0T8tXacq8QAilMRt26M4BbbUFWQe3aBSSvRC/obk/5\n",
       "0vNPitFMC8Kq+tH6IwMkdWtYlriQbGusY27f8woXOwPA2JaDyHrIaE/D+al0SdDjnhS1jTrIPRj1\n",
       "2xIilZMHGbiqon574B3/C0qqdCrTFs5Cy2EaOCeUkiVJeFNOYoRdSy2G2fAPIKXZifiW5UK5y6Ih\n",
       "RT5OUgThO9vvzDsmk0ybILPIPLcwdhosThzwARBlHE7RHGiKWWdaTbuCg+YvdPSR8lcFVm7AML+z\n",
       "KRCTA8tzTlyxklMLVBVoFMBhAWAOtEESZhn0Z1dQdInvPv8om+q2LGs/LQTWvCPf+GsLR3P04RLU\n",
       "U0Kpp3u9wp3HFbNuic+LPTDJTEBWV8rk5ViL3sRcBA3g7IojOfELR99Yp+xpn4nE+JuZfEyygTg+\n",
       "1n/BRHT0H3DzhzG4QbFjNEquWj2HmKpoPZVNF2nF9iS6vgiGxUc8YlYko8gdGGE1SM5iZ9HkeTbl\n",
       "jHid/MhEY4T2Pb3KFZDXyw43UFGPobzQkne4ASTJEeAlV9K8Hz0EVz/NSEkbP7bSCvgrZ1E7QSHD\n",
       "aE4pPlN/QyZzciHL1AuxuY4L1xHeZmnTl5Esjl/uS4x2BB1w1+Nrrwecrru1E4yRSatPdvuYHBDH\n",
       "pRc5itGArwe1V+M3+9kw0rbjQqimgMZBi7H7eHgAR8P3CBoQjNJLLp7AB+Y3NJ9cVbScBYNiqv90\n",
       "NrV+bkTYJM74GZ4V5ALWiaJG9UP3FRp/x8RlJe9lFS8utdhawH2us0nVhKWGw+Fz3O1glKGpQEs8\n",
       "tCJ3zkOBVMVHdA6bpkXLziTYSK7KXjFcVsfcCos42d8g6xY3LStrnt1/xbXAOLCvnX/fLwQbnnTB\n",
       "C9/CCZBSu1oJoV6SPfj/ftj7p2dswMSKEBWL3Tlhz60boQ0pfY8UwU5lMbpYKl7J3Yokj0ppybt/\n",
       "/31rjzQ2wENwmfXQjsD3APwP1tdcVdt/BdmrURoELYUb9O2SSA3f95kl2Xer3jBmwr8I22ND8j1X\n",
       "uL1sVtXDqcxwP+zvdjHer/pPeuKOg/DF7UYo8RZ3wle8V8eoQYsvOSFZmpvhjDeMThXJJ7BuWqpa\n",
       "8t1DrKbaQrBTmeojtwF0zGnIOBZW//tttWEckyQ+bjql6CxYJ+KseK4JRLJc/UoKJDMoDyvzsWvi\n",
       "YvaDp2ereLOW+U67YJRiXx+USUqiGfagklVKlhPSLzhRneiVUqo83BcsYhW51AX1QC5bUkZfVZME\n",
       "3JyHz0pr1gqmR98lJD5/Xy3cChhFQDKD1eyN6hzZgAa5aj7+Il/+9e+PUfIXwOTFk23ZRrkiUe1X\n",
       "9fSlzjEeU+U784Z3i27vqpfwtWJgdRm4GI7jPfWprbT/0t1wJQkRiuTE//0CjyYF4b9qoyvNtVpI\n",
       "QnAT/ylqaiY8NFcDjC1VhEaGwIDxdTrizj0VjoXZ9IxUBu0uQgFZaGL/FJll9QC0Z3hitfWLqzeY\n",
       "NXR9nWWrVhLtdFdFat0MLTGzQYU2I8Co8Pe3Y/aosvzWDnoWYTsWrRwJtOxt7PSc7qkICcCQbhJl\n",
       "ZJHxOJbjOgU4HZewO2yA15WMaLID28+ux2ZRBcjaBw3qOOTDaZ0CiGWtWTlFJ6elcuNcduFT515p\n",
       "bxrH+PkidEJk44kbWuitovrEhpam7+njDe0kSAYFVgm17+1gvxob3J/iRvDd0v65M3NtDXAhkBsV\n",
       "JaHeiNilZb4C7JR3ufYI55YBYRg87Ufbq+dNuAN8SwcYnh8CA1tS1B1WfjrfiSdPZmy6Z5cbYCxo\n",
       "yddvTQY6SuEXSTSUe0WgEFBmHZ9UpPb3f+/FciJbbLpZq1ZxY0o/2H7jEY2n3t8APyU+rKYu8A3U\n",
       "rJmF95DGNK6oKe2pUafp/JQKl8hyHsxtY9L/fFCaR/K8JUWBRUGMFwbDz7VhGhqTTdZOpUxXm9yn\n",
       "gTtrBcdmC2O6Vpro8sz2vwBuVOI91qACViBLChH4xz3UnHF/6bGayMGQnt/S7kmLJIYSsOG+tut6\n",
       "3C3LqauoKog3RXzys/5f4dk7eM2BHvGxhMJg/edfjqRGBu5KJov+X1oTTwbQWVy+X3QW42s/ttKq\n",
       "XPbPntkPNTr/FcGXC5egrBB5wjDHXPrw1EG9kUAuZG+46hE2Hr1ejj+pYs6M8OUruGaC8Pcg9sUw\n",
       "v2xbK3YDGiydasA2Py1lj2Ez4WB3VERhJohNuq/Y2tS/4n62y3+oDVW3lcOXhRpwnap4SGwTB1jC\n",
       "PvrUUa5k8Q2mp4aPlNIZF6Vo3I32tnrcpuZIRkhAwCZJPiJg6jvdAbQ1hkiSRnz890oZLM8H7DDN\n",
       "lVsznxQLt7oPvkaDyMnbPZCeGhLCoUJcUsVh21JZzm7c4L9/6CESZSs/s79X4f0fFNiJ8FUtuYEQ\n",
       "ulKqKAArmoA0dCEa6g2hLeQBzXqnebkZV7zFnJpXdzSkSJNpjzLhdBZrl0BvHNFL0C6sJKrCwG3U\n",
       "1SgbiN+MNxuTyHyRuF2ZW32y0/kCApfIxaEeuhDB+GmtgabLp2qhyH5ZSVvB2on6fozym2bX210D\n",
       "4SxHQub8+o+nEl9GyzJ+BBer5MdNC3x0/Y4rs8d2OmSOaqTlr3u6KNJ6bsxGlSECmYXIIbPpPEmQ\n",
       "MVnz0Y+zHZTqR6oFIg8k6NEvgitf+zL+/f4XijcXbm8Pi206skg0ChQznb5//QGCTavqW27O+P9D\n",
       "WhzBvm3bd2CXUi88kZGk+HcpyI2XTLrwa9Kbj+nIutwjhBRtzP7j/zUFUjJ/ZgsOthtWVujkHe9Q\n",
       "XZ93ZX0LidQMWLnG1oJqTMWUzRy44uyiWHOACbQBfJxgpT+XwBw3z2WlX6/Eph3YOLzAcLhhJBkW\n",
       "nvLViBkdIr7FS9EM4xFBbAJViXSGTuuyO0r2DVoPk9vMoSEjcIVPzJJtE2n8CmUH/m63wbTJL81x\n",
       "GBwm6gzuXHnupw+DLdNj5gVGI1jQwEqETcOgx2iod8TNrZfGx7kOGilOXWA++Agj+hsh6bZvNSyV\n",
       "CjTYNsVaCdfLZwxQly8JonQTiEWwobUEJEweIzdlpr3NxWVRp2e3X18mbI2u7SJKEzTIt0eq2ANW\n",
       "pOB4hJhDaF3YY2R4jrrAG0XlMJFva3kcQU1QQN7En4Ly5tuA8Qv9Q3wxXlTxsOBDAkX9/NjmtVmh\n",
       "kNIwf6Bc/wvA1kTbBo7Rt4rfh85n/vmgyyiPuiTz0zupxZM1cw7mBDJ33IEVSrS+KaxDFHezezRs\n",
       "VUAVMDy43Wgf+tvQjt3lhQ62lkxqDNXUkVEeRnni6rvHp8LFu1L2XVhsEhjC3eW/WefewVKKbLfE\n",
       "bupfkb34X4gF5yV9chIDHH0i9AGKOgI21//mbOYvn4BPeCLqmdCDm0PiHdIk4F/9JtvP+BVxEtdG\n",
       "pleO///lhsYJLIq8bm9RXPOAQnKstOm1xtkb0RrTx5PuJCWdrNzI4ObrGx2NE7DEejkd0xZw5zl6\n",
       "i2ZQyB5jCk0RNzDsAZje46jpLplGc4JGUQ5lrW5eGCVq1mMt/0//y9LObz46oeUfpoUgfjWak8US\n",
       "OoFJLO4+KVI+Kbf7uMwkQ8njgUuwklM/NYxAGvMo7Id2PRvPk49uZz5U/0l3NG7HD8O01c3oaaFs\n",
       "cjTpkAbZNXCPj1NpaAjghcoZp7stu5dxlMorgkpWsLONzJ9gciyZYGaYGVMmuBbff5ZEDzDIt/2O\n",
       "mBYC8Yr1KeB8Qmrm9D1vHpYkc9uazbbtGp1fLU2Mlbt/FtuHLuxqD/rA6IA04nTTjncvf0SnbuXv\n",
       "DQ0bvzy76p4ICapfkqrgAAAAjUGeQniGfwCoKC+jY9OcC3MLwvZEWdlaTJtkqn+2zkhBDzf2KWCS\n",
       "f9Nq98Ld86jygtXgydcIALp+5IJabBW4qEPbxwslmtuHWacYXFfyl0tPs1T2mduymhg6SveZWLd4\n",
       "AQiHuA5hDWZOEPaVG7hSMQrY3Rsx+SyZr2QJOZ86gNnXaX+tcnsK1Fr28pK9uQAAAEQBnmF0Qr8B\n",
       "bIvxczETPiMCxN6ntphJbyn+AmNyAnOtStV4Gs/bXId/kZ/GxNn+XXn+PGSocVzuCAU3B+fFKl3K\n",
       "qNYdqAAAACwBnmNqQr8AhuwCFbuJJlJGMt+c/pC1yLBQy8bG1HxS0To4OOrk996UYEvHgQAAANBB\n",
       "mmhJqEFomUwIf//+qZYAygJqgB0rd+4t6zRGqBnlcr8T/G0XGFuUP6LsopwaeTQv31X27PUhKgRq\n",
       "kcPUEcyqK8zhQZz2fZ0xF331qkpX4YYPx80TCRTKH1vBrHkemlfaSlG43YfhWrVkdiLVoD7S/IUI\n",
       "10oFQmFyHBxMFnHV1OMQX8h+IlwGnnipNpl7FWQ6Kz2LtgiKnQoL/gCp3pY23FZ0WjXpKtXv+QwY\n",
       "MTZQ7O1YprDQ6WuednFcbKmCTcLhR3fX6917G313XgPUxRRVAAAALkGehkURLDP/AFiprsJMfAWR\n",
       "pFzbhohCApvLSXS0+KXDFM5AZrNsRkCzdBSiELEAAAAjAZ6ldEK/AIa6IBNBne4nwy6WdNCiujnL\n",
       "ZhgL4IYPd5n+gycAAAAbAZ6nakK/AIbsAhW7iSZSRjLfnP6FjNklRqRAAAAANkGarEmoQWyZTAh/\n",
       "//6plgAKT3JdAE41bB4pcaYLDdo4cXlFxNDILk2jk9R9YM2T/Ktyw09zrQAAACFBnspFFSwz/wBY\n",
       "qa7CTHwFkaRc24aIQgmsHUP8Fq+2QR8AAAAZAZ7pdEK/AIa6IBNBne4nwy6WdNBhfqd6QAAAABcB\n",
       "nutqQr8AhuwCFbuJJlJGMt+c/YmPtQAAABVBmvBJqEFsmUwIf//+qZYAAAMA8IEAAAAfQZ8ORRUs\n",
       "M/8AWKmuwkx8BZGkXNuGiEICm8s7NP9oQQAAABcBny10Qr8AhrogE0Gd7ifDLpZ0y7EZuQAAABcB\n",
       "ny9qQr8AhuwCFbuJJlJGMt+c/YmPtQAAABVBmzRJqEFsmUwIf//+qZYAAAMA8IAAAAAfQZ9SRRUs\n",
       "M/8AWKmuwkx8BZGkXNuGiEICm8s7NP9oQQAAABcBn3F0Qr8AhrogE0Gd7ifDLpZ0y7EZuAAAABcB\n",
       "n3NqQr8AhuwCFbuJJlJGMt+c/YmPtQAAABVBm3hJqEFsmUwIf//+qZYAAAMA8IEAAAAfQZ+WRRUs\n",
       "M/8AWKmuwkx8BZGkXNuGiEICm8s7NP9oQAAAABcBn7V0Qr8AhrogE0Gd7ifDLpZ0y7EZuQAAABcB\n",
       "n7dqQr8AhuwCFbuJJlJGMt+c/YmPtQAAABVBm7xJqEFsmUwIf//+qZYAAAMA8IAAAAAfQZ/aRRUs\n",
       "M/8AWKmuwkx8BZGkXNuGiEICm8s7NP9oQQAAABcBn/l0Qr8AhrogE0Gd7ifDLpZ0y7EZuAAAABcB\n",
       "n/tqQr8AhuwCFbuJJlJGMt+c/YmPtQAAABVBm+BJqEFsmUwIf//+qZYAAAMA8IEAAAAfQZ4eRRUs\n",
       "M/8AWKmuwkx8BZGkXNuGiEICm8s7NP9oQAAAABcBnj10Qr8AhrogE0Gd7ifDLpZ0y7EZuAAAABcB\n",
       "nj9qQr8AhuwCFbuJJlJGMt+c/YmPtQAAABVBmiRJqEFsmUwIf//+qZYAAAMA8IAAAAAfQZ5CRRUs\n",
       "M/8AWKmuwkx8BZGkXNuGiEICm8s7NP9oQQAAABcBnmF0Qr8AhrogE0Gd7ifDLpZ0y7EZuAAAABcB\n",
       "nmNqQr8AhuwCFbuJJlJGMt+c/YmPtQAAABVBmmhJqEFsmUwIf//+qZYAAAMA8IEAAAAfQZ6GRRUs\n",
       "M/8AWKmuwkx8BZGkXNuGiEICm8s7NP9oQQAAABcBnqV0Qr8AhrogE0Gd7ifDLpZ0y7EZuQAAABcB\n",
       "nqdqQr8AhuwCFbuJJlJGMt+c/YmPtQAAABVBmqxJqEFsmUwIf//+qZYAAAMA8IAAAAAfQZ7KRRUs\n",
       "M/8AWKmuwkx8BZGkXNuGiEICm8s7NP9oQQAAABcBnul0Qr8AhrogE0Gd7ifDLpZ0y7EZuAAAABcB\n",
       "nutqQr8AhuwCFbuJJlJGMt+c/YmPtQAAABVBmvBJqEFsmUwIf//+qZYAAAMA8IEAAAAfQZ8ORRUs\n",
       "M/8AWKmuwkx8BZGkXNuGiEICm8s7NP9oQQAAABcBny10Qr8AhrogE0Gd7ifDLpZ0y7EZuQAAABcB\n",
       "ny9qQr8AhuwCFbuJJlJGMt+c/YmPtQAAABVBmzRJqEFsmUwIf//+qZYAAAMA8IAAAAAfQZ9SRRUs\n",
       "M/8AWKmuwkx8BZGkXNuGiEICm8s7NP9oQQAAABcBn3F0Qr8AhrogE0Gd7ifDLpZ0y7EZuAAAABcB\n",
       "n3NqQr8AhuwCFbuJJlJGMt+c/YmPtQAAABVBm3hJqEFsmUwIf//+qZYAAAMA8IEAAAAfQZ+WRRUs\n",
       "M/8AWKmuwkx8BZGkXNuGiEICm8s7NP9oQAAAABcBn7V0Qr8AhrogE0Gd7ifDLpZ0y7EZuQAAABcB\n",
       "n7dqQr8AhuwCFbuJJlJGMt+c/YmPtQAAABVBm7xJqEFsmUwIf//+qZYAAAMA8IAAAAAfQZ/aRRUs\n",
       "M/8AWKmuwkx8BZGkXNuGiEICm8s7NP9oQQAAABcBn/l0Qr8AhrogE0Gd7ifDLpZ0y7EZuAAAABcB\n",
       "n/tqQr8AhuwCFbuJJlJGMt+c/YmPtQAAABVBm+BJqEFsmUwIf//+qZYAAAMA8IEAAAAfQZ4eRRUs\n",
       "M/8AWKmuwkx8BZGkXNuGiEICm8s7NP9oQAAAABcBnj10Qr8AhrogE0Gd7ifDLpZ0y7EZuAAAABcB\n",
       "nj9qQr8AhuwCFbuJJlJGMt+c/YmPtQAAABVBmiRJqEFsmUwIf//+qZYAAAMA8IAAAAAfQZ5CRRUs\n",
       "M/8AWKmuwkx8BZGkXNuGiEICm8s7NP9oQQAAABcBnmF0Qr8AhrogE0Gd7ifDLpZ0y7EZuAAAABcB\n",
       "nmNqQr8AhuwCFbuJJlJGMt+c/YmPtQAAABVBmmhJqEFsmUwIf//+qZYAAAMA8IEAAAAfQZ6GRRUs\n",
       "M/8AWKmuwkx8BZGkXNuGiEICm8s7NP9oQQAAABcBnqV0Qr8AhrogE0Gd7ifDLpZ0y7EZuQAAABcB\n",
       "nqdqQr8AhuwCFbuJJlJGMt+c/YmPtQAAABVBmqxJqEFsmUwIf//+qZYAAAMA8IAAAAAfQZ7KRRUs\n",
       "M/8AWKmuwkx8BZGkXNuGiEICm8s7NP9oQQAAABcBnul0Qr8AhrogE0Gd7ifDLpZ0y7EZuAAAABcB\n",
       "nutqQr8AhuwCFbuJJlJGMt+c/YmPtQAAABVBmvBJqEFsmUwIf//+qZYAAAMA8IEAAAAfQZ8ORRUs\n",
       "M/8AWKmuwkx8BZGkXNuGiEICm8s7NP9oQQAAABcBny10Qr8AhrogE0Gd7ifDLpZ0y7EZuQAAABcB\n",
       "ny9qQr8AhuwCFbuJJlJGMt+c/YmPtQAAABVBmzRJqEFsmUwIf//+qZYAAAMA8IAAAAAfQZ9SRRUs\n",
       "M/8AWKmuwkx8BZGkXNuGiEICm8s7NP9oQQAAABcBn3F0Qr8AhrogE0Gd7ifDLpZ0y7EZuAAAABcB\n",
       "n3NqQr8AhuwCFbuJJlJGMt+c/YmPtQAAABVBm3hJqEFsmUwIf//+qZYAAAMA8IEAAAAfQZ+WRRUs\n",
       "M/8AWKmuwkx8BZGkXNuGiEICm8s7NP9oQAAAABcBn7V0Qr8AhrogE0Gd7ifDLpZ0y7EZuQAAABcB\n",
       "n7dqQr8AhuwCFbuJJlJGMt+c/YmPtQAAABVBm7xJqEFsmUwIf//+qZYAAAMA8IAAAAAfQZ/aRRUs\n",
       "M/8AWKmuwkx8BZGkXNuGiEICm8s7NP9oQQAAABcBn/l0Qr8AhrogE0Gd7ifDLpZ0y7EZuAAAABcB\n",
       "n/tqQr8AhuwCFbuJJlJGMt+c/YmPtQAAABVBm+BJqEFsmUwIf//+qZYAAAMA8IEAAAAfQZ4eRRUs\n",
       "M/8AWKmuwkx8BZGkXNuGiEICm8s7NP9oQAAAABcBnj10Qr8AhrogE0Gd7ifDLpZ0y7EZuAAAABcB\n",
       "nj9qQr8AhuwCFbuJJlJGMt+c/YmPtQAAABVBmiRJqEFsmUwIf//+qZYAAAMA8IAAAAAfQZ5CRRUs\n",
       "M/8AWKmuwkx8BZGkXNuGiEICm8s7NP9oQQAAABcBnmF0Qr8AhrogE0Gd7ifDLpZ0y7EZuAAAABcB\n",
       "nmNqQr8AhuwCFbuJJlJGMt+c/YmPtQAAABVBmmhJqEFsmUwIf//+qZYAAAMA8IEAAAAfQZ6GRRUs\n",
       "M/8AWKmuwkx8BZGkXNuGiEICm8s7NP9oQQAAABcBnqV0Qr8AhrogE0Gd7ifDLpZ0y7EZuQAAABcB\n",
       "nqdqQr8AhuwCFbuJJlJGMt+c/YmPtQAAABVBmqxJqEFsmUwIf//+qZYAAAMA8IAAAAAfQZ7KRRUs\n",
       "M/8AWKmuwkx8BZGkXNuGiEICm8s7NP9oQQAAABcBnul0Qr8AhrogE0Gd7ifDLpZ0y7EZuAAAABcB\n",
       "nutqQr8AhuwCFbuJJlJGMt+c/YmPtQAAABVBmvBJqEFsmUwIf//+qZYAAAMA8IEAAAAfQZ8ORRUs\n",
       "M/8AWKmuwkx8BZGkXNuGiEICm8s7NP9oQQAAABcBny10Qr8AhrogE0Gd7ifDLpZ0y7EZuQAAABcB\n",
       "ny9qQr8AhuwCFbuJJlJGMt+c/YmPtQAAABVBmzRJqEFsmUwIf//+qZYAAAMA8IAAAAAfQZ9SRRUs\n",
       "M/8AWKmuwkx8BZGkXNuGiEICm8s7NP9oQQAAABcBn3F0Qr8AhrogE0Gd7ifDLpZ0y7EZuAAAABcB\n",
       "n3NqQr8AhuwCFbuJJlJGMt+c/YmPtQAAABVBm3hJqEFsmUwIf//+qZYAAAMA8IEAAAAfQZ+WRRUs\n",
       "M/8AWKmuwkx8BZGkXNuGiEICm8s7NP9oQAAAABcBn7V0Qr8AhrogE0Gd7ifDLpZ0y7EZuQAAABcB\n",
       "n7dqQr8AhuwCFbuJJlJGMt+c/YmPtQAAABVBm7xJqEFsmUwIf//+qZYAAAMA8IAAAAAfQZ/aRRUs\n",
       "M/8AWKmuwkx8BZGkXNuGiEICm8s7NP9oQQAAABcBn/l0Qr8AhrogE0Gd7ifDLpZ0y7EZuAAAABcB\n",
       "n/tqQr8AhuwCFbuJJlJGMt+c/YmPtQAAABVBm+BJqEFsmUwIf//+qZYAAAMA8IEAAAAfQZ4eRRUs\n",
       "M/8AWKmuwkx8BZGkXNuGiEICm8s7NP9oQAAAABcBnj10Qr8AhrogE0Gd7ifDLpZ0y7EZuAAAABcB\n",
       "nj9qQr8AhuwCFbuJJlJGMt+c/YmPtQAAABVBmiRJqEFsmUwIf//+qZYAAAMA8IAAAAAfQZ5CRRUs\n",
       "M/8AWKmuwkx8BZGkXNuGiEICm8s7NP9oQQAAABcBnmF0Qr8AhrogE0Gd7ifDLpZ0y7EZuAAAABcB\n",
       "nmNqQr8AhuwCFbuJJlJGMt+c/YmPtQAAABVBmmhJqEFsmUwIf//+qZYAAAMA8IEAAAAfQZ6GRRUs\n",
       "M/8AWKmuwkx8BZGkXNuGiEICm8s7NP9oQQAAABcBnqV0Qr8AhrogE0Gd7ifDLpZ0y7EZuQAAABcB\n",
       "nqdqQr8AhuwCFbuJJlJGMt+c/YmPtQAAABVBmqxJqEFsmUwIf//+qZYAAAMA8IAAAAAfQZ7KRRUs\n",
       "M/8AWKmuwkx8BZGkXNuGiEICm8s7NP9oQQAAABcBnul0Qr8AhrogE0Gd7ifDLpZ0y7EZuAAAABcB\n",
       "nutqQr8AhuwCFbuJJlJGMt+c/YmPtQAAABVBmvBJqEFsmUwIf//+qZYAAAMA8IEAAAAfQZ8ORRUs\n",
       "M/8AWKmuwkx8BZGkXNuGiEICm8s7NP9oQQAAABcBny10Qr8AhrogE0Gd7ifDLpZ0y7EZuQAAABcB\n",
       "ny9qQr8AhuwCFbuJJlJGMt+c/YmPtQAAABVBmzRJqEFsmUwIf//+qZYAAAMA8IAAAAAfQZ9SRRUs\n",
       "M/8AWKmuwkx8BZGkXNuGiEICm8s7NP9oQQAAABcBn3F0Qr8AhrogE0Gd7ifDLpZ0y7EZuAAAABcB\n",
       "n3NqQr8AhuwCFbuJJlJGMt+c/YmPtQAAABVBm3hJqEFsmUwIf//+qZYAAAMA8IEAAAAfQZ+WRRUs\n",
       "M/8AWKmuwkx8BZGkXNuGiEICm8s7NP9oQAAAABcBn7V0Qr8AhrogE0Gd7ifDLpZ0y7EZuQAAABcB\n",
       "n7dqQr8AhuwCFbuJJlJGMt+c/YmPtQAAABVBm7xJqEFsmUwIf//+qZYAAAMA8IAAAAAfQZ/aRRUs\n",
       "M/8AWKmuwkx8BZGkXNuGiEICm8s7NP9oQQAAABcBn/l0Qr8AhrogE0Gd7ifDLpZ0y7EZuAAAABcB\n",
       "n/tqQr8AhuwCFbuJJlJGMt+c/YmPtQAAABVBm+BJqEFsmUwIf//+qZYAAAMA8IEAAAAfQZ4eRRUs\n",
       "M/8AWKmuwkx8BZGkXNuGiEICm8s7NP9oQAAAABcBnj10Qr8AhrogE0Gd7ifDLpZ0y7EZuAAAABcB\n",
       "nj9qQr8AhuwCFbuJJlJGMt+c/YmPtQAAABVBmiRJqEFsmUwIf//+qZYAAAMA8IAAAAAfQZ5CRRUs\n",
       "M/8AWKmuwkx8BZGkXNuGiEICm8s7NP9oQQAAABcBnmF0Qr8AhrogE0Gd7ifDLpZ0y7EZuAAAABcB\n",
       "nmNqQr8AhuwCFbuJJlJGMt+c/YmPtQAAABVBmmhJqEFsmUwIf//+qZYAAAMA8IEAAAAfQZ6GRRUs\n",
       "M/8AWKmuwkx8BZGkXNuGiEICm8s7NP9oQQAAABcBnqV0Qr8AhrogE0Gd7ifDLpZ0y7EZuQAAABcB\n",
       "nqdqQr8AhuwCFbuJJlJGMt+c/YmPtQAAABVBmqxJqEFsmUwIf//+qZYAAAMA8IAAAAAfQZ7KRRUs\n",
       "M/8AWKmuwkx8BZGkXNuGiEICm8s7NP9oQQAAABcBnul0Qr8AhrogE0Gd7ifDLpZ0y7EZuAAAABcB\n",
       "nutqQr8AhuwCFbuJJlJGMt+c/YmPtQAAABVBmvBJqEFsmUwIf//+qZYAAAMA8IEAAAAfQZ8ORRUs\n",
       "M/8AWKmuwkx8BZGkXNuGiEICm8s7NP9oQQAAABcBny10Qr8AhrogE0Gd7ifDLpZ0y7EZuQAAABcB\n",
       "ny9qQr8AhuwCFbuJJlJGMt+c/YmPtQAAABVBmzRJqEFsmUwIf//+qZYAAAMA8IAAAAAfQZ9SRRUs\n",
       "M/8AWKmuwkx8BZGkXNuGiEICm8s7NP9oQQAAABcBn3F0Qr8AhrogE0Gd7ifDLpZ0y7EZuAAAABcB\n",
       "n3NqQr8AhuwCFbuJJlJGMt+c/YmPtQAAABVBm3hJqEFsmUwIf//+qZYAAAMA8IEAAAAfQZ+WRRUs\n",
       "M/8AWKmuwkx8BZGkXNuGiEICm8s7NP9oQAAAABcBn7V0Qr8AhrogE0Gd7ifDLpZ0y7EZuQAAABcB\n",
       "n7dqQr8AhuwCFbuJJlJGMt+c/YmPtQAAABVBm7xJqEFsmUwId//+qZYAAAMA8IAAAAAfQZ/aRRUs\n",
       "M/8AWKmuwkx8BZGkXNuGiEICm8s7NP9oQQAAABcBn/l0Qr8AhrogE0Gd7ifDLpZ0y7EZuAAAABcB\n",
       "n/tqQr8AhuwCFbuJJlJGMt+c/YmPtQAAABVBm+BJqEFsmUwId//+qZYAAAMA8IEAAAAfQZ4eRRUs\n",
       "M/8AWKmuwkx8BZGkXNuGiEICm8s7NP9oQAAAABcBnj10Qr8AhrogE0Gd7ifDLpZ0y7EZuAAAABcB\n",
       "nj9qQr8AhuwCFbuJJlJGMt+c/YmPtQAAABRBmiRJqEFsmUwIb//+p4QAAAMB3QAAAB9BnkJFFSwz\n",
       "/wBYqa7CTHwFkaRc24aIQgKbyzs0/2hBAAAAFwGeYXRCvwCGuiATQZ3uJ8MulnTLsRm4AAAAFwGe\n",
       "Y2pCvwCG7AIVu4kmUkYy35z9iY+1AAAAE0GaZ0moQWyZTAhX//44QAAAHHEAAAAeQZ6FRRUsL/8A\n",
       "duI2kZ05aCoR0KG3Qds4hDKbiXshAAAAFwGepmpCvwCG7AIVu4kmUkYy35z9iY+1AAAMhm1vb3YA\n",
       "AABsbXZoZAAAAAAAAAAAAAAAAAAAA+gAACcQAAEAAAEAAAAAAAAAAAAAAAABAAAAAAAAAAAAAAAA\n",
       "AAAAAQAAAAAAAAAAAAAAAAAAQAAAAAAAAAAAAAAAAAAAAAAAAAAAAAAAAAAAAAAAAAIAAAuwdHJh\n",
       "awAAAFx0a2hkAAAAAwAAAAAAAAAAAAAAAQAAAAAAACcQAAAAAAAAAAAAAAAAAAAAAAABAAAAAAAA\n",
       "AAAAAAAAAAAAAQAAAAAAAAAAAAAAAAAAQAAAAAGwAAABIAAAAAAAJGVkdHMAAAAcZWxzdAAAAAAA\n",
       "AAABAAAnEAAABAAAAQAAAAALKG1kaWEAAAAgbWRoZAAAAAAAAAAAAAAAAAAAKAAAAZAAVcQAAAAA\n",
       "AC1oZGxyAAAAAAAAAAB2aWRlAAAAAAAAAAAAAAAAVmlkZW9IYW5kbGVyAAAACtNtaW5mAAAAFHZt\n",
       "aGQAAAABAAAAAAAAAAAAAAAkZGluZgAAABxkcmVmAAAAAAAAAAEAAAAMdXJsIAAAAAEAAAqTc3Ri\n",
       "bAAAALNzdHNkAAAAAAAAAAEAAACjYXZjMQAAAAAAAAABAAAAAAAAAAAAAAAAAAAAAAGwASAASAAA\n",
       "AEgAAAAAAAAAAQAAAAAAAAAAAAAAAAAAAAAAAAAAAAAAAAAAAAAAAAAAABj//wAAADFhdmNDAWQA\n",
       "Ff/hABhnZAAVrNlBsJaEAAADAAQAAAMAoDxYtlgBAAZo6+PLIsAAAAAcdXVpZGtoQPJfJE/Fujml\n",
       "G88DI/MAAAAAAAAAGHN0dHMAAAAAAAAAAQAAAMgAAAIAAAAAFHN0c3MAAAAAAAAAAQAAAAEAAAZI\n",
       "Y3R0cwAAAAAAAADHAAAAAQAABAAAAAABAAAKAAAAAAEAAAQAAAAAAQAAAAAAAAABAAACAAAAAAEA\n",
       "AAoAAAAAAQAABAAAAAABAAAAAAAAAAEAAAIAAAAAAQAACgAAAAABAAAEAAAAAAEAAAAAAAAAAQAA\n",
       "AgAAAAABAAAKAAAAAAEAAAQAAAAAAQAAAAAAAAABAAACAAAAAAEAAAoAAAAAAQAABAAAAAABAAAA\n",
       "AAAAAAEAAAIAAAAAAQAACgAAAAABAAAEAAAAAAEAAAAAAAAAAQAAAgAAAAABAAAKAAAAAAEAAAQA\n",
       "AAAAAQAAAAAAAAABAAACAAAAAAEAAAoAAAAAAQAABAAAAAABAAAAAAAAAAEAAAIAAAAAAQAACgAA\n",
       "AAABAAAEAAAAAAEAAAAAAAAAAQAAAgAAAAABAAAKAAAAAAEAAAQAAAAAAQAAAAAAAAABAAACAAAA\n",
       "AAEAAAoAAAAAAQAABAAAAAABAAAAAAAAAAEAAAIAAAAAAQAACgAAAAABAAAEAAAAAAEAAAAAAAAA\n",
       "AQAAAgAAAAABAAAKAAAAAAEAAAQAAAAAAQAAAAAAAAABAAACAAAAAAEAAAoAAAAAAQAABAAAAAAB\n",
       "AAAAAAAAAAEAAAIAAAAAAQAACgAAAAABAAAEAAAAAAEAAAAAAAAAAQAAAgAAAAABAAAKAAAAAAEA\n",
       "AAQAAAAAAQAAAAAAAAABAAACAAAAAAEAAAoAAAAAAQAABAAAAAABAAAAAAAAAAEAAAIAAAAAAQAA\n",
       "CgAAAAABAAAEAAAAAAEAAAAAAAAAAQAAAgAAAAABAAAKAAAAAAEAAAQAAAAAAQAAAAAAAAABAAAC\n",
       "AAAAAAEAAAoAAAAAAQAABAAAAAABAAAAAAAAAAEAAAIAAAAAAQAACgAAAAABAAAEAAAAAAEAAAAA\n",
       "AAAAAQAAAgAAAAABAAAKAAAAAAEAAAQAAAAAAQAAAAAAAAABAAACAAAAAAEAAAoAAAAAAQAABAAA\n",
       "AAABAAAAAAAAAAEAAAIAAAAAAQAACgAAAAABAAAEAAAAAAEAAAAAAAAAAQAAAgAAAAABAAAKAAAA\n",
       "AAEAAAQAAAAAAQAAAAAAAAABAAACAAAAAAEAAAoAAAAAAQAABAAAAAABAAAAAAAAAAEAAAIAAAAA\n",
       "AQAACgAAAAABAAAEAAAAAAEAAAAAAAAAAQAAAgAAAAABAAAKAAAAAAEAAAQAAAAAAQAAAAAAAAAB\n",
       "AAACAAAAAAEAAAoAAAAAAQAABAAAAAABAAAAAAAAAAEAAAIAAAAAAQAACgAAAAABAAAEAAAAAAEA\n",
       "AAAAAAAAAQAAAgAAAAABAAAKAAAAAAEAAAQAAAAAAQAAAAAAAAABAAACAAAAAAEAAAoAAAAAAQAA\n",
       "BAAAAAABAAAAAAAAAAEAAAIAAAAAAQAACgAAAAABAAAEAAAAAAEAAAAAAAAAAQAAAgAAAAABAAAK\n",
       "AAAAAAEAAAQAAAAAAQAAAAAAAAABAAACAAAAAAEAAAoAAAAAAQAABAAAAAABAAAAAAAAAAEAAAIA\n",
       "AAAAAQAACgAAAAABAAAEAAAAAAEAAAAAAAAAAQAAAgAAAAABAAAKAAAAAAEAAAQAAAAAAQAAAAAA\n",
       "AAABAAACAAAAAAEAAAoAAAAAAQAABAAAAAABAAAAAAAAAAEAAAIAAAAAAQAACgAAAAABAAAEAAAA\n",
       "AAEAAAAAAAAAAQAAAgAAAAABAAAKAAAAAAEAAAQAAAAAAQAAAAAAAAABAAACAAAAAAEAAAoAAAAA\n",
       "AQAABAAAAAABAAAAAAAAAAEAAAIAAAAAAQAACgAAAAABAAAEAAAAAAEAAAAAAAAAAQAAAgAAAAAB\n",
       "AAAKAAAAAAEAAAQAAAAAAQAAAAAAAAABAAACAAAAAAEAAAoAAAAAAQAABAAAAAABAAAAAAAAAAEA\n",
       "AAIAAAAAAQAACgAAAAABAAAEAAAAAAEAAAAAAAAAAQAAAgAAAAABAAAKAAAAAAEAAAQAAAAAAQAA\n",
       "AAAAAAABAAACAAAAAAEAAAoAAAAAAQAABAAAAAABAAAAAAAAAAEAAAIAAAAAAQAACgAAAAABAAAE\n",
       "AAAAAAEAAAAAAAAAAQAAAgAAAAABAAAKAAAAAAEAAAQAAAAAAQAAAAAAAAABAAACAAAAAAEAAAgA\n",
       "AAAAAgAAAgAAAAAcc3RzYwAAAAAAAAABAAAAAQAAAMgAAAABAAADNHN0c3oAAAAAAAAAAAAAAMgA\n",
       "ABECAAAN1AAAAJEAAABIAAAAMAAAANQAAAAyAAAAJwAAAB8AAAA6AAAAJQAAAB0AAAAbAAAAGQAA\n",
       "ACMAAAAbAAAAGwAAABkAAAAjAAAAGwAAABsAAAAZAAAAIwAAABsAAAAbAAAAGQAAACMAAAAbAAAA\n",
       "GwAAABkAAAAjAAAAGwAAABsAAAAZAAAAIwAAABsAAAAbAAAAGQAAACMAAAAbAAAAGwAAABkAAAAj\n",
       "AAAAGwAAABsAAAAZAAAAIwAAABsAAAAbAAAAGQAAACMAAAAbAAAAGwAAABkAAAAjAAAAGwAAABsA\n",
       "AAAZAAAAIwAAABsAAAAbAAAAGQAAACMAAAAbAAAAGwAAABkAAAAjAAAAGwAAABsAAAAZAAAAIwAA\n",
       "ABsAAAAbAAAAGQAAACMAAAAbAAAAGwAAABkAAAAjAAAAGwAAABsAAAAZAAAAIwAAABsAAAAbAAAA\n",
       "GQAAACMAAAAbAAAAGwAAABkAAAAjAAAAGwAAABsAAAAZAAAAIwAAABsAAAAbAAAAGQAAACMAAAAb\n",
       "AAAAGwAAABkAAAAjAAAAGwAAABsAAAAZAAAAIwAAABsAAAAbAAAAGQAAACMAAAAbAAAAGwAAABkA\n",
       "AAAjAAAAGwAAABsAAAAZAAAAIwAAABsAAAAbAAAAGQAAACMAAAAbAAAAGwAAABkAAAAjAAAAGwAA\n",
       "ABsAAAAZAAAAIwAAABsAAAAbAAAAGQAAACMAAAAbAAAAGwAAABkAAAAjAAAAGwAAABsAAAAZAAAA\n",
       "IwAAABsAAAAbAAAAGQAAACMAAAAbAAAAGwAAABkAAAAjAAAAGwAAABsAAAAZAAAAIwAAABsAAAAb\n",
       "AAAAGQAAACMAAAAbAAAAGwAAABkAAAAjAAAAGwAAABsAAAAZAAAAIwAAABsAAAAbAAAAGQAAACMA\n",
       "AAAbAAAAGwAAABkAAAAjAAAAGwAAABsAAAAZAAAAIwAAABsAAAAbAAAAGQAAACMAAAAbAAAAGwAA\n",
       "ABkAAAAjAAAAGwAAABsAAAAZAAAAIwAAABsAAAAbAAAAGAAAACMAAAAbAAAAGwAAABcAAAAiAAAA\n",
       "GwAAABRzdGNvAAAAAAAAAAEAAAAsAAAAYnVkdGEAAABabWV0YQAAAAAAAAAhaGRscgAAAAAAAAAA\n",
       "bWRpcmFwcGwAAAAAAAAAAAAAAAAtaWxzdAAAACWpdG9vAAAAHWRhdGEAAAABAAAAAExhdmY1OC4y\n",
       "MC4xMDA=\n",
       "\">\n",
       "  Your browser does not support the video tag.\n",
       "</video>"
      ],
      "text/plain": [
       "<IPython.core.display.HTML object>"
      ]
     },
     "execution_count": 11,
     "metadata": {},
     "output_type": "execute_result"
    }
   ],
   "source": [
    "HTML(anim.to_html5_video())"
   ]
  },
  {
   "cell_type": "code",
   "execution_count": null,
   "metadata": {
    "lines_to_next_cell": 2
   },
   "outputs": [],
   "source": [
    "\n"
   ]
  }
 ],
 "metadata": {
  "jupytext": {
   "cell_metadata_filter": "all",
   "notebook_metadata_filter": "all",
   "text_representation": {
    "extension": ".py",
    "format_name": "percent",
    "format_version": "1.2",
    "jupytext_version": "1.0.0-rc4"
   }
  },
  "kernelspec": {
   "display_name": "Python 3",
   "language": "python",
   "name": "python3"
  },
  "language_info": {
   "codemirror_mode": {
    "name": "ipython",
    "version": 3
   },
   "file_extension": ".py",
   "mimetype": "text/x-python",
   "name": "python",
   "nbconvert_exporter": "python",
   "pygments_lexer": "ipython3",
   "version": "3.6.8"
  },
  "toc": {
   "base_numbering": 1,
   "nav_menu": {},
   "number_sections": true,
   "sideBar": true,
   "skip_h1_title": false,
   "title_cell": "Table of Contents",
   "title_sidebar": "Contents",
   "toc_cell": true,
   "toc_position": {
    "height": "calc(100% - 180px)",
    "left": "10px",
    "top": "150px",
    "width": "165px"
   },
   "toc_section_display": true,
   "toc_window_display": true
  }
 },
 "nbformat": 4,
 "nbformat_minor": 2
}
