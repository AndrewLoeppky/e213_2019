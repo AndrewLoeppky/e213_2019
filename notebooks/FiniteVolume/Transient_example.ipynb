{
 "cells": [
  {
   "cell_type": "markdown",
   "metadata": {
    "lines_to_next_cell": 0,
    "toc": true
   },
   "source": [
    "<h1>Table of Contents<span class=\"tocSkip\"></span></h1>\n",
    "<div class=\"toc\"><ul class=\"toc-item\"><li><span><a href=\"#Introduction\" data-toc-modified-id=\"Introduction-1\"><span class=\"toc-item-num\">1&nbsp;&nbsp;</span>Introduction</a></span></li><li><span><a href=\"#Initial-conditions\" data-toc-modified-id=\"Initial-conditions-2\"><span class=\"toc-item-num\">2&nbsp;&nbsp;</span>Initial conditions</a></span><ul class=\"toc-item\"><li><span><a href=\"#Save-these-into-a-dict-for-later-use\" data-toc-modified-id=\"Save-these-into-a-dict-for-later-use-2.1\"><span class=\"toc-item-num\">2.1&nbsp;&nbsp;</span>Save these into a dict for later use</a></span></li></ul></li><li><span><a href=\"#Steady-state\" data-toc-modified-id=\"Steady-state-3\"><span class=\"toc-item-num\">3&nbsp;&nbsp;</span>Steady state</a></span></li><li><span><a href=\"#Transient-behavior\" data-toc-modified-id=\"Transient-behavior-4\"><span class=\"toc-item-num\">4&nbsp;&nbsp;</span>Transient behavior</a></span></li></ul></div>"
   ]
  },
  {
   "cell_type": "markdown",
   "metadata": {
    "lines_to_next_cell": 0
   },
   "source": [
    "# Introduction"
   ]
  },
  {
   "cell_type": "code",
   "execution_count": 1,
   "metadata": {},
   "outputs": [],
   "source": [
    "import matplotlib.pyplot as plt\n",
    "import numpy as np"
   ]
  },
  {
   "cell_type": "code",
   "execution_count": 2,
   "metadata": {},
   "outputs": [],
   "source": [
    "\n",
    "\n",
    "def avg(Di, Dj):\n",
    "    \"\"\"\n",
    "    Computes the harmonic average between two values Di and Dj\n",
    "    Returns 0 if either of them is zero\n",
    "    \"\"\"\n",
    "    if (Di * Dj) == 0:\n",
    "        return 0\n",
    "    else:\n",
    "        return 2 / (1 / Di + 1 / Dj)"
   ]
  },
  {
   "cell_type": "code",
   "execution_count": 3,
   "metadata": {},
   "outputs": [],
   "source": [
    "def Build_1D_Inhomo_Matrix_Source(bc_left, bc_right, n, D, Width, poro, Q):\n",
    "    \"\"\"\n",
    "    Constructs a coefficient matrix and an array with varying diffusion coefficient and a source term\n",
    "    Parameters:\n",
    "    --------------\n",
    "    bc_left: (float)  left boundary condition\n",
    "    bc_right: (float) right boundary conditions\n",
    "    n (int): amounts of cells\n",
    "    D (float array): values of the diffusion coefficient\n",
    "    Width (float): Total phyiscal width of the domain\n",
    "    poro (float): porosity value\n",
    "    Q (float array): volumetric source term\n",
    "    Returns the matrix A, and the array b to solve the\n",
    "    discretized 1D diffusion problem Ax = b\n",
    "\n",
    "    ----------\n",
    "    \"\"\"\n",
    "    Matrix = np.zeros((n, n))\n",
    "    RHS = np.zeros(n)\n",
    "    dx = Width / (n - 1)\n",
    "    coef = poro / dx / dx\n",
    "    for i in range(n):\n",
    "        if i == 0:\n",
    "            RHS[i] = bc_left\n",
    "            Matrix[i, i] = 1\n",
    "        elif i == n - 1:\n",
    "            RHS[i] = bc_right\n",
    "            Matrix[i, i] = 1\n",
    "        else:\n",
    "            RHS[i] = Q[i]\n",
    "            East = coef * avg(D[i], D[i + 1])\n",
    "            West = coef * avg(D[i], D[i - 1])\n",
    "            Matrix[i, i] = East + West\n",
    "            Matrix[i, i + 1] = -East\n",
    "            Matrix[i, i - 1] = -West\n",
    "    return Matrix, RHS"
   ]
  },
  {
   "cell_type": "markdown",
   "metadata": {},
   "source": [
    "# Initial conditions"
   ]
  },
  {
   "cell_type": "code",
   "execution_count": 4,
   "metadata": {
    "lines_to_next_cell": 2
   },
   "outputs": [],
   "source": [
    "c_left = 1\n",
    "c_right = 0\n",
    "n = 50\n",
    "Diff = 2e-9\n",
    "D = Diff * np.ones(n)\n",
    "Q = np.zeros(n)\n",
    "Q[int(n / 4) : int(n / 2)] = 0.5e-8  # mg/L/s\n",
    "Width = 2\n",
    "poro = 0.4\n",
    "nTstp = 200\n",
    "dt = 1.0e7\n",
    "\n",
    "c_init = np.zeros((nTstp, n))"
   ]
  },
  {
   "cell_type": "markdown",
   "metadata": {},
   "source": [
    "comment about cell copy\n",
    "autograde at hump half way to equilibrium\n",
    "Units -- conversion from seconds to days\n",
    "comment units\n",
    "timestep 60, cell 20"
   ]
  },
  {
   "cell_type": "markdown",
   "metadata": {},
   "source": [
    "## Save these into a dict for later use"
   ]
  },
  {
   "cell_type": "code",
   "execution_count": 5,
   "metadata": {
    "lines_to_next_cell": 2
   },
   "outputs": [],
   "source": [
    "init_dict = dict(\n",
    "    c_left=c_left,\n",
    "    c_right=c_right,\n",
    "    c_init=c_init,\n",
    "    n=n,\n",
    "    Diff=Diff,\n",
    "    D=D,\n",
    "    Q=Q,\n",
    "    Width=Width,\n",
    "    poro=poro,\n",
    "    nTstp=nTstp,\n",
    "    dt=dt,\n",
    ")"
   ]
  },
  {
   "cell_type": "markdown",
   "metadata": {},
   "source": [
    "# Steady state"
   ]
  },
  {
   "cell_type": "code",
   "execution_count": 6,
   "metadata": {},
   "outputs": [
    {
     "data": {
      "text/plain": [
       "Text(0, 0.5, 'Concentration (mg/L)')"
      ]
     },
     "execution_count": 6,
     "metadata": {},
     "output_type": "execute_result"
    },
    {
     "data": {
      "image/png": "[encoded data removed]",
      "text/plain": [
       "<Figure size 432x288 with 1 Axes>"
      ]
     },
     "metadata": {
      "needs_background": "light"
     },
     "output_type": "display_data"
    }
   ],
   "source": [
    "x = np.linspace(0, Width, n)\n",
    "A, b = Build_1D_Inhomo_Matrix_Source(c_left, c_right, n, D, Width, poro, Q)\n",
    "\n",
    "c_final = np.linalg.solve(A, b)\n",
    "plt.plot(x, c_final, label=\"Concentration\")\n",
    "plt.xlabel(\"x-axis (m)\")\n",
    "plt.ylabel(\"Concentration (mg/L)\")"
   ]
  },
  {
   "cell_type": "markdown",
   "metadata": {},
   "source": [
    "# Transient behavior"
   ]
  },
  {
   "cell_type": "code",
   "execution_count": 7,
   "metadata": {},
   "outputs": [
    {
     "data": {
      "text/plain": [
       "<matplotlib.legend.Legend at 0x11ec20550>"
      ]
     },
     "execution_count": 7,
     "metadata": {},
     "output_type": "execute_result"
    },
    {
     "data": {
      "image/png": "[encoded data removed]",
      "text/plain": [
       "<Figure size 432x288 with 1 Axes>"
      ]
     },
     "metadata": {
      "needs_background": "light"
     },
     "output_type": "display_data"
    }
   ],
   "source": [
    "def calc_conc(\n",
    "    Diff=None,\n",
    "    D=None,\n",
    "    Width=None,\n",
    "    c_left=None,\n",
    "    c_right=None,\n",
    "    poro=None,\n",
    "    Q=None,\n",
    "    c_init=None,\n",
    "    n=None,\n",
    "    nTstp=None,\n",
    "    dt=None,\n",
    "):\n",
    "\n",
    "    x = np.linspace(0, Width, n)\n",
    "    A, b = Build_1D_Inhomo_Matrix_Source(c_left, c_right, n, D, Width, poro, Q)\n",
    "\n",
    "    c = c_init\n",
    "    Abis = np.zeros((n, n))\n",
    "    Bbis = np.zeros(n)\n",
    "    for t in range(nTstp - 1):\n",
    "        for i in range(n):\n",
    "            Abis[i, i] = poro / dt\n",
    "            Bbis[i] = c[t, i] * poro / dt\n",
    "        Aa = A + Abis\n",
    "        bb = b + Bbis\n",
    "        cnew = np.linalg.solve(Aa, bb)\n",
    "        c[t + 1, :] = cnew\n",
    "    return x, c\n",
    "\n",
    "\n",
    "x, c = calc_conc(**init_dict)\n",
    "\n",
    "plt.plot(x, c_final, label=\"Asymptotic concentration\")\n",
    "plt.plot(x, c[0, :], label=\"Initial concentration\")\n",
    "plt.plot(x, c[10, :], label=\"Concentration after 10 timestep\")\n",
    "plt.plot(x, c[30, :], label=\"Concentration after 30 timesteps\")\n",
    "plt.plot(x, c[60, :], label=\"Concentration after 60 timesteps\")\n",
    "plt.plot(x, c[nTstp - 1, :], label=\"Concentration after 100 timesteps\")\n",
    "plt.xlabel(\"x-axis (m)\")\n",
    "plt.ylabel(\"Concentration (mg/L)\")\n",
    "plt.legend()"
   ]
  },
  {
   "cell_type": "code",
   "execution_count": 8,
   "metadata": {
    "lines_to_next_cell": 2
   },
   "outputs": [
    {
     "data": {
      "image/png": "[encoded data removed]",
      "text/plain": [
       "<Figure size 432x288 with 1 Axes>"
      ]
     },
     "metadata": {
      "needs_background": "light"
     },
     "output_type": "display_data"
    }
   ],
   "source": [
    "def make_animation(init_dict):\n",
    "    image_list = []\n",
    "    x, c = calc_conc(**init_dict)\n",
    "    fig, ax = plt.subplots()\n",
    "    ax.set_xlim((0, 2.0))\n",
    "    ax.set_ylim((0, 25.0))\n",
    "    nsteps, nvals = c.shape\n",
    "    for index in range(nsteps):\n",
    "        line = ax.plot(x, c[index, :], \"r-\", lw=2)\n",
    "        image_list.append(line)\n",
    "    return fig, image_list\n",
    "\n",
    "\n",
    "fig, image_list = make_animation(init_dict)"
   ]
  },
  {
   "cell_type": "code",
   "execution_count": 9,
   "metadata": {},
   "outputs": [],
   "source": [
    "movie = False\n",
    "if movie:\n",
    "    import matplotlib.animation as animation\n",
    "    from IPython.display import HTML\n",
    "\n",
    "    anim = animation.ArtistAnimation(\n",
    "        fig, image_list, interval=50, blit=True, repeat_delay=1000\n",
    "    )"
   ]
  },
  {
   "cell_type": "code",
   "execution_count": 10,
   "metadata": {
    "lines_to_next_cell": 0
   },
   "outputs": [],
   "source": [
    "if movie:\n",
    "    HTML(anim.to_html5_video())"
   ]
  },
  {
   "cell_type": "code",
   "execution_count": null,
   "metadata": {},
   "outputs": [],
   "source": []
  }
 ],
 "metadata": {
  "jupytext": {
   "cell_metadata_filter": "all",
   "notebook_metadata_filter": "all",
   "text_representation": {
    "extension": ".py",
    "format_name": "percent",
    "format_version": "1.2",
    "jupytext_version": "1.0.0-rc4"
   }
  },
  "kernelspec": {
   "display_name": "Python 3",
   "language": "python",
   "name": "python3"
  },
  "language_info": {
   "codemirror_mode": {
    "name": "ipython",
    "version": 3
   },
   "file_extension": ".py",
   "mimetype": "text/x-python",
   "name": "python",
   "nbconvert_exporter": "python",
   "pygments_lexer": "ipython3",
   "version": "3.6.8"
  },
  "toc": {
   "base_numbering": 1,
   "nav_menu": {},
   "number_sections": true,
   "sideBar": true,
   "skip_h1_title": false,
   "title_cell": "Table of Contents",
   "title_sidebar": "Contents",
   "toc_cell": true,
   "toc_position": {
    "height": "calc(100% - 180px)",
    "left": "10px",
    "top": "150px",
    "width": "165px"
   },
   "toc_section_display": true,
   "toc_window_display": true
  }
 },
 "nbformat": 4,
 "nbformat_minor": 2
}
