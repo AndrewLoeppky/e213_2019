{
 "cells": [
  {
   "cell_type": "markdown",
   "metadata": {
    "lines_to_next_cell": 0
   },
   "source": [
    "# Practising Euler's method"
   ]
  },
  {
   "cell_type": "markdown",
   "metadata": {
    "lines_to_next_cell": 0
   },
   "source": [
    "## Objectives\n",
    "\n",
    "This notebook is designed for you to get more practise with the basics of Euler's methods. It is designed to solve a motion equation with a drag force. Newton's second law describes:\n",
    "\n",
    "\\begin{equation}\n",
    "\\frac{d^2 y}{dt^2} = \\frac{F(t)}{m}\n",
    "\\end{equation}\n",
    "\n",
    "which indicates that the acceleration (on the y-axis) is proportional to the total force applied on the object. The gravity force writess\n",
    "\n",
    "\\begin{equation}\n",
    "F_{\\text{gravity}} = - mg\n",
    "\\end{equation}\n",
    "\n",
    "If we study an object in free-fall, and a y-axis oriented towards the sky, the force of gravity pulls towards the negative-y (hence a negative sign). If we consider a drag force proportional to the velocity squared, it yields: \n",
    "\n",
    "\\begin{equation}\n",
    "F_{\\text{drag}} = \\beta v_y^2\n",
    "\\end{equation}\n",
    "\n",
    "the latter is reponsible for a force opposed to the free-fall, hence towards the positive y.\n",
    "\n",
    "Therefore, the ODE writes, with $\\alpha = \\frac{\\beta}{m}$:\n",
    "\n",
    "\\begin{equation}\n",
    "\\frac{d^2 y}{dt^2} = \\alpha v_y^2(t) - g\n",
    "\\end{equation}\n",
    "\n",
    "This second-order equation can be written in the forms of two first-order equations:\n",
    "\n",
    "\\begin{equation}\n",
    "\\left \\lbrace\n",
    "\\begin{array}{lll}\n",
    "\\frac{dy}{dt} & = &  v_y \\\\\n",
    "\\frac{dv_y}{dt} & = &  \\alpha v_y^2(t) - g\n",
    "\\end{array}\n",
    "\\right.\n",
    "\\end{equation}\n",
    "\n",
    "We will study the evolution of position $y(t)$ and velocity $v_y(t)$ when dropping (initial velocity $v_{y,0} = 0$ an object from an initial altitude of 8848m (top of the Everest, $ = y_0$).\n",
    "\n",
    "The initial conditions (at $t=0$) are then:\n",
    "\n",
    "\\begin{equation}\n",
    "\\left \\lbrace\n",
    "\\begin{array}{lllll}\n",
    "y(0) & = & y_0 & = &  8848 \\text{ m}  \\\\\n",
    "v_y(0) & = & v_{y,0} & = & 0 \\text{ m/s}\n",
    "\\end{array}\n",
    "\\right.\n",
    "\\end{equation}"
   ]
  },
  {
   "cell_type": "markdown",
   "metadata": {},
   "source": [
    "### Forward Euler's approach\n",
    "\n",
    "We will use forward Euler's method to solve:\n",
    "\n",
    "\\begin{equation}\n",
    "\\left \\lbrace\n",
    "\\begin{array}{lll}\n",
    "\\frac{dy}{dt} & = &  v_y \\\\\n",
    "\\frac{dv_y}{dt} & = &  \\alpha v_y^2(t) - g\n",
    "\\end{array}\n",
    "\\right.\n",
    "\\end{equation}\n",
    "\n",
    "This approach aims at \"discretizing\" time in small intervals, during which the right-hand sides of the previous equations are supposed to be constant (this is only true for infinitesimal timesteps, but this is the Euler approximation). \n",
    "\n",
    "Taking the first equation\n",
    "\n",
    "\\begin{equation}\n",
    "\\frac{dy}{dt} =  v_y\n",
    "\\end{equation}\n",
    "\n",
    "If $v_y$ is constant, that means we can integrate it:\n",
    "\n",
    "\\begin{equation}\n",
    "\\Delta y =  v_y \\Delta t\n",
    "\\end{equation}\n",
    "\n",
    "And, by definition $\\Delta y = y(t_0+\\Delta t) - y(t_0)$. So that means that, between two timesteps, we can always write:\n",
    "\\begin{equation}\n",
    "y(t_0 + \\Delta t) = y(t_0) +  v_y(t_0) \\Delta t\n",
    "\\end{equation}\n",
    "\n",
    "Here, we also have to do the same to compute the velocity evolution. Second equation yields:\n",
    "\n",
    "\\begin{equation}\n",
    "\\frac{dv_y}{dt} =  \\alpha v_y^2(t) - g\n",
    "\\end{equation}\n",
    "\n",
    "Using the same approximation that the right-hand side is constant between [$t_0$;$t_0 + \\Delta t$]:\n",
    "\n",
    "\\begin{equation}\n",
    "\\Delta v_y =  (\\alpha v_y^2(t_0) - g)\\Delta t\n",
    "\\end{equation}\n",
    "\n",
    "Which gives:\n",
    "\\begin{equation}\n",
    "v_y(t_0 + \\Delta t) = v_y(t_0) + (\\alpha v_y^2(t_0) - g)\\Delta t\n",
    "\\end{equation}\n",
    "\n",
    "That is all there is to know about forward Euler's methods. So, for the first timestep (after a time $\\Delta t$), these become (since initial time is 0):\n",
    "\n",
    "\\begin{equation}\n",
    "\\left \\lbrace\n",
    "\\begin{array}{lll}\n",
    "v_y(\\Delta t) & = &  v_y(0) + (\\alpha v_y^2(0) - g)\\Delta t  \\\\\n",
    "y(\\Delta t) & = &  y(0) +  v_y(0) \\Delta t  \\\\\n",
    "\\end{array}\n",
    "\\right.\n",
    "\\end{equation}\n",
    "\n",
    "And because $y(0)=8848$ and $v_y(0) = 0$, this leads to\n",
    "\n",
    "\\begin{equation}\n",
    "\\left \\lbrace\n",
    "\\begin{array}{lll}\n",
    "v_y(\\Delta t) & = & -g \\Delta t \\\\\n",
    "y(\\Delta t) & = &  8848 \\\\\n",
    "\\end{array}\n",
    "\\right.\n",
    "\\end{equation}\n",
    "\n",
    "For further timesteps, it is always the same routine, we only have to use the solution at the previous timestep. So, as a pseudo code:\n",
    "\n",
    "\\begin{equation}\n",
    "\\left \\lbrace\n",
    "\\begin{array}{lll}\n",
    "v_y^{t+1} & = &  v_y^{t} + (\\alpha (v_y^{t})^2 - g)\\Delta t  \\\\\n",
    "y^{t+1} & = &  y^{t} +  v_y^{t} \\Delta t  \\\\\n",
    "\\end{array}\n",
    "\\right.\n",
    "\\end{equation}\n",
    "This is exactly what you need to put in your loop to compute the position and velocity after each timestep.\n",
    "\n",
    "Solve the problem using initially\n",
    "- a timestep of 0.1 seconds\n",
    "- a total duration of 60 seconds\n",
    "- a gravitational acceleration of 9.81 m/s$^2$\n",
    "- a drag coefficient $\\alpha$ of 0.0005 m$^{-1}$\n",
    "\n",
    "What is the \"final\" velocity? At which altitude is the object after 10 seconds? after 60 seconds? What is its velocity after 10 seconds?\n",
    "\n",
    "\n",
    " \n"
   ]
  },
  {
   "cell_type": "code",
   "execution_count": 17,
   "metadata": {},
   "outputs": [],
   "source": [
    "import numpy as np\n",
    "from matplotlib import pyplot as plt\n",
    "\n",
    "dt = 0.1 # seconds\n",
    "alpha = 0.0005 \n",
    "g = 9.81\n",
    "Tf = 60 # seconds\n",
    "n = int(1+Tf/dt)\n",
    "\n",
    "# The rest is yours to make, declare the arrays, do the loop and plots"
   ]
  },
  {
   "cell_type": "code",
   "execution_count": 18,
   "metadata": {},
   "outputs": [
    {
     "data": {
      "text/plain": [
       "[Text(0, 0.5, 'Velocity (m/s)'), Text(0.5, 0, 'Time (s)')]"
      ]
     },
     "execution_count": 18,
     "metadata": {},
     "output_type": "execute_result"
    },
    {
     "data": {
      "image/png": "[encoded data removed]",
      "text/plain": [
       "<Figure size 576x576 with 2 Axes>"
      ]
     },
     "metadata": {
      "needs_background": "light"
     },
     "output_type": "display_data"
    }
   ],
   "source": [
    "y = np.zeros(n,float)\n",
    "vy = np.zeros(n,float)\n",
    "time = np.linspace(0,Tf,n)\n",
    "vy[0] = 0\n",
    "y[0] = 8848\n",
    "\n",
    "for i in range (n-1):\n",
    "    vy[i+1] = vy[i] + dt*(alpha*vy[i]**2-g)\n",
    "    y[i+1] = y[i] + dt*vy[i]\n",
    "    \n",
    "\n",
    "fig, (ax1, ax2) = plt.subplots(2, 1, figsize=(8, 8))\n",
    "ax1.plot(time, y, label=\"Altitude\")\n",
    "ax1.set(xlabel=\"Time (s)\", ylabel=\"Altitude (m)\")\n",
    "ax2.plot(time, -vy, label=\"Absolute velocity\")\n",
    "ax2.set(xlabel=\"Time (s)\", ylabel=\"Velocity (m/s)\")\n",
    "\n",
    "\n"
   ]
  },
  {
   "cell_type": "code",
   "execution_count": 21,
   "metadata": {},
   "outputs": [
    {
     "name": "stdout",
     "output_type": "stream",
     "text": [
      "Velocity after 10.0 seconds is 84.82813787462555 m/s,\n",
      "\n",
      "Velocity after 60.0 seconds is 140.01173220127535 m/s,\n",
      "\n",
      "Altitude after 10.0 seconds is 8396.68808169888 m,\n",
      "\n",
      "Altitude after 60.0 seconds is 1832.2991185533488 m,\n",
      "\n"
     ]
    }
   ],
   "source": [
    "print(f\"Velocity after {time[100]} seconds is {-vy[100]} m/s,\\n\")\n",
    "print(f\"Velocity after {time[n-1]} seconds is {-vy[n-1]} m/s,\\n\")\n",
    "print(f\"Altitude after {time[100]} seconds is {y[100]} m,\\n\")\n",
    "print(f\"Altitude after {time[n-1]} seconds is {y[n-1]} m,\\n\")"
   ]
  },
  {
   "cell_type": "markdown",
   "metadata": {},
   "source": [
    "It was measured that the final velocity of an object in the atmosphere (when speed increases, drag increases, preventing further acceleration) is 53 m/s. \n",
    "\n",
    "We will try to find the value of $\\alpha$ to match that. Try to find this value:\n",
    "- Analytically\n",
    "- Confirm the value through simulation"
   ]
  },
  {
   "cell_type": "markdown",
   "metadata": {},
   "source": [
    "Maximum speed when acceleration is zero:\n",
    "\n",
    "\\begin{equation}\n",
    "\\begin{array}{llll}\n",
    "& \\frac{dv_y}{dt} & = & 0 \\\\\n",
    "\\Longleftrightarrow & \\alpha v_{y,max}^2 - g & = &  0 \\\\\n",
    "\\Longleftrightarrow & v_{y,max}^2 & = & \\frac{g}{\\alpha} \\\\\n",
    "\\Longleftrightarrow & v_{y,max} & = & \\sqrt{\\frac{g}{\\alpha}} \\\\\n",
    "\\end{array}\n",
    "\\end{equation}\n",
    "\n",
    "In our case, $v_{y,max}$ is 53 m/s, so that means:\n",
    "\n",
    "\\begin{equation}\n",
    "\\alpha = \\frac{g}{v_{y,max}^2} \\approx 0.00349 \\text{m}^{-1}\n",
    "\\end{equation}"
   ]
  },
  {
   "cell_type": "code",
   "execution_count": 22,
   "metadata": {},
   "outputs": [
    {
     "name": "stdout",
     "output_type": "stream",
     "text": [
      "Velocity after 60.0 seconds is 53.01781069061016 m/s,\n",
      "\n"
     ]
    },
    {
     "data": {
      "image/png": "[encoded data removed]",
      "text/plain": [
       "<Figure size 576x576 with 2 Axes>"
      ]
     },
     "metadata": {
      "needs_background": "light"
     },
     "output_type": "display_data"
    }
   ],
   "source": [
    "alpha = 0.00349\n",
    "for i in range (n-1):\n",
    "    vy[i+1] = vy[i] + dt*(alpha*vy[i]**2-g)\n",
    "    y[i+1] = y[i] + dt*vy[i]\n",
    "    \n",
    "fig, (ax1, ax2) = plt.subplots(2, 1, figsize=(8, 8))\n",
    "ax1.plot(time, y, label=\"Position\")\n",
    "ax1.set(xlabel=\"Time (s)\", ylabel=\"Position (m)\")\n",
    "ax1.legend()\n",
    "\n",
    "ax2.plot(time, -vy, label=\"Absolute velocity\")\n",
    "ax2.set(xlabel=\"Time (s)\", ylabel=\"Velocity (m/s)\")\n",
    "ax2.legend()\n",
    "\n",
    "print(f\"Velocity after {time[n-1]} seconds is {-vy[n-1]} m/s,\\n\")\n"
   ]
  },
  {
   "cell_type": "code",
   "execution_count": null,
   "metadata": {},
   "outputs": [],
   "source": []
  }
 ],
 "metadata": {
  "jupytext": {
   "cell_metadata_filter": "all",
   "formats": "",
   "notebook_metadata_filter": "all",
   "text_representation": {
    "extension": ".py",
    "format_name": "percent",
    "format_version": "1.2",
    "jupytext_version": "0.8.6"
   }
  },
  "kernelspec": {
   "display_name": "Python 3",
   "language": "python",
   "name": "python3"
  },
  "language_info": {
   "codemirror_mode": {
    "name": "ipython",
    "version": 3
   },
   "file_extension": ".py",
   "mimetype": "text/x-python",
   "name": "python",
   "nbconvert_exporter": "python",
   "pygments_lexer": "ipython3",
   "version": "3.6.5"
  },
  "toc": {
   "base_numbering": 1,
   "nav_menu": {},
   "number_sections": true,
   "sideBar": true,
   "skip_h1_title": false,
   "title_cell": "Table of Contents",
   "title_sidebar": "Contents",
   "toc_cell": true,
   "toc_position": {},
   "toc_section_display": true,
   "toc_window_display": true
  }
 },
 "nbformat": 4,
 "nbformat_minor": 2
}
