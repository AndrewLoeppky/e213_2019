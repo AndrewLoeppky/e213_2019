{
 "cells": [
  {
   "cell_type": "code",
   "execution_count": 2,
   "metadata": {
    "lines_to_next_cell": 2,
    "nbgrader": {
     "grade": false,
     "grade_id": "cell-e58a84ffce31f93a",
     "locked": true,
     "schema_version": 1,
     "solution": false
    },
    "scrolled": true
   },
   "outputs": [
    {
     "name": "stdout",
     "output_type": "stream",
     "text": [
      "It looks like I am being run as a main program\n",
      "My name is teri_module_2D\n",
      "\n",
      "\n"
     ]
    }
   ],
   "source": [
    "import time\n",
    "\n",
    "import matplotlib.cm as cmap\n",
    "import matplotlib.pyplot as plt\n",
    "import numpy as np\n",
    "from teri_module_2D import Boundary_Def\n",
    "from teri_module_2D import build_2D_matrix\n",
    "from teri_module_2D import mat2vec\n",
    "from teri_module_2D import Problem_Def\n",
    "from teri_module_2D import vec2mat\n",
    "from teri_module_2D import index_to_row_col\n",
    "from mpl_toolkits.axes_grid1 import AxesGrid\n",
    "from scipy.sparse import csr_matrix\n",
    "from scipy.sparse.linalg import spsolve\n",
    "import matplotlib.animation as animation\n",
    "import matplotlib.pyplot as plt\n",
    "import numpy as np\n",
    "from IPython.display import display\n",
    "from IPython.display import HTML\n",
    "from numpy.testing import assert_allclose\n",
    "import math"
   ]
  },
  {
   "cell_type": "code",
   "execution_count": 3,
   "metadata": {},
   "outputs": [],
   "source": [
    "H = 14  #Head Pressure on one side of dam"
   ]
  },
  {
   "cell_type": "code",
   "execution_count": 4,
   "metadata": {},
   "outputs": [],
   "source": [
    "#Need to define H as it changes through the tailings dam\n",
    "#Need to define phreatic line\n",
    "#reference https://nptel.ac.in/courses/105104132/Module2/lecture10.pdf\n",
    "#j is iterations\n",
    "#A is length of tailings dam\n",
    "#H is total head pressure\n",
    "\n",
    "\n",
    "def find_phreatic(H,A,r):\n",
    "    x_p=np.zeros(r)\n",
    "    y_p=np.zeros(r)\n",
    "    p=0.5*(math.sqrt(H*H+A*A)-A)\n",
    "    for j in range(r-1):\n",
    "        y_p[0]=H\n",
    "        y_p[j+1]=y_p[j]-(H/r)\n",
    "        \n",
    "        \n",
    "        \n",
    "    for j in range (r-1):\n",
    "        x_p[j]=A-((y_p[j]*y_p[j]-4*p*p)/(4*p))\n",
    "        if x_p[j]<0:\n",
    "            x_p[j]=0\n",
    "        if x_p[j]>A:\n",
    "            x_p[j]=A\n",
    "        \n",
    "        \n",
    "    return x_p, y_p"
   ]
  },
  {
   "cell_type": "code",
   "execution_count": 5,
   "metadata": {},
   "outputs": [
    {
     "name": "stdout",
     "output_type": "stream",
     "text": [
      "[  0.           2.00113148   3.98215109   5.94305883   7.88385469\n",
      "   9.80453868  11.70511079  13.58557103  15.44591939  17.28615588\n",
      "  19.1062805   20.90629324  22.68619411  24.4459831   26.18566022\n",
      "  27.90522546  29.60467883  31.28402033  32.94324995  34.5823677\n",
      "  36.20137357  37.80026757  39.3790497   40.93771995  42.47627833\n",
      "  43.99472483  45.49305946  46.97128221  48.42939309  49.8673921\n",
      "  51.28527923  52.68305449  54.06071787  55.41826938  56.75570902\n",
      "  58.07303678  59.37025266  60.64735667  61.90434881  63.14122908\n",
      "  64.35799747  65.55465398  66.73119862  67.88763139  69.02395228\n",
      "  70.1401613   71.23625845  72.31224372  73.36811711  74.40387863\n",
      "  75.41952828  76.41506605  77.39049195  78.34580598  79.28100813\n",
      "  80.1960984   81.09107681  81.96594334  82.82069799  83.65534077\n",
      "  84.46987167  85.26429071  86.03859786  86.79279314  87.52687655\n",
      "  88.24084809  88.93470775  89.60845553  90.26209145  90.89561548\n",
      "  91.50902765  92.10232794  92.67551635  93.22859289  93.76155756\n",
      "  94.27441035  94.76715127  95.23978031  95.69229748  96.12470278\n",
      "  96.5369962   96.92917775  97.30124742  97.65320522  97.98505114\n",
      "  98.29678519  98.58840737  98.85991767  99.1113161   99.34260265\n",
      "  99.55377733  99.74484013  99.91579107 100.         100.\n",
      " 100.         100.         100.         100.           0.        ]\n",
      "[15.   14.85 14.7  14.55 14.4  14.25 14.1  13.95 13.8  13.65 13.5  13.35\n",
      " 13.2  13.05 12.9  12.75 12.6  12.45 12.3  12.15 12.   11.85 11.7  11.55\n",
      " 11.4  11.25 11.1  10.95 10.8  10.65 10.5  10.35 10.2  10.05  9.9   9.75\n",
      "  9.6   9.45  9.3   9.15  9.    8.85  8.7   8.55  8.4   8.25  8.1   7.95\n",
      "  7.8   7.65  7.5   7.35  7.2   7.05  6.9   6.75  6.6   6.45  6.3   6.15\n",
      "  6.    5.85  5.7   5.55  5.4   5.25  5.1   4.95  4.8   4.65  4.5   4.35\n",
      "  4.2   4.05  3.9   3.75  3.6   3.45  3.3   3.15  3.    2.85  2.7   2.55\n",
      "  2.4   2.25  2.1   1.95  1.8   1.65  1.5   1.35  1.2   1.05  0.9   0.75\n",
      "  0.6   0.45  0.3   0.15]\n"
     ]
    }
   ],
   "source": [
    "len_dam=100\n",
    "H=15\n",
    "ylen=20\n",
    "r=90\n",
    "x_p,y_p=find_phreatic(H,len_dam,len_dam)\n",
    "print(x_p)\n",
    "print(y_p)"
   ]
  },
  {
   "cell_type": "code",
   "execution_count": 52,
   "metadata": {
    "nbgrader": {
     "grade": false,
     "grade_id": "cell-f97ab996f12bd2f2",
     "locked": true,
     "schema_version": 1,
     "solution": false
    }
   },
   "outputs": [],
   "source": [
    "# Here we create 4 boundaries, west has a constant concentration at c0, east has a constant boundary at 0;\n",
    "west = Boundary_Def(\"flux\", val=0.005)\n",
    "east = Boundary_Def(\"const\", val=0)\n",
    "\n",
    "# For 1D problem, the used boundaries are west and east.\n",
    "\n",
    "# The other south and north boundaries have a zero flux (impermeable)\n",
    "\n",
    "north = Boundary_Def(\"flux\", val=0) # not important since the phreatic line will govern most of it\n",
    "south = Boundary_Def(\"flux\", val=0)\n",
    "bc_dict = {\"west\": west, \"north\": north, \"east\": east, \"south\": south}\n",
    "# The latter array bc_dict will be sent to the different functions"
   ]
  },
  {
   "cell_type": "code",
   "execution_count": null,
   "metadata": {},
   "outputs": [],
   "source": []
  },
  {
   "cell_type": "code",
   "execution_count": 13,
   "metadata": {
    "nbgrader": {
     "grade": false,
     "grade_id": "cell-ea536fa5b54285e2",
     "locked": true,
     "schema_version": 1,
     "solution": false
    }
   },
   "outputs": [],
   "source": []
  },
  {
   "cell_type": "markdown",
   "metadata": {
    "nbgrader": {
     "grade": false,
     "grade_id": "cell-7bfb0e282680103b",
     "locked": true,
     "schema_version": 1,
     "solution": false
    }
   },
   "source": [
    "## 2D transient diffusion in homogeneous media\n",
    "\n",
    "Going from 1 to 2 dimensions changes nothing conceptually. There are, however a couple of changes required for the coding perspective. Indeed, whether the problem is 1D or 2D or 3D, the stucture of the system of equation Ac = b is the same. Matrix $A$ will always be a $n \\times n$ matrix, while $c$ and $b$ will always be column vector of size $n$. In 2D, $n = n_x \\times n_y$, while in 3D, it will be $n = n_x \\times n_y \\times n_z$.  The individual equation for a cell still\n",
    "produces a single row in the A and b matrices, but in 2D that cell has 4 neighbours instead\n",
    "of 2, and 3D it has 6 neighbors intead of 4.\n",
    "\n",
    "However, the fact is that in every case, the solution is stored in one vector, representing either a 1/2/3D solution. For these higher dimension problems, a two-way conversion between vector and matrix is required. To plot the 2D result, for example, we will use colourmap plots, which require the solution to be plotted to be represented as a 2D array (matrix).\n",
    "\n",
    "The function vec2mat(...) (specifically $vector\\ to\\ matrix$) does this: it converts a vector into the relevant 2D matrix, using n_x and n_y.\n",
    "\n",
    "The reverse function is usually required to initialize the initial condition. It is mac2vec(...). These two functions are defined here below."
   ]
  },
  {
   "cell_type": "code",
   "execution_count": 23,
   "metadata": {},
   "outputs": [],
   "source": [
    "decreasing_factor = 0.1  # Feel free to change if you want to see the impact\n",
    "# (you can go higher than 1 ... But be careful, if diffusion speeds up significantly,\n",
    "# the accuracy with respect to the chosen timestep might not be so good if you speed things up! )\n",
    "# Initial value is 0.01"
   ]
  },
  {
   "cell_type": "code",
   "execution_count": 24,
   "metadata": {
    "lines_to_next_cell": 2,
    "nbgrader": {
     "grade": false,
     "grade_id": "cell-42d47ff484f9a502",
     "locked": true,
     "schema_version": 1,
     "solution": false
    }
   },
   "outputs": [],
   "source": [
    "#Diff = 2e-9 * 100 * 24 * 3600  # dm²/day"
   ]
  },
  {
   "cell_type": "code",
   "execution_count": 53,
   "metadata": {
    "lines_to_next_cell": 2,
    "nbgrader": {
     "grade": false,
     "grade_id": "cell-b9bd7eaf90619a64",
     "locked": true,
     "schema_version": 1,
     "solution": false
    },
    "scrolled": true
   },
   "outputs": [
    {
     "data": {
      "image/png": "[encoded data removed]",
      "text/plain": [
       "<Figure size 432x288 with 2 Axes>"
      ]
     },
     "metadata": {
      "needs_background": "light"
     },
     "output_type": "display_data"
    },
    {
     "data": {
      "image/png": "[encoded data removed]",
      "text/plain": [
       "<Figure size 432x288 with 1 Axes>"
      ]
     },
     "metadata": {
      "needs_background": "light"
     },
     "output_type": "display_data"
    }
   ],
   "source": [
    "# Here we define the initial condition, and the diffusion matrix for the 2D problem\n",
    "\n",
    "\n",
    "def make_D_matrix(the_problem, K, decreasing_factor):\n",
    "    Diff_low = K * decreasing_factor\n",
    "    n_x, n_y = the_problem.nx, the_problem.ny\n",
    "    width_x, width_y = the_problem.wx, the_problem.wy\n",
    "    D_matrix = K * np.ones((n_y, n_x))\n",
    "\n",
    "\n",
    "\n",
    "    \n",
    "    #\n",
    "    # overwrite the center of the image with a low diffusivity\n",
    "    #\n",
    "    #for i in range(n_y):\n",
    "     #   for j in range(n_x):\n",
    "      #      if (\n",
    "       #         abs(x[j] - width_x / 2) <= 0.2 * width_x\n",
    "        #        and abs(y[i] - width_y / 2) <= 0.2 * width_y\n",
    "         #   ):\n",
    "          #      D_matrix[i, j] = Diff_low\n",
    "           #     # here we define a square of low diffusivity in the middle\n",
    "    return D_matrix\n",
    "\n",
    "import pdb\n",
    "import matplotlib.pyplot as plt\n",
    "from matplotlib.colors import LogNorm\n",
    "sat_matrix = np.zeros((len_dam,len_dam))\n",
    "head = np.zeros((len_dam,len_dam))\n",
    "c=ylen/len_dam\n",
    "length_y_p=len(y_p)\n",
    "#print (length_y_p)\n",
    "y = np.arange(0,ylen,c)\n",
    "length_of_y=len(y)\n",
    "#print(y)\n",
    "width_x = 10  # dm\n",
    "width_y = 10  # dm\n",
    "n_x = length_y_p\n",
    "n_y = n_x\n",
    "K = 0.001\n",
    "the_prob = Problem_Def(n_x, n_y, K, width_x, width_y)\n",
    "prob = Problem_Def(n_x, n_y, K, width_x, width_y)\n",
    "Qsource = np.zeros((n_y, n_x))\n",
    "D_matrix = make_D_matrix(prob, K, decreasing_factor)\n",
    "#print(D_matrix) \n",
    "for j in range(length_y_p):\n",
    "    for i in range(length_of_y):\n",
    "        if y_p[j]>=y[i]:\n",
    "            sat_matrix[i,j] = 1\n",
    "        else:\n",
    "            #print(f\"debug {i,j}\" )\n",
    "            #if i==2 and j==22:\n",
    "                #pdb.set_trace()\n",
    "            sat_matrix[i,j]=0\n",
    "            #head_2D[i,j]=0\n",
    "A, b = build_2D_matrix(bc_dict,prob, D_matrix, Qsource,K,y_p, sat_matrix)\n",
    "head_array = np.linalg.solve(A, b)\n",
    "\n",
    "n = n_x * n_y\n",
    "head_2D = vec2mat(head_array, n_y, n_x)\n",
    "prob = Problem_Def(n_x, n_y, K, width_x, width_y)\n",
    "\n",
    "\n",
    "#plt.contourf(sat_matrix)\n",
    "#plt.colorbar()\n",
    "y1, x1 = np.mgrid[slice(0, ylen, c),\n",
    "                slice(0, len_dam, 1)]\n",
    "plt.pcolormesh(x1,y1,sat_matrix)\n",
    "plt.colorbar()\n",
    "\n",
    "#width_x = 10  # dm\n",
    "#width_y = 10  # dm\n",
    "#n_y = n_x\n",
    "#K = 0.001\n",
    "\n",
    "#the_prob = Problem_Def(n_x, n_y, K, width_x, width_y)\n",
    "#D_matrix = make_D_matrix(the_prob, K, decreasing_factor)\n",
    "fig, ax = plt.subplots()\n",
    "# This generates a colormap of diffusion.\n",
    "cm = cmap.get_cmap(\"magma\")\n",
    "#plt.contourf(x1, y1, D_matrix, cmap=cm)\n",
    "#plt.colorbar()\n",
    "\n",
    "# \"magma\" refers to a colormap example. You can chose other ones\n",
    "# https://matplotlib.org/examples/color/colormaps_reference.html"
   ]
  },
  {
   "cell_type": "markdown",
   "metadata": {},
   "source": [
    "This is the 2-D steady state solution using the regular (non-sparse, slow) solver np.linalg.solve"
   ]
  },
  {
   "cell_type": "code",
   "execution_count": 54,
   "metadata": {
    "nbgrader": {
     "grade": false,
     "grade_id": "cell-bbb5e477a2fcd825",
     "locked": true,
     "schema_version": 1,
     "solution": false
    },
    "scrolled": true
   },
   "outputs": [
    {
     "data": {
      "text/plain": [
       "<matplotlib.colorbar.Colorbar at 0x7f37f4d246a0>"
      ]
     },
     "execution_count": 54,
     "metadata": {},
     "output_type": "execute_result"
    },
    {
     "data": {
      "image/png": "[encoded data removed]",
      "text/plain": [
       "<Figure size 432x288 with 2 Axes>"
      ]
     },
     "metadata": {
      "needs_background": "light"
     },
     "output_type": "display_data"
    }
   ],
   "source": [
    "# Here we give you the asymptotic solution to the problem\n",
    "# we are using everything we have done before\n",
    "\n",
    "### Asymptotic behavior\n",
    "\n",
    "#Qsource = np.zeros((n_y, n_x))\n",
    "#A, b = build_2D_matrix(bc_dict, the_prob, D_matrix, Qsource,K,y_p)\n",
    "#head_array = np.linalg.solve(A, b)\n",
    "#n = n_x * n_y\n",
    "#print(head_array)\n",
    "# array v contains the solution\n",
    "# we convert it in a matrix:\n",
    "\n",
    "#c = vec2mat(head_array, n_y, n_x)\n",
    "\n",
    "# and we plot the matrix\n",
    "plt.contourf(x1, y1, head_2D, 20, cmap=cm)\n",
    "plt.colorbar()"
   ]
  },
  {
   "cell_type": "code",
   "execution_count": 12,
   "metadata": {},
   "outputs": [
    {
     "name": "stdout",
     "output_type": "stream",
     "text": [
      "[[ 0.   0.   0.  ...  0.   0.   0. ]\n",
      " [ 0.2  0.2  0.2 ...  0.2  0.2  0.2]\n",
      " [ 0.4  0.4  0.4 ...  0.4  0.4  0.4]\n",
      " ...\n",
      " [19.4 19.4 19.4 ... 19.4 19.4 19.4]\n",
      " [19.6 19.6 19.6 ... 19.6 19.6 19.6]\n",
      " [19.8 19.8 19.8 ... 19.8 19.8 19.8]]\n"
     ]
    }
   ],
   "source": [
    "print(y1)"
   ]
  },
  {
   "cell_type": "code",
   "execution_count": null,
   "metadata": {},
   "outputs": [],
   "source": []
  },
  {
   "cell_type": "markdown",
   "metadata": {},
   "source": [
    "This solves the problem using the fast sparse solver spsolve (use this one!)"
   ]
  },
  {
   "cell_type": "code",
   "execution_count": 13,
   "metadata": {
    "scrolled": true
   },
   "outputs": [],
   "source": [
    "# Here we give you the asymptotic solution to the problem\n",
    "# we are using everything we have done before\n",
    "\n",
    "### Asymptotic behavior\n",
    "\n",
    "#poro = 0.4\n",
    "#prob = Problem_Def(n_x, n_y, poro, width_x, width_y)\n",
    "#Qsource = np.zeros((n_y, n_x))\n",
    "#A, b = build_2D_matrix(bc_dict, prob, D_matrix, Qsource)\n",
    "#A = csr_matrix(A, copy=True)\n",
    "\n",
    "#v = spsolve(A, b)\n",
    "#n = n_x * n_y\n",
    "# # array v contains the solution\n",
    "# # we convert it in a matrix:\n",
    "\n",
    "#c = vec2mat(v, n_y, n_x)\n",
    "\n",
    "# # and we plot the matrix\n",
    "#plt.contourf(x, y, c, 20, cmap=cm)\n",
    "#plt.colorbar()"
   ]
  },
  {
   "cell_type": "code",
   "execution_count": 55,
   "metadata": {},
   "outputs": [
    {
     "name": "stderr",
     "output_type": "stream",
     "text": [
      "/home/nseigneur/.local/lib/python3.6/site-packages/ipykernel_launcher.py:25: DeprecationWarning: The truth value of an empty array is ambiguous. Returning False, but in future this will result in an error. Use `array.size > 0` to check that an array is not empty.\n"
     ]
    }
   ],
   "source": [
    "psi = np.zeros((n_y, n_x))\n",
    "\n",
    "vx = np.zeros((n_y,n_x))\n",
    "vy = np.zeros((n_y,n_x))\n",
    "\n",
    "dx = 1 #problem.wx / (problem.nx - 1)\n",
    "dy = 1 #problem.wy / (problem.ny - 1)\n",
    "n = n_x * n_y\n",
    "\n",
    "for ind in range(n):\n",
    "    \n",
    "    i, j = index_to_row_col(ind, n_y, n_x)\n",
    "    if(sat_matrix[i,j] == 1):\n",
    "        if i == 0:  # SOUTH BOUNDARY\n",
    "            if(sat_matrix[i+1,j] == 1):\n",
    "                vy[i,j] = (head_2D[i+1,j]-head_2D[i,j])/dy\n",
    "            \n",
    "            if j == 0:\n",
    "                vx[i,j] = (head_2D[i,j+1]-head_2D[i,j])/dx\n",
    "            elif j == n_x - 1:\n",
    "                vx[i,j] = (head_2D[i,j]-head_2D[i,j-1])/dx\n",
    "            else:\n",
    "                vx[i,j] = (head_2D[i,j+1]-head_2D[i,j-1])/2/dx  \n",
    "        elif j == 0:   # WEST BOUNDARY\n",
    "            if(sat_matrix[i,j+1] !=0 and sat_matrix[i+1,j != 0]):\n",
    "                vx[i,j] = (head_2D[i,j+1]-head_2D[i,j])/dx\n",
    "                if i == n_y-1:\n",
    "                    vy[i,j] = (head_2D[i,j]-head_2D[i-1,j])/dy\n",
    "                else:\n",
    "                    vy[i,j]=(head_2D[i+1,j]-head_2D[i-1,j])/2/dy  \n",
    "                    \n",
    "        elif i == n_y - 1: # NORTH BOUNDARY: should not happen\n",
    "            vy[i,j] = (head_2D[i,j]-head_2D[i-1,j])/dy\n",
    "            if j == n_x - 1:\n",
    "                vx[i,j] = (head_2D[i,j]-head_2D[i,j-1])/dx\n",
    "            else:\n",
    "                vx[i,j] = (head_2D[i,j+1]-head_2D[i,j-1])/2/dx\n",
    "        elif j == n_x - 1:  # EAST BOUNDARY\n",
    "            if(sat_matrix[i,j-1] !=0 and sat_matrix[i+1,j != 0]):\n",
    "                vx[i,j] = (head_2D[i,j]-head_2D[i,j-1])/dx\n",
    "                if i == n_y - 1:\n",
    "                    vy[i,j] = (head_2D[i,j]-head_2D[i-1,j])/dy\n",
    "                else:\n",
    "                    vy[i,j]=(head_2D[i+1,j]-head_2D[i-1,j])/2/dy\n",
    "        else:\n",
    "            if(sat_matrix[i,j+1] == 1 and sat_matrix[i+1,j] == 1):\n",
    "                vx[i,j] = (head_2D[i,j+1]-head_2D[i,j-1])/2/dx\n",
    "                vy[i,j] = (head_2D[i+1,j]-head_2D[i-1,j])/2/dy\n",
    "        \n",
    "        \n",
    "        \n",
    "           "
   ]
  },
  {
   "cell_type": "code",
   "execution_count": 48,
   "metadata": {},
   "outputs": [
    {
     "data": {
      "image/png": "[encoded data removed]",
      "text/plain": [
       "<Figure size 432x288 with 2 Axes>"
      ]
     },
     "metadata": {
      "needs_background": "light"
     },
     "output_type": "display_data"
    }
   ],
   "source": [
    "plt.contourf(x1, y1, vy, 20, cmap=cm);\n",
    "plt.colorbar()  ;"
   ]
  },
  {
   "cell_type": "code",
   "execution_count": 56,
   "metadata": {},
   "outputs": [
    {
     "data": {
      "image/png": "[encoded data removed]",
      "text/plain": [
       "<Figure size 432x288 with 2 Axes>"
      ]
     },
     "metadata": {
      "needs_background": "light"
     },
     "output_type": "display_data"
    }
   ],
   "source": [
    "plt.contourf(x1, y1, -vx, 20, cmap=cm);\n",
    "plt.colorbar()  ;"
   ]
  },
  {
   "cell_type": "code",
   "execution_count": 57,
   "metadata": {},
   "outputs": [
    {
     "data": {
      "text/plain": [
       "<matplotlib.colorbar.Colorbar at 0x7f3860798550>"
      ]
     },
     "execution_count": 57,
     "metadata": {},
     "output_type": "execute_result"
    },
    {
     "data": {
      "image/png": "[encoded data removed]",
      "text/plain": [
       "<Figure size 432x288 with 2 Axes>"
      ]
     },
     "metadata": {
      "needs_background": "light"
     },
     "output_type": "display_data"
    }
   ],
   "source": [
    "psi = np.zeros((n_y,n_x))\n",
    "psi[0,0] = 0\n",
    "for i in range(n_y):\n",
    "    for j in range (n_x):\n",
    "        if (j == 0 and i!=0):\n",
    "            psi[i,j] = psi[i-1,j]-vx[i-1,j]\n",
    "        elif(i > 0 and j > 0 and sat_matrix[i,j] > 0):\n",
    "            psi[i,j] = psi[i,j-1] + vy[i,j-1]\n",
    "            \n",
    "\n",
    "plt.contourf(x1, y1, psi, 20, cmap=cm)\n",
    "plt.colorbar()     "
   ]
  },
  {
   "cell_type": "code",
   "execution_count": 58,
   "metadata": {},
   "outputs": [
    {
     "data": {
      "image/png": "[encoded data removed]",
      "text/plain": [
       "<Figure size 1080x720 with 1 Axes>"
      ]
     },
     "metadata": {
      "needs_background": "light"
     },
     "output_type": "display_data"
    }
   ],
   "source": [
    "fig, ax = plt.subplots(1,1,figsize=(15,10))\n",
    "cs=ax.contour(x1, y1, psi, levels=[0.2,0.6,1.0,1.4,1.8,2.0,2.2], colors='k')\n",
    "ax.set_aspect(1)\n",
    "ax.clabel(cs,[0.2,0.6,1.0,1.4,1.8, 2.0,2.2],fmt=\"%3.1f\");\n",
    "ax.grid(True)"
   ]
  },
  {
   "cell_type": "code",
   "execution_count": null,
   "metadata": {},
   "outputs": [],
   "source": []
  }
 ],
 "metadata": {
  "jupytext": {
   "cell_metadata_filter": "all",
   "formats": "ipynb,python//py:percent",
   "notebook_metadata_filter": "all"
  },
  "kernelspec": {
   "display_name": "Python 3",
   "language": "python",
   "name": "python3"
  },
  "language_info": {
   "codemirror_mode": {
    "name": "ipython",
    "version": 3
   },
   "file_extension": ".py",
   "mimetype": "text/x-python",
   "name": "python",
   "nbconvert_exporter": "python",
   "pygments_lexer": "ipython3",
   "version": "3.6.5"
  },
  "toc": {
   "base_numbering": 1,
   "nav_menu": {},
   "number_sections": true,
   "sideBar": true,
   "skip_h1_title": false,
   "title_cell": "Table of Contents",
   "title_sidebar": "Contents",
   "toc_cell": false,
   "toc_position": {},
   "toc_section_display": true,
   "toc_window_display": false
  }
 },
 "nbformat": 4,
 "nbformat_minor": 2
}
